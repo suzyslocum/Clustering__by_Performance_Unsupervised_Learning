{
 "cells": [
  {
   "cell_type": "markdown",
   "metadata": {},
   "source": [
    "# Module 10 Application\n",
    "\n",
    "## Challenge: Crypto Investments\n",
    "\n",
    "In this Challenge, you’ll combine your financial Python programming skills with the new unsupervised learning skills that you acquired in this module.\n",
    "\n",
    "The CSV file provided for this challenge contains price change data of cryptocurrencies in different periods.\n",
    "\n",
    "The steps for this challenge are broken out into the following sections:\n",
    "\n",
    "* Import the Data (provided in the starter code)\n",
    "* Prepare the Data (provided in the starter code)\n",
    "* Cluster Cryptocurrencies with K-means\n",
    "* Find the Best Value for k\n",
    "* Optimize Clusters with Principal Component Analysis\n",
    "* Visualize the Results"
   ]
  },
  {
   "cell_type": "markdown",
   "metadata": {},
   "source": [
    "### Import the Data\n",
    "\n",
    "This section imports the data into a new DataFrame. It follows these steps:\n",
    "\n",
    "1. Read  the “crypto_market_data.csv” file from the Resources folder into a DataFrame, and use `index_col=\"coin_id\"` to set the cryptocurrency name as the index. Review the DataFrame.\n",
    "\n",
    "2. Generate the summary statistics, and and use HvPlot to visualize your data to observe what your DataFrame contains.\n",
    "\n",
    "\n",
    "> **Rewind:** The [Pandas`describe()`function](https://pandas.pydata.org/pandas-docs/stable/reference/api/pandas.DataFrame.describe.html) generates summary statistics for a DataFrame. "
   ]
  },
  {
   "cell_type": "code",
   "execution_count": 78,
   "metadata": {},
   "outputs": [],
   "source": [
    "# Import required libraries and dependencies\n",
    "import pandas as pd\n",
    "import hvplot.pandas\n",
    "from path import Path\n",
    "from sklearn.cluster import KMeans\n",
    "from sklearn.decomposition import PCA\n",
    "from sklearn.preprocessing import StandardScaler"
   ]
  },
  {
   "cell_type": "code",
   "execution_count": 79,
   "metadata": {},
   "outputs": [
    {
     "data": {
      "text/html": [
       "<div>\n",
       "<style scoped>\n",
       "    .dataframe tbody tr th:only-of-type {\n",
       "        vertical-align: middle;\n",
       "    }\n",
       "\n",
       "    .dataframe tbody tr th {\n",
       "        vertical-align: top;\n",
       "    }\n",
       "\n",
       "    .dataframe thead th {\n",
       "        text-align: right;\n",
       "    }\n",
       "</style>\n",
       "<table border=\"1\" class=\"dataframe\">\n",
       "  <thead>\n",
       "    <tr style=\"text-align: right;\">\n",
       "      <th></th>\n",
       "      <th>price_change_percentage_24h</th>\n",
       "      <th>price_change_percentage_7d</th>\n",
       "      <th>price_change_percentage_14d</th>\n",
       "      <th>price_change_percentage_30d</th>\n",
       "      <th>price_change_percentage_60d</th>\n",
       "      <th>price_change_percentage_200d</th>\n",
       "      <th>price_change_percentage_1y</th>\n",
       "    </tr>\n",
       "    <tr>\n",
       "      <th>coin_id</th>\n",
       "      <th></th>\n",
       "      <th></th>\n",
       "      <th></th>\n",
       "      <th></th>\n",
       "      <th></th>\n",
       "      <th></th>\n",
       "      <th></th>\n",
       "    </tr>\n",
       "  </thead>\n",
       "  <tbody>\n",
       "    <tr>\n",
       "      <th>bitcoin</th>\n",
       "      <td>1.08388</td>\n",
       "      <td>7.60278</td>\n",
       "      <td>6.57509</td>\n",
       "      <td>7.67258</td>\n",
       "      <td>-3.25185</td>\n",
       "      <td>83.51840</td>\n",
       "      <td>37.51761</td>\n",
       "    </tr>\n",
       "    <tr>\n",
       "      <th>ethereum</th>\n",
       "      <td>0.22392</td>\n",
       "      <td>10.38134</td>\n",
       "      <td>4.80849</td>\n",
       "      <td>0.13169</td>\n",
       "      <td>-12.88890</td>\n",
       "      <td>186.77418</td>\n",
       "      <td>101.96023</td>\n",
       "    </tr>\n",
       "    <tr>\n",
       "      <th>tether</th>\n",
       "      <td>-0.21173</td>\n",
       "      <td>0.04935</td>\n",
       "      <td>0.00640</td>\n",
       "      <td>-0.04237</td>\n",
       "      <td>0.28037</td>\n",
       "      <td>-0.00542</td>\n",
       "      <td>0.01954</td>\n",
       "    </tr>\n",
       "    <tr>\n",
       "      <th>ripple</th>\n",
       "      <td>-0.37819</td>\n",
       "      <td>-0.60926</td>\n",
       "      <td>2.24984</td>\n",
       "      <td>0.23455</td>\n",
       "      <td>-17.55245</td>\n",
       "      <td>39.53888</td>\n",
       "      <td>-16.60193</td>\n",
       "    </tr>\n",
       "    <tr>\n",
       "      <th>bitcoin-cash</th>\n",
       "      <td>2.90585</td>\n",
       "      <td>17.09717</td>\n",
       "      <td>14.75334</td>\n",
       "      <td>15.74903</td>\n",
       "      <td>-13.71793</td>\n",
       "      <td>21.66042</td>\n",
       "      <td>14.49384</td>\n",
       "    </tr>\n",
       "    <tr>\n",
       "      <th>binancecoin</th>\n",
       "      <td>2.10423</td>\n",
       "      <td>12.85511</td>\n",
       "      <td>6.80688</td>\n",
       "      <td>0.05865</td>\n",
       "      <td>36.33486</td>\n",
       "      <td>155.61937</td>\n",
       "      <td>69.69195</td>\n",
       "    </tr>\n",
       "    <tr>\n",
       "      <th>chainlink</th>\n",
       "      <td>-0.23935</td>\n",
       "      <td>20.69459</td>\n",
       "      <td>9.30098</td>\n",
       "      <td>-11.21747</td>\n",
       "      <td>-43.69522</td>\n",
       "      <td>403.22917</td>\n",
       "      <td>325.13186</td>\n",
       "    </tr>\n",
       "    <tr>\n",
       "      <th>cardano</th>\n",
       "      <td>0.00322</td>\n",
       "      <td>13.99302</td>\n",
       "      <td>5.55476</td>\n",
       "      <td>10.10553</td>\n",
       "      <td>-22.84776</td>\n",
       "      <td>264.51418</td>\n",
       "      <td>156.09756</td>\n",
       "    </tr>\n",
       "    <tr>\n",
       "      <th>litecoin</th>\n",
       "      <td>-0.06341</td>\n",
       "      <td>6.60221</td>\n",
       "      <td>7.28931</td>\n",
       "      <td>1.21662</td>\n",
       "      <td>-17.23960</td>\n",
       "      <td>27.49919</td>\n",
       "      <td>-12.66408</td>\n",
       "    </tr>\n",
       "    <tr>\n",
       "      <th>bitcoin-cash-sv</th>\n",
       "      <td>0.92530</td>\n",
       "      <td>3.29641</td>\n",
       "      <td>-1.86656</td>\n",
       "      <td>2.88926</td>\n",
       "      <td>-24.87434</td>\n",
       "      <td>7.42562</td>\n",
       "      <td>93.73082</td>\n",
       "    </tr>\n",
       "  </tbody>\n",
       "</table>\n",
       "</div>"
      ],
      "text/plain": [
       "                 price_change_percentage_24h  price_change_percentage_7d  \\\n",
       "coin_id                                                                    \n",
       "bitcoin                              1.08388                     7.60278   \n",
       "ethereum                             0.22392                    10.38134   \n",
       "tether                              -0.21173                     0.04935   \n",
       "ripple                              -0.37819                    -0.60926   \n",
       "bitcoin-cash                         2.90585                    17.09717   \n",
       "binancecoin                          2.10423                    12.85511   \n",
       "chainlink                           -0.23935                    20.69459   \n",
       "cardano                              0.00322                    13.99302   \n",
       "litecoin                            -0.06341                     6.60221   \n",
       "bitcoin-cash-sv                      0.92530                     3.29641   \n",
       "\n",
       "                 price_change_percentage_14d  price_change_percentage_30d  \\\n",
       "coin_id                                                                     \n",
       "bitcoin                              6.57509                      7.67258   \n",
       "ethereum                             4.80849                      0.13169   \n",
       "tether                               0.00640                     -0.04237   \n",
       "ripple                               2.24984                      0.23455   \n",
       "bitcoin-cash                        14.75334                     15.74903   \n",
       "binancecoin                          6.80688                      0.05865   \n",
       "chainlink                            9.30098                    -11.21747   \n",
       "cardano                              5.55476                     10.10553   \n",
       "litecoin                             7.28931                      1.21662   \n",
       "bitcoin-cash-sv                     -1.86656                      2.88926   \n",
       "\n",
       "                 price_change_percentage_60d  price_change_percentage_200d  \\\n",
       "coin_id                                                                      \n",
       "bitcoin                             -3.25185                      83.51840   \n",
       "ethereum                           -12.88890                     186.77418   \n",
       "tether                               0.28037                      -0.00542   \n",
       "ripple                             -17.55245                      39.53888   \n",
       "bitcoin-cash                       -13.71793                      21.66042   \n",
       "binancecoin                         36.33486                     155.61937   \n",
       "chainlink                          -43.69522                     403.22917   \n",
       "cardano                            -22.84776                     264.51418   \n",
       "litecoin                           -17.23960                      27.49919   \n",
       "bitcoin-cash-sv                    -24.87434                       7.42562   \n",
       "\n",
       "                 price_change_percentage_1y  \n",
       "coin_id                                      \n",
       "bitcoin                            37.51761  \n",
       "ethereum                          101.96023  \n",
       "tether                              0.01954  \n",
       "ripple                            -16.60193  \n",
       "bitcoin-cash                       14.49384  \n",
       "binancecoin                        69.69195  \n",
       "chainlink                         325.13186  \n",
       "cardano                           156.09756  \n",
       "litecoin                          -12.66408  \n",
       "bitcoin-cash-sv                    93.73082  "
      ]
     },
     "execution_count": 79,
     "metadata": {},
     "output_type": "execute_result"
    }
   ],
   "source": [
    "# Load the data into a Pandas DataFrame\n",
    "df_market_data = pd.read_csv(\n",
    "    Path(\"Resources/crypto_market_data.csv\"),\n",
    "    index_col=\"coin_id\")\n",
    "\n",
    "# Display sample data\n",
    "df_market_data.head(10)"
   ]
  },
  {
   "cell_type": "code",
   "execution_count": 80,
   "metadata": {},
   "outputs": [
    {
     "data": {
      "text/html": [
       "<div>\n",
       "<style scoped>\n",
       "    .dataframe tbody tr th:only-of-type {\n",
       "        vertical-align: middle;\n",
       "    }\n",
       "\n",
       "    .dataframe tbody tr th {\n",
       "        vertical-align: top;\n",
       "    }\n",
       "\n",
       "    .dataframe thead th {\n",
       "        text-align: right;\n",
       "    }\n",
       "</style>\n",
       "<table border=\"1\" class=\"dataframe\">\n",
       "  <thead>\n",
       "    <tr style=\"text-align: right;\">\n",
       "      <th></th>\n",
       "      <th>price_change_percentage_24h</th>\n",
       "      <th>price_change_percentage_7d</th>\n",
       "      <th>price_change_percentage_14d</th>\n",
       "      <th>price_change_percentage_30d</th>\n",
       "      <th>price_change_percentage_60d</th>\n",
       "      <th>price_change_percentage_200d</th>\n",
       "      <th>price_change_percentage_1y</th>\n",
       "    </tr>\n",
       "  </thead>\n",
       "  <tbody>\n",
       "    <tr>\n",
       "      <th>count</th>\n",
       "      <td>41.000000</td>\n",
       "      <td>41.000000</td>\n",
       "      <td>41.000000</td>\n",
       "      <td>41.000000</td>\n",
       "      <td>41.000000</td>\n",
       "      <td>41.000000</td>\n",
       "      <td>41.000000</td>\n",
       "    </tr>\n",
       "    <tr>\n",
       "      <th>mean</th>\n",
       "      <td>-0.269686</td>\n",
       "      <td>4.497147</td>\n",
       "      <td>0.185787</td>\n",
       "      <td>1.545693</td>\n",
       "      <td>-0.094119</td>\n",
       "      <td>236.537432</td>\n",
       "      <td>347.667956</td>\n",
       "    </tr>\n",
       "    <tr>\n",
       "      <th>std</th>\n",
       "      <td>2.694793</td>\n",
       "      <td>6.375218</td>\n",
       "      <td>8.376939</td>\n",
       "      <td>26.344218</td>\n",
       "      <td>47.365803</td>\n",
       "      <td>435.225304</td>\n",
       "      <td>1247.842884</td>\n",
       "    </tr>\n",
       "    <tr>\n",
       "      <th>min</th>\n",
       "      <td>-13.527860</td>\n",
       "      <td>-6.094560</td>\n",
       "      <td>-18.158900</td>\n",
       "      <td>-34.705480</td>\n",
       "      <td>-44.822480</td>\n",
       "      <td>-0.392100</td>\n",
       "      <td>-17.567530</td>\n",
       "    </tr>\n",
       "    <tr>\n",
       "      <th>25%</th>\n",
       "      <td>-0.608970</td>\n",
       "      <td>0.047260</td>\n",
       "      <td>-5.026620</td>\n",
       "      <td>-10.438470</td>\n",
       "      <td>-25.907990</td>\n",
       "      <td>21.660420</td>\n",
       "      <td>0.406170</td>\n",
       "    </tr>\n",
       "    <tr>\n",
       "      <th>50%</th>\n",
       "      <td>-0.063410</td>\n",
       "      <td>3.296410</td>\n",
       "      <td>0.109740</td>\n",
       "      <td>-0.042370</td>\n",
       "      <td>-7.544550</td>\n",
       "      <td>83.905200</td>\n",
       "      <td>69.691950</td>\n",
       "    </tr>\n",
       "    <tr>\n",
       "      <th>75%</th>\n",
       "      <td>0.612090</td>\n",
       "      <td>7.602780</td>\n",
       "      <td>5.510740</td>\n",
       "      <td>4.578130</td>\n",
       "      <td>0.657260</td>\n",
       "      <td>216.177610</td>\n",
       "      <td>168.372510</td>\n",
       "    </tr>\n",
       "    <tr>\n",
       "      <th>max</th>\n",
       "      <td>4.840330</td>\n",
       "      <td>20.694590</td>\n",
       "      <td>24.239190</td>\n",
       "      <td>140.795700</td>\n",
       "      <td>223.064370</td>\n",
       "      <td>2227.927820</td>\n",
       "      <td>7852.089700</td>\n",
       "    </tr>\n",
       "  </tbody>\n",
       "</table>\n",
       "</div>"
      ],
      "text/plain": [
       "       price_change_percentage_24h  price_change_percentage_7d  \\\n",
       "count                    41.000000                   41.000000   \n",
       "mean                     -0.269686                    4.497147   \n",
       "std                       2.694793                    6.375218   \n",
       "min                     -13.527860                   -6.094560   \n",
       "25%                      -0.608970                    0.047260   \n",
       "50%                      -0.063410                    3.296410   \n",
       "75%                       0.612090                    7.602780   \n",
       "max                       4.840330                   20.694590   \n",
       "\n",
       "       price_change_percentage_14d  price_change_percentage_30d  \\\n",
       "count                    41.000000                    41.000000   \n",
       "mean                      0.185787                     1.545693   \n",
       "std                       8.376939                    26.344218   \n",
       "min                     -18.158900                   -34.705480   \n",
       "25%                      -5.026620                   -10.438470   \n",
       "50%                       0.109740                    -0.042370   \n",
       "75%                       5.510740                     4.578130   \n",
       "max                      24.239190                   140.795700   \n",
       "\n",
       "       price_change_percentage_60d  price_change_percentage_200d  \\\n",
       "count                    41.000000                     41.000000   \n",
       "mean                     -0.094119                    236.537432   \n",
       "std                      47.365803                    435.225304   \n",
       "min                     -44.822480                     -0.392100   \n",
       "25%                     -25.907990                     21.660420   \n",
       "50%                      -7.544550                     83.905200   \n",
       "75%                       0.657260                    216.177610   \n",
       "max                     223.064370                   2227.927820   \n",
       "\n",
       "       price_change_percentage_1y  \n",
       "count                   41.000000  \n",
       "mean                   347.667956  \n",
       "std                   1247.842884  \n",
       "min                    -17.567530  \n",
       "25%                      0.406170  \n",
       "50%                     69.691950  \n",
       "75%                    168.372510  \n",
       "max                   7852.089700  "
      ]
     },
     "execution_count": 80,
     "metadata": {},
     "output_type": "execute_result"
    }
   ],
   "source": [
    "# Generate summary statistics\n",
    "df_market_data.describe()"
   ]
  },
  {
   "cell_type": "code",
   "execution_count": 81,
   "metadata": {},
   "outputs": [
    {
     "data": {},
     "metadata": {},
     "output_type": "display_data"
    },
    {
     "data": {
      "application/vnd.holoviews_exec.v0+json": "",
      "text/html": [
       "<div id='8306'>\n",
       "\n",
       "\n",
       "\n",
       "\n",
       "\n",
       "  <div class=\"bk-root\" id=\"21e1cf4b-ce84-4d81-ba0a-768dd0307b83\" data-root-id=\"8306\"></div>\n",
       "</div>\n",
       "<script type=\"application/javascript\">(function(root) {\n",
       "  function embed_document(root) {\n",
       "    var docs_json = {\"a5d6c7fc-5ca3-485d-ad8e-5baf6bce10c1\":{\"roots\":{\"references\":[{\"attributes\":{\"source\":{\"id\":\"8456\"}},\"id\":\"8463\",\"type\":\"CDSView\"},{\"attributes\":{\"data_source\":{\"id\":\"8387\"},\"glyph\":{\"id\":\"8390\"},\"hover_glyph\":null,\"muted_glyph\":{\"id\":\"8392\"},\"nonselection_glyph\":{\"id\":\"8391\"},\"selection_glyph\":null,\"view\":{\"id\":\"8394\"}},\"id\":\"8393\",\"type\":\"GlyphRenderer\"},{\"attributes\":{\"axis\":{\"id\":\"8329\"},\"dimension\":1,\"grid_line_color\":null,\"ticker\":null},\"id\":\"8332\",\"type\":\"Grid\"},{\"attributes\":{},\"id\":\"8405\",\"type\":\"UnionRenderers\"},{\"attributes\":{},\"id\":\"8409\",\"type\":\"Selection\"},{\"attributes\":{\"line_color\":\"#17becf\",\"line_width\":2,\"x\":{\"field\":\"coin_id\"},\"y\":{\"field\":\"value\"}},\"id\":\"8459\",\"type\":\"Line\"},{\"attributes\":{\"data_source\":{\"id\":\"8456\"},\"glyph\":{\"id\":\"8459\"},\"hover_glyph\":null,\"muted_glyph\":{\"id\":\"8461\"},\"nonselection_glyph\":{\"id\":\"8460\"},\"selection_glyph\":null,\"view\":{\"id\":\"8463\"}},\"id\":\"8462\",\"type\":\"GlyphRenderer\"},{\"attributes\":{\"active_drag\":\"auto\",\"active_inspect\":\"auto\",\"active_multi\":null,\"active_scroll\":\"auto\",\"active_tap\":\"auto\",\"tools\":[{\"id\":\"8310\"},{\"id\":\"8333\"},{\"id\":\"8334\"},{\"id\":\"8335\"},{\"id\":\"8336\"},{\"id\":\"8337\"}]},\"id\":\"8339\",\"type\":\"Toolbar\"},{\"attributes\":{},\"id\":\"8457\",\"type\":\"Selection\"},{\"attributes\":{\"label\":{\"value\":\"price_change_percentage_200d\"},\"renderers\":[{\"id\":\"8462\"}]},\"id\":\"8482\",\"type\":\"LegendItem\"},{\"attributes\":{\"line_alpha\":0.2,\"line_color\":\"#e5ae38\",\"line_width\":2,\"x\":{\"field\":\"coin_id\"},\"y\":{\"field\":\"value\"}},\"id\":\"8392\",\"type\":\"Line\"},{\"attributes\":{\"source\":{\"id\":\"8408\"}},\"id\":\"8415\",\"type\":\"CDSView\"},{\"attributes\":{},\"id\":\"8333\",\"type\":\"SaveTool\"},{\"attributes\":{\"label\":{\"value\":\"price_change_percentage_30d\"},\"renderers\":[{\"id\":\"8414\"}]},\"id\":\"8430\",\"type\":\"LegendItem\"},{\"attributes\":{},\"id\":\"8334\",\"type\":\"PanTool\"},{\"attributes\":{\"line_alpha\":0.1,\"line_color\":\"#9467bd\",\"line_width\":2,\"x\":{\"field\":\"coin_id\"},\"y\":{\"field\":\"value\"}},\"id\":\"8487\",\"type\":\"Line\"},{\"attributes\":{},\"id\":\"8335\",\"type\":\"WheelZoomTool\"},{\"attributes\":{},\"id\":\"8428\",\"type\":\"UnionRenderers\"},{\"attributes\":{},\"id\":\"8453\",\"type\":\"UnionRenderers\"},{\"attributes\":{\"line_alpha\":0.1,\"line_color\":\"#e5ae38\",\"line_width\":2,\"x\":{\"field\":\"coin_id\"},\"y\":{\"field\":\"value\"}},\"id\":\"8391\",\"type\":\"Line\"},{\"attributes\":{\"overlay\":{\"id\":\"8338\"}},\"id\":\"8336\",\"type\":\"BoxZoomTool\"},{\"attributes\":{\"margin\":[5,5,5,5],\"name\":\"HSpacer18029\",\"sizing_mode\":\"stretch_width\"},\"id\":\"8307\",\"type\":\"Spacer\"},{\"attributes\":{\"label\":{\"value\":\"price_change_percentage_24h\"},\"renderers\":[{\"id\":\"8356\"}]},\"id\":\"8367\",\"type\":\"LegendItem\"},{\"attributes\":{},\"id\":\"8480\",\"type\":\"UnionRenderers\"},{\"attributes\":{\"label\":{\"value\":\"price_change_percentage_14d\"},\"renderers\":[{\"id\":\"8393\"}]},\"id\":\"8407\",\"type\":\"LegendItem\"},{\"attributes\":{\"line_alpha\":0.1,\"line_color\":\"#17becf\",\"line_width\":2,\"x\":{\"field\":\"coin_id\"},\"y\":{\"field\":\"value\"}},\"id\":\"8460\",\"type\":\"Line\"},{\"attributes\":{},\"id\":\"8388\",\"type\":\"Selection\"},{\"attributes\":{\"data_source\":{\"id\":\"8483\"},\"glyph\":{\"id\":\"8486\"},\"hover_glyph\":null,\"muted_glyph\":{\"id\":\"8488\"},\"nonselection_glyph\":{\"id\":\"8487\"},\"selection_glyph\":null,\"view\":{\"id\":\"8490\"}},\"id\":\"8489\",\"type\":\"GlyphRenderer\"},{\"attributes\":{\"line_color\":\"#8b8b8b\",\"line_width\":2,\"x\":{\"field\":\"coin_id\"},\"y\":{\"field\":\"value\"}},\"id\":\"8434\",\"type\":\"Line\"},{\"attributes\":{},\"id\":\"8337\",\"type\":\"ResetTool\"},{\"attributes\":{\"line_alpha\":0.2,\"line_color\":\"#17becf\",\"line_width\":2,\"x\":{\"field\":\"coin_id\"},\"y\":{\"field\":\"value\"}},\"id\":\"8461\",\"type\":\"Line\"},{\"attributes\":{},\"id\":\"8351\",\"type\":\"Selection\"},{\"attributes\":{\"line_alpha\":0.2,\"line_color\":\"#6d904f\",\"line_width\":2,\"x\":{\"field\":\"coin_id\"},\"y\":{\"field\":\"value\"}},\"id\":\"8413\",\"type\":\"Line\"},{\"attributes\":{\"data\":{\"Variable\":[\"price_change_percentage_60d\",\"price_change_percentage_60d\",\"price_change_percentage_60d\",\"price_change_percentage_60d\",\"price_change_percentage_60d\",\"price_change_percentage_60d\",\"price_change_percentage_60d\",\"price_change_percentage_60d\",\"price_change_percentage_60d\",\"price_change_percentage_60d\",\"price_change_percentage_60d\",\"price_change_percentage_60d\",\"price_change_percentage_60d\",\"price_change_percentage_60d\",\"price_change_percentage_60d\",\"price_change_percentage_60d\",\"price_change_percentage_60d\",\"price_change_percentage_60d\",\"price_change_percentage_60d\",\"price_change_percentage_60d\",\"price_change_percentage_60d\",\"price_change_percentage_60d\",\"price_change_percentage_60d\",\"price_change_percentage_60d\",\"price_change_percentage_60d\",\"price_change_percentage_60d\",\"price_change_percentage_60d\",\"price_change_percentage_60d\",\"price_change_percentage_60d\",\"price_change_percentage_60d\",\"price_change_percentage_60d\",\"price_change_percentage_60d\",\"price_change_percentage_60d\",\"price_change_percentage_60d\",\"price_change_percentage_60d\",\"price_change_percentage_60d\",\"price_change_percentage_60d\",\"price_change_percentage_60d\",\"price_change_percentage_60d\",\"price_change_percentage_60d\",\"price_change_percentage_60d\"],\"coin_id\":[\"bitcoin\",\"ethereum\",\"tether\",\"ripple\",\"bitcoin-cash\",\"binancecoin\",\"chainlink\",\"cardano\",\"litecoin\",\"bitcoin-cash-sv\",\"crypto-com-chain\",\"usd-coin\",\"eos\",\"monero\",\"tron\",\"tezos\",\"okb\",\"stellar\",\"cosmos\",\"cdai\",\"neo\",\"wrapped-bitcoin\",\"leo-token\",\"huobi-token\",\"nem\",\"binance-usd\",\"iota\",\"vechain\",\"zcash\",\"theta-token\",\"dash\",\"ethereum-classic\",\"ethlend\",\"maker\",\"havven\",\"omisego\",\"celsius-degree-token\",\"ontology\",\"ftx-token\",\"true-usd\",\"digibyte\"],\"value\":{\"__ndarray__\":\"FvvL7skDCsAs1JrmHccpwKjjMQOV8dE/2qz6XG2NMcByol2FlG8rwIleRrHcKkJAN8MN+PzYRcBi26LMBtk2wCEf9GxWPTHAq5UJv9TfOMBg5dAi23kwwD2gbMoV3qU/lq31RUIrPsDNzMzMzNxEQJm7lpAPGhZAms5OBkdpRsBKe4MvTKYGwEwfuqC+zT7APL1SliHOHMC5AZ8fRgjlP9L7xteeCStAFaQZi6azDMCvJeSDni0ewDeOWItPQQvAXvQVpBm3VEDaOGItPgW4PwpLPKBsQkHAaw4QzNHPRcAJM23/yoo0wBmQvd79AVRAfa62Yn85OsBUGFsIcug5wLCsNCkFHQFA529CIQKeMsA0uoPYmbZDwPKwUGua0VNA/5qsUQ/ia0Ao8iTpmllAwFuxv+yenBdAmrFoOjsZ0D8s1JrmHRc/wA==\",\"dtype\":\"float64\",\"order\":\"little\",\"shape\":[41]}},\"selected\":{\"id\":\"8432\"},\"selection_policy\":{\"id\":\"8453\"}},\"id\":\"8431\",\"type\":\"ColumnDataSource\"},{\"attributes\":{\"data_source\":{\"id\":\"8350\"},\"glyph\":{\"id\":\"8353\"},\"hover_glyph\":null,\"muted_glyph\":{\"id\":\"8355\"},\"nonselection_glyph\":{\"id\":\"8354\"},\"selection_glyph\":null,\"view\":{\"id\":\"8357\"}},\"id\":\"8356\",\"type\":\"GlyphRenderer\"},{\"attributes\":{\"source\":{\"id\":\"8387\"}},\"id\":\"8394\",\"type\":\"CDSView\"},{\"attributes\":{\"source\":{\"id\":\"8431\"}},\"id\":\"8438\",\"type\":\"CDSView\"},{\"attributes\":{\"source\":{\"id\":\"8350\"}},\"id\":\"8357\",\"type\":\"CDSView\"},{\"attributes\":{\"end\":8641.780918,\"reset_end\":8641.780918,\"reset_start\":-834.5136980000001,\"start\":-834.5136980000001,\"tags\":[[[\"value\",\"value\",null]]]},\"id\":\"8309\",\"type\":\"Range1d\"},{\"attributes\":{\"data_source\":{\"id\":\"8431\"},\"glyph\":{\"id\":\"8434\"},\"hover_glyph\":null,\"muted_glyph\":{\"id\":\"8436\"},\"nonselection_glyph\":{\"id\":\"8435\"},\"selection_glyph\":null,\"view\":{\"id\":\"8438\"}},\"id\":\"8437\",\"type\":\"GlyphRenderer\"},{\"attributes\":{},\"id\":\"8347\",\"type\":\"CategoricalTickFormatter\"},{\"attributes\":{\"factors\":[\"bitcoin\",\"ethereum\",\"tether\",\"ripple\",\"bitcoin-cash\",\"binancecoin\",\"chainlink\",\"cardano\",\"litecoin\",\"bitcoin-cash-sv\",\"crypto-com-chain\",\"usd-coin\",\"eos\",\"monero\",\"tron\",\"tezos\",\"okb\",\"stellar\",\"cosmos\",\"cdai\",\"neo\",\"wrapped-bitcoin\",\"leo-token\",\"huobi-token\",\"nem\",\"binance-usd\",\"iota\",\"vechain\",\"zcash\",\"theta-token\",\"dash\",\"ethereum-classic\",\"ethlend\",\"maker\",\"havven\",\"omisego\",\"celsius-degree-token\",\"ontology\",\"ftx-token\",\"true-usd\",\"digibyte\"],\"tags\":[[[\"coin_id\",\"coin_id\",null]]]},\"id\":\"8308\",\"type\":\"FactorRange\"},{\"attributes\":{},\"id\":\"8484\",\"type\":\"Selection\"},{\"attributes\":{},\"id\":\"8369\",\"type\":\"Selection\"},{\"attributes\":{\"line_alpha\":0.1,\"line_color\":\"#30a2da\",\"line_width\":2,\"x\":{\"field\":\"coin_id\"},\"y\":{\"field\":\"value\"}},\"id\":\"8354\",\"type\":\"Line\"},{\"attributes\":{\"line_alpha\":0.2,\"line_color\":\"#9467bd\",\"line_width\":2,\"x\":{\"field\":\"coin_id\"},\"y\":{\"field\":\"value\"}},\"id\":\"8488\",\"type\":\"Line\"},{\"attributes\":{\"line_color\":\"#30a2da\",\"line_width\":2,\"x\":{\"field\":\"coin_id\"},\"y\":{\"field\":\"value\"}},\"id\":\"8353\",\"type\":\"Line\"},{\"attributes\":{\"line_color\":\"#e5ae38\",\"line_width\":2,\"x\":{\"field\":\"coin_id\"},\"y\":{\"field\":\"value\"}},\"id\":\"8390\",\"type\":\"Line\"},{\"attributes\":{\"line_alpha\":0.2,\"line_color\":\"#8b8b8b\",\"line_width\":2,\"x\":{\"field\":\"coin_id\"},\"y\":{\"field\":\"value\"}},\"id\":\"8436\",\"type\":\"Line\"},{\"attributes\":{\"below\":[{\"id\":\"8326\"}],\"center\":[{\"id\":\"8328\"},{\"id\":\"8332\"}],\"left\":[{\"id\":\"8329\"}],\"margin\":[5,5,5,5],\"min_border_bottom\":10,\"min_border_left\":10,\"min_border_right\":10,\"min_border_top\":10,\"plot_height\":400,\"plot_width\":800,\"renderers\":[{\"id\":\"8356\"},{\"id\":\"8374\"},{\"id\":\"8393\"},{\"id\":\"8414\"},{\"id\":\"8437\"},{\"id\":\"8462\"},{\"id\":\"8489\"}],\"right\":[{\"id\":\"8366\"}],\"sizing_mode\":\"fixed\",\"title\":{\"id\":\"8318\"},\"toolbar\":{\"id\":\"8339\"},\"x_range\":{\"id\":\"8308\"},\"x_scale\":{\"id\":\"8322\"},\"y_range\":{\"id\":\"8309\"},\"y_scale\":{\"id\":\"8324\"}},\"id\":\"8317\",\"subtype\":\"Figure\",\"type\":\"Plot\"},{\"attributes\":{\"bottom_units\":\"screen\",\"fill_alpha\":0.5,\"fill_color\":\"lightgrey\",\"left_units\":\"screen\",\"level\":\"overlay\",\"line_alpha\":1.0,\"line_color\":\"black\",\"line_dash\":[4,4],\"line_width\":2,\"right_units\":\"screen\",\"top_units\":\"screen\"},\"id\":\"8338\",\"type\":\"BoxAnnotation\"},{\"attributes\":{\"line_alpha\":0.1,\"line_color\":\"#8b8b8b\",\"line_width\":2,\"x\":{\"field\":\"coin_id\"},\"y\":{\"field\":\"value\"}},\"id\":\"8435\",\"type\":\"Line\"},{\"attributes\":{\"source\":{\"id\":\"8483\"}},\"id\":\"8490\",\"type\":\"CDSView\"},{\"attributes\":{\"line_color\":\"#9467bd\",\"line_width\":2,\"x\":{\"field\":\"coin_id\"},\"y\":{\"field\":\"value\"}},\"id\":\"8486\",\"type\":\"Line\"},{\"attributes\":{},\"id\":\"8509\",\"type\":\"UnionRenderers\"},{\"attributes\":{\"data_source\":{\"id\":\"8368\"},\"glyph\":{\"id\":\"8371\"},\"hover_glyph\":null,\"muted_glyph\":{\"id\":\"8373\"},\"nonselection_glyph\":{\"id\":\"8372\"},\"selection_glyph\":null,\"view\":{\"id\":\"8375\"}},\"id\":\"8374\",\"type\":\"GlyphRenderer\"},{\"attributes\":{\"label\":{\"value\":\"price_change_percentage_1y\"},\"renderers\":[{\"id\":\"8489\"}]},\"id\":\"8511\",\"type\":\"LegendItem\"},{\"attributes\":{\"line_alpha\":0.1,\"line_color\":\"#6d904f\",\"line_width\":2,\"x\":{\"field\":\"coin_id\"},\"y\":{\"field\":\"value\"}},\"id\":\"8412\",\"type\":\"Line\"},{\"attributes\":{\"click_policy\":\"mute\",\"items\":[{\"id\":\"8367\"},{\"id\":\"8386\"},{\"id\":\"8407\"},{\"id\":\"8430\"},{\"id\":\"8455\"},{\"id\":\"8482\"},{\"id\":\"8511\"}],\"location\":[0,0],\"title\":\"Variable\"},\"id\":\"8366\",\"type\":\"Legend\"},{\"attributes\":{},\"id\":\"8349\",\"type\":\"BasicTickFormatter\"},{\"attributes\":{\"callback\":null,\"renderers\":[{\"id\":\"8356\"},{\"id\":\"8374\"},{\"id\":\"8393\"},{\"id\":\"8414\"},{\"id\":\"8437\"},{\"id\":\"8462\"},{\"id\":\"8489\"}],\"tags\":[\"hv_created\"],\"tooltips\":[[\"Variable\",\"@{Variable}\"],[\"coin_id\",\"@{coin_id}\"],[\"value\",\"@{value}\"]]},\"id\":\"8310\",\"type\":\"HoverTool\"},{\"attributes\":{},\"id\":\"8364\",\"type\":\"UnionRenderers\"},{\"attributes\":{\"axis_label\":\"coin_id\",\"bounds\":\"auto\",\"formatter\":{\"id\":\"8347\"},\"major_label_orientation\":1.5707963267948966,\"ticker\":{\"id\":\"8327\"}},\"id\":\"8326\",\"type\":\"CategoricalAxis\"},{\"attributes\":{\"line_alpha\":0.2,\"line_color\":\"#30a2da\",\"line_width\":2,\"x\":{\"field\":\"coin_id\"},\"y\":{\"field\":\"value\"}},\"id\":\"8355\",\"type\":\"Line\"},{\"attributes\":{\"line_color\":\"#fc4f30\",\"line_width\":2,\"x\":{\"field\":\"coin_id\"},\"y\":{\"field\":\"value\"}},\"id\":\"8371\",\"type\":\"Line\"},{\"attributes\":{\"line_alpha\":0.1,\"line_color\":\"#fc4f30\",\"line_width\":2,\"x\":{\"field\":\"coin_id\"},\"y\":{\"field\":\"value\"}},\"id\":\"8372\",\"type\":\"Line\"},{\"attributes\":{},\"id\":\"8322\",\"type\":\"CategoricalScale\"},{\"attributes\":{\"source\":{\"id\":\"8368\"}},\"id\":\"8375\",\"type\":\"CDSView\"},{\"attributes\":{},\"id\":\"8384\",\"type\":\"UnionRenderers\"},{\"attributes\":{\"label\":{\"value\":\"price_change_percentage_7d\"},\"renderers\":[{\"id\":\"8374\"}]},\"id\":\"8386\",\"type\":\"LegendItem\"},{\"attributes\":{\"data\":{\"Variable\":[\"price_change_percentage_1y\",\"price_change_percentage_1y\",\"price_change_percentage_1y\",\"price_change_percentage_1y\",\"price_change_percentage_1y\",\"price_change_percentage_1y\",\"price_change_percentage_1y\",\"price_change_percentage_1y\",\"price_change_percentage_1y\",\"price_change_percentage_1y\",\"price_change_percentage_1y\",\"price_change_percentage_1y\",\"price_change_percentage_1y\",\"price_change_percentage_1y\",\"price_change_percentage_1y\",\"price_change_percentage_1y\",\"price_change_percentage_1y\",\"price_change_percentage_1y\",\"price_change_percentage_1y\",\"price_change_percentage_1y\",\"price_change_percentage_1y\",\"price_change_percentage_1y\",\"price_change_percentage_1y\",\"price_change_percentage_1y\",\"price_change_percentage_1y\",\"price_change_percentage_1y\",\"price_change_percentage_1y\",\"price_change_percentage_1y\",\"price_change_percentage_1y\",\"price_change_percentage_1y\",\"price_change_percentage_1y\",\"price_change_percentage_1y\",\"price_change_percentage_1y\",\"price_change_percentage_1y\",\"price_change_percentage_1y\",\"price_change_percentage_1y\",\"price_change_percentage_1y\",\"price_change_percentage_1y\",\"price_change_percentage_1y\",\"price_change_percentage_1y\",\"price_change_percentage_1y\"],\"coin_id\":[\"bitcoin\",\"ethereum\",\"tether\",\"ripple\",\"bitcoin-cash\",\"binancecoin\",\"chainlink\",\"cardano\",\"litecoin\",\"bitcoin-cash-sv\",\"crypto-com-chain\",\"usd-coin\",\"eos\",\"monero\",\"tron\",\"tezos\",\"okb\",\"stellar\",\"cosmos\",\"cdai\",\"neo\",\"wrapped-bitcoin\",\"leo-token\",\"huobi-token\",\"nem\",\"binance-usd\",\"iota\",\"vechain\",\"zcash\",\"theta-token\",\"dash\",\"ethereum-classic\",\"ethlend\",\"maker\",\"havven\",\"omisego\",\"celsius-degree-token\",\"ontology\",\"ftx-token\",\"true-usd\",\"digibyte\"],\"value\":{\"__ndarray__\":\"kQpjC0HCQkDXqIdodH1ZQOD42jNLApQ/NXugFRiaMMDM6bKY2PwsQOcdp+hIbFFAaTo7GRxSdEC7LCY2H4NjQPnaM0sCVCnA0NA/wcVuV0CQvd798RBzQL4wmSoYlci/tn9lpUmRMcDpvMYuUaFhQELKT6p9nk1A6PaSxmiAYUBdUN8yp75hQMzuycNCnStAxLZFmQ2cVEAIsTOFzmvSvx/0bFZ9aWBAhxvw+WHEQkAN/RNcrAA1QN8Vwf9WkjhAS7A4nPkWaUAVUn5S7dPBPzYk7rH04Q/AIsMq3shbaUBf0hito7hUQPyMCwcC64VAzsKedvirA8Dwoq8gzTgmQHRGlPYWrL5Ayk+qfTpOJUDfiVkvRjaFQEfJq3MMC3RAnFCIgONmn0CsVib8Uk8pwNttF5rrC2VAyXGndLD+2T/YfFwbKgxnQA==\",\"dtype\":\"float64\",\"order\":\"little\",\"shape\":[41]}},\"selected\":{\"id\":\"8484\"},\"selection_policy\":{\"id\":\"8509\"}},\"id\":\"8483\",\"type\":\"ColumnDataSource\"},{\"attributes\":{\"children\":[{\"id\":\"8307\"},{\"id\":\"8317\"},{\"id\":\"8692\"}],\"margin\":[0,0,0,0],\"name\":\"Row18025\",\"tags\":[\"embedded\"]},\"id\":\"8306\",\"type\":\"Row\"},{\"attributes\":{\"data\":{\"Variable\":[\"price_change_percentage_7d\",\"price_change_percentage_7d\",\"price_change_percentage_7d\",\"price_change_percentage_7d\",\"price_change_percentage_7d\",\"price_change_percentage_7d\",\"price_change_percentage_7d\",\"price_change_percentage_7d\",\"price_change_percentage_7d\",\"price_change_percentage_7d\",\"price_change_percentage_7d\",\"price_change_percentage_7d\",\"price_change_percentage_7d\",\"price_change_percentage_7d\",\"price_change_percentage_7d\",\"price_change_percentage_7d\",\"price_change_percentage_7d\",\"price_change_percentage_7d\",\"price_change_percentage_7d\",\"price_change_percentage_7d\",\"price_change_percentage_7d\",\"price_change_percentage_7d\",\"price_change_percentage_7d\",\"price_change_percentage_7d\",\"price_change_percentage_7d\",\"price_change_percentage_7d\",\"price_change_percentage_7d\",\"price_change_percentage_7d\",\"price_change_percentage_7d\",\"price_change_percentage_7d\",\"price_change_percentage_7d\",\"price_change_percentage_7d\",\"price_change_percentage_7d\",\"price_change_percentage_7d\",\"price_change_percentage_7d\",\"price_change_percentage_7d\",\"price_change_percentage_7d\",\"price_change_percentage_7d\",\"price_change_percentage_7d\",\"price_change_percentage_7d\",\"price_change_percentage_7d\"],\"coin_id\":[\"bitcoin\",\"ethereum\",\"tether\",\"ripple\",\"bitcoin-cash\",\"binancecoin\",\"chainlink\",\"cardano\",\"litecoin\",\"bitcoin-cash-sv\",\"crypto-com-chain\",\"usd-coin\",\"eos\",\"monero\",\"tron\",\"tezos\",\"okb\",\"stellar\",\"cosmos\",\"cdai\",\"neo\",\"wrapped-bitcoin\",\"leo-token\",\"huobi-token\",\"nem\",\"binance-usd\",\"iota\",\"vechain\",\"zcash\",\"theta-token\",\"dash\",\"ethereum-classic\",\"ethlend\",\"maker\",\"havven\",\"omisego\",\"celsius-degree-token\",\"ontology\",\"ftx-token\",\"true-usd\",\"digibyte\"],\"value\":{\"__ndarray__\":\"RbsKKT9pHkAzUBn/PsMkQL99HThnRKk/yVnY0w5/47//JhQi4BgxQBL3WPrQtSlA7iB2ptCxNEBAjBAebfwrQPFL/bypaBpArKjBNAxfCkByv0NRoK8WwPlJtU/HY76/lPsdigL99L+n6Egu/5EvQE1KQbeX9BBA0m9fB87pIUBlU67wLjcSwKftX1lpkgBAZwqd19gVMEBcIEHxY8ytP3wnZr0YigNAOh4zUBmfHUD3Hi457pT1vzNQGf8+4/k/kQ96Nqs+6781Y9F0djKoP2dEaW/wRRhAgXhdv2A3/L/8GHPXErIkQP4JLlbUYBjAVU0QdR9gFEDRlnMprmoIQGCrBIvD2RBAAiuHFtlOIECbG9MTllgRQKhXyjLEURtAqn06HjNQ4z+UvDrHgGzzvwltOZfiahxAsD2zJEBNxT8yj/zBwHPlPw==\",\"dtype\":\"float64\",\"order\":\"little\",\"shape\":[41]}},\"selected\":{\"id\":\"8369\"},\"selection_policy\":{\"id\":\"8384\"}},\"id\":\"8368\",\"type\":\"ColumnDataSource\"},{\"attributes\":{\"line_alpha\":0.2,\"line_color\":\"#fc4f30\",\"line_width\":2,\"x\":{\"field\":\"coin_id\"},\"y\":{\"field\":\"value\"}},\"id\":\"8373\",\"type\":\"Line\"},{\"attributes\":{},\"id\":\"8327\",\"type\":\"CategoricalTicker\"},{\"attributes\":{\"data\":{\"Variable\":[\"price_change_percentage_24h\",\"price_change_percentage_24h\",\"price_change_percentage_24h\",\"price_change_percentage_24h\",\"price_change_percentage_24h\",\"price_change_percentage_24h\",\"price_change_percentage_24h\",\"price_change_percentage_24h\",\"price_change_percentage_24h\",\"price_change_percentage_24h\",\"price_change_percentage_24h\",\"price_change_percentage_24h\",\"price_change_percentage_24h\",\"price_change_percentage_24h\",\"price_change_percentage_24h\",\"price_change_percentage_24h\",\"price_change_percentage_24h\",\"price_change_percentage_24h\",\"price_change_percentage_24h\",\"price_change_percentage_24h\",\"price_change_percentage_24h\",\"price_change_percentage_24h\",\"price_change_percentage_24h\",\"price_change_percentage_24h\",\"price_change_percentage_24h\",\"price_change_percentage_24h\",\"price_change_percentage_24h\",\"price_change_percentage_24h\",\"price_change_percentage_24h\",\"price_change_percentage_24h\",\"price_change_percentage_24h\",\"price_change_percentage_24h\",\"price_change_percentage_24h\",\"price_change_percentage_24h\",\"price_change_percentage_24h\",\"price_change_percentage_24h\",\"price_change_percentage_24h\",\"price_change_percentage_24h\",\"price_change_percentage_24h\",\"price_change_percentage_24h\",\"price_change_percentage_24h\"],\"coin_id\":[\"bitcoin\",\"ethereum\",\"tether\",\"ripple\",\"bitcoin-cash\",\"binancecoin\",\"chainlink\",\"cardano\",\"litecoin\",\"bitcoin-cash-sv\",\"crypto-com-chain\",\"usd-coin\",\"eos\",\"monero\",\"tron\",\"tezos\",\"okb\",\"stellar\",\"cosmos\",\"cdai\",\"neo\",\"wrapped-bitcoin\",\"leo-token\",\"huobi-token\",\"nem\",\"binance-usd\",\"iota\",\"vechain\",\"zcash\",\"theta-token\",\"dash\",\"ethereum-classic\",\"ethlend\",\"maker\",\"havven\",\"omisego\",\"celsius-degree-token\",\"ontology\",\"ftx-token\",\"true-usd\",\"digibyte\"],\"value\":{\"__ndarray__\":\"nZ0MjpJX8T8LzXUaaanMP5qByvj3Gcu/wCZr1EM02L8ep+hILj8HQL0Yyol21QBAwhcmUwWjzr//CS5W1GBqP7NGPUSjO7C/QKTfvg6c7T8trYbEPZbjPzeJQWDl0Ma/1pC4x9KHwj88NgLxun7bP94HILWJk7M/JzYf14aK5b83iUFg5dAFwG3i5H6HIvC/5Xlwd9Zu7r9j83FtqBjLP+eHEcKjjd8/NNyAzw+j8T/fGtgqweLAv+VmuAGfH9q/UdobfGEy678D7KNTVz67v8czaOif4No/teBFX0Ga9D8G2EenrnzjvyCduvJZPhLAoMN8eQH28L+cxCCwcmjdv667eapDDivAX5hMFYxK479EUaBP5EkQwAdkr3d/XBNA0JuKVBgbBEDqBDQRNrz1vxo09E9wseo/tY6qJoi6r79qMA3DR8QHQA==\",\"dtype\":\"float64\",\"order\":\"little\",\"shape\":[41]}},\"selected\":{\"id\":\"8351\"},\"selection_policy\":{\"id\":\"8364\"}},\"id\":\"8350\",\"type\":\"ColumnDataSource\"},{\"attributes\":{\"line_color\":\"#6d904f\",\"line_width\":2,\"x\":{\"field\":\"coin_id\"},\"y\":{\"field\":\"value\"}},\"id\":\"8411\",\"type\":\"Line\"},{\"attributes\":{\"data_source\":{\"id\":\"8408\"},\"glyph\":{\"id\":\"8411\"},\"hover_glyph\":null,\"muted_glyph\":{\"id\":\"8413\"},\"nonselection_glyph\":{\"id\":\"8412\"},\"selection_glyph\":null,\"view\":{\"id\":\"8415\"}},\"id\":\"8414\",\"type\":\"GlyphRenderer\"},{\"attributes\":{},\"id\":\"8324\",\"type\":\"LinearScale\"},{\"attributes\":{\"margin\":[5,5,5,5],\"name\":\"HSpacer18030\",\"sizing_mode\":\"stretch_width\"},\"id\":\"8692\",\"type\":\"Spacer\"},{\"attributes\":{\"axis_label\":\"\",\"bounds\":\"auto\",\"formatter\":{\"id\":\"8349\"},\"major_label_orientation\":\"horizontal\",\"ticker\":{\"id\":\"8330\"}},\"id\":\"8329\",\"type\":\"LinearAxis\"},{\"attributes\":{\"data\":{\"Variable\":[\"price_change_percentage_200d\",\"price_change_percentage_200d\",\"price_change_percentage_200d\",\"price_change_percentage_200d\",\"price_change_percentage_200d\",\"price_change_percentage_200d\",\"price_change_percentage_200d\",\"price_change_percentage_200d\",\"price_change_percentage_200d\",\"price_change_percentage_200d\",\"price_change_percentage_200d\",\"price_change_percentage_200d\",\"price_change_percentage_200d\",\"price_change_percentage_200d\",\"price_change_percentage_200d\",\"price_change_percentage_200d\",\"price_change_percentage_200d\",\"price_change_percentage_200d\",\"price_change_percentage_200d\",\"price_change_percentage_200d\",\"price_change_percentage_200d\",\"price_change_percentage_200d\",\"price_change_percentage_200d\",\"price_change_percentage_200d\",\"price_change_percentage_200d\",\"price_change_percentage_200d\",\"price_change_percentage_200d\",\"price_change_percentage_200d\",\"price_change_percentage_200d\",\"price_change_percentage_200d\",\"price_change_percentage_200d\",\"price_change_percentage_200d\",\"price_change_percentage_200d\",\"price_change_percentage_200d\",\"price_change_percentage_200d\",\"price_change_percentage_200d\",\"price_change_percentage_200d\",\"price_change_percentage_200d\",\"price_change_percentage_200d\",\"price_change_percentage_200d\",\"price_change_percentage_200d\"],\"coin_id\":[\"bitcoin\",\"ethereum\",\"tether\",\"ripple\",\"bitcoin-cash\",\"binancecoin\",\"chainlink\",\"cardano\",\"litecoin\",\"bitcoin-cash-sv\",\"crypto-com-chain\",\"usd-coin\",\"eos\",\"monero\",\"tron\",\"tezos\",\"okb\",\"stellar\",\"cosmos\",\"cdai\",\"neo\",\"wrapped-bitcoin\",\"leo-token\",\"huobi-token\",\"nem\",\"binance-usd\",\"iota\",\"vechain\",\"zcash\",\"theta-token\",\"dash\",\"ethereum-classic\",\"ethlend\",\"maker\",\"havven\",\"omisego\",\"celsius-degree-token\",\"ontology\",\"ftx-token\",\"true-usd\",\"digibyte\"],\"value\":{\"__ndarray__\":\"xY8xdy3hVED0piIVxlhnQBe86CtIM3a/9zsUBfrEQ0DUn/1IEak1QPTDCOHRc2NAl3MprqozeUAdxM4UOohwQIF9dOrKfztAFRiyutWzHUCO7iB2plZsQIQqNXugFcS/ZHWr56QPMkALe9rhrzBlQIC8V61MnGBA5nlwd9a2RUAQHm0csfpDQC6Lic3HJ1VAkj8YeO4/Z0AOvjCZKhjZv2vUQzS61GNAtRX7y+75VEC5GW7A52cwQAPso1NXHkVAKq4q+64Fa0A7NgLxun65P+TaUDHOwVdAyM1wAz7bcEAFwHgGDaNeQH3Qs1k1lYtAOUVHcvnvGEANGvonuMgkQCYZOQvbZ6FAGT4ipkSiVED5MeauZXeDQHi0ccQaSoJAC170FcTYmEB0PGagMmJLQC2yne+nvkxAndfYJaq3tr9R9wFIbSl+QA==\",\"dtype\":\"float64\",\"order\":\"little\",\"shape\":[41]}},\"selected\":{\"id\":\"8457\"},\"selection_policy\":{\"id\":\"8480\"}},\"id\":\"8456\",\"type\":\"ColumnDataSource\"},{\"attributes\":{\"data\":{\"Variable\":[\"price_change_percentage_30d\",\"price_change_percentage_30d\",\"price_change_percentage_30d\",\"price_change_percentage_30d\",\"price_change_percentage_30d\",\"price_change_percentage_30d\",\"price_change_percentage_30d\",\"price_change_percentage_30d\",\"price_change_percentage_30d\",\"price_change_percentage_30d\",\"price_change_percentage_30d\",\"price_change_percentage_30d\",\"price_change_percentage_30d\",\"price_change_percentage_30d\",\"price_change_percentage_30d\",\"price_change_percentage_30d\",\"price_change_percentage_30d\",\"price_change_percentage_30d\",\"price_change_percentage_30d\",\"price_change_percentage_30d\",\"price_change_percentage_30d\",\"price_change_percentage_30d\",\"price_change_percentage_30d\",\"price_change_percentage_30d\",\"price_change_percentage_30d\",\"price_change_percentage_30d\",\"price_change_percentage_30d\",\"price_change_percentage_30d\",\"price_change_percentage_30d\",\"price_change_percentage_30d\",\"price_change_percentage_30d\",\"price_change_percentage_30d\",\"price_change_percentage_30d\",\"price_change_percentage_30d\",\"price_change_percentage_30d\",\"price_change_percentage_30d\",\"price_change_percentage_30d\",\"price_change_percentage_30d\",\"price_change_percentage_30d\",\"price_change_percentage_30d\",\"price_change_percentage_30d\"],\"coin_id\":[\"bitcoin\",\"ethereum\",\"tether\",\"ripple\",\"bitcoin-cash\",\"binancecoin\",\"chainlink\",\"cardano\",\"litecoin\",\"bitcoin-cash-sv\",\"crypto-com-chain\",\"usd-coin\",\"eos\",\"monero\",\"tron\",\"tezos\",\"okb\",\"stellar\",\"cosmos\",\"cdai\",\"neo\",\"wrapped-bitcoin\",\"leo-token\",\"huobi-token\",\"nem\",\"binance-usd\",\"iota\",\"vechain\",\"zcash\",\"theta-token\",\"dash\",\"ethereum-classic\",\"ethlend\",\"maker\",\"havven\",\"omisego\",\"celsius-degree-token\",\"ontology\",\"ftx-token\",\"true-usd\",\"digibyte\"],\"value\":{\"__ndarray__\":\"VMa/z7iwHkAl6ZrJN9vAP/28qUiFsaW/L26jAbwFzj8dcjPcgH8vQPMf0m9fB64/5bhTOlhvJsBnfjUHCDYkQGWNeohGd/M/ryDNWDQdB0Cmft5UpHIxwJkvL8A+OsW/t0WZDTKJEsDfVKTC2HpDQEzD8BExNSnAjGK5pdVALMDjjcwjf+AkwIrIsIo3QiDAj1iLTwFQEkAWpBmLpnMBwE7WqIdo9DXAVG8NbJWAHUAnMQisHJoIQGA8g4b+CQrACMTr+gU7DcCQpQ9dUN+SP80Bgjl6nBDA9S1zuixWLMBC7Eyh83odQEku/yH9bj9AtTf4wmQqH8An/FI/byoHQNjYJaq3/j3A9GxWfa62MECdRloqb9c0wF4R/G8lOyLArK3YX3aZYUC1/SsrTVpBwP7PYb68ICXAFR3J5T+knz+ndLD+z4EqQA==\",\"dtype\":\"float64\",\"order\":\"little\",\"shape\":[41]}},\"selected\":{\"id\":\"8409\"},\"selection_policy\":{\"id\":\"8428\"}},\"id\":\"8408\",\"type\":\"ColumnDataSource\"},{\"attributes\":{\"text\":\"\",\"text_color\":{\"value\":\"black\"},\"text_font_size\":{\"value\":\"12pt\"}},\"id\":\"8318\",\"type\":\"Title\"},{\"attributes\":{\"label\":{\"value\":\"price_change_percentage_60d\"},\"renderers\":[{\"id\":\"8437\"}]},\"id\":\"8455\",\"type\":\"LegendItem\"},{\"attributes\":{},\"id\":\"8432\",\"type\":\"Selection\"},{\"attributes\":{\"data\":{\"Variable\":[\"price_change_percentage_14d\",\"price_change_percentage_14d\",\"price_change_percentage_14d\",\"price_change_percentage_14d\",\"price_change_percentage_14d\",\"price_change_percentage_14d\",\"price_change_percentage_14d\",\"price_change_percentage_14d\",\"price_change_percentage_14d\",\"price_change_percentage_14d\",\"price_change_percentage_14d\",\"price_change_percentage_14d\",\"price_change_percentage_14d\",\"price_change_percentage_14d\",\"price_change_percentage_14d\",\"price_change_percentage_14d\",\"price_change_percentage_14d\",\"price_change_percentage_14d\",\"price_change_percentage_14d\",\"price_change_percentage_14d\",\"price_change_percentage_14d\",\"price_change_percentage_14d\",\"price_change_percentage_14d\",\"price_change_percentage_14d\",\"price_change_percentage_14d\",\"price_change_percentage_14d\",\"price_change_percentage_14d\",\"price_change_percentage_14d\",\"price_change_percentage_14d\",\"price_change_percentage_14d\",\"price_change_percentage_14d\",\"price_change_percentage_14d\",\"price_change_percentage_14d\",\"price_change_percentage_14d\",\"price_change_percentage_14d\",\"price_change_percentage_14d\",\"price_change_percentage_14d\",\"price_change_percentage_14d\",\"price_change_percentage_14d\",\"price_change_percentage_14d\",\"price_change_percentage_14d\"],\"coin_id\":[\"bitcoin\",\"ethereum\",\"tether\",\"ripple\",\"bitcoin-cash\",\"binancecoin\",\"chainlink\",\"cardano\",\"litecoin\",\"bitcoin-cash-sv\",\"crypto-com-chain\",\"usd-coin\",\"eos\",\"monero\",\"tron\",\"tezos\",\"okb\",\"stellar\",\"cosmos\",\"cdai\",\"neo\",\"wrapped-bitcoin\",\"leo-token\",\"huobi-token\",\"nem\",\"binance-usd\",\"iota\",\"vechain\",\"zcash\",\"theta-token\",\"dash\",\"ethereum-classic\",\"ethlend\",\"maker\",\"havven\",\"omisego\",\"celsius-degree-token\",\"ontology\",\"ftx-token\",\"true-usd\",\"digibyte\"],\"value\":{\"__ndarray__\":\"zAaZZORMGkB5knTN5DsTQC1DHOviNno/c9wpHaz/AUCLic3HtYEtQJkvL8A+OhtAC4DxDBqaIkAOhGQBEzgWQICfceFAKB1AIFnABG7d/b8ysfm4NhQhwGpI3GPpQ3e/pfeNrz0z8j8bo3VUNWkyQBUA4xk0dPY/VIzzN6GQAkCWrfVFQhsUwKpla32RUPG/Qgkzbf8KFkDPg7uzdtvFP8MN+PwwsiPAYFlpUgo6GkB2+GuyRh0cwM2v5gDBHN0/j1iLTwEwBUDWrZ6T3jeuP7pOIy2VNw7Am1Wfq60oMsAJM23/yioXQJbK2xFOSxrAQE0tW+uL4D9NucK7XET0v0SLbOf7mSPA/pqsUQ/R978vaYzWUZUqwDtT6LzGbirAvodLjjs9OEByUMJM2x8lwJ30vvG1Z8q/ZCMQr+sXvD+7D0BqE0cdwA==\",\"dtype\":\"float64\",\"order\":\"little\",\"shape\":[41]}},\"selected\":{\"id\":\"8388\"},\"selection_policy\":{\"id\":\"8405\"}},\"id\":\"8387\",\"type\":\"ColumnDataSource\"},{\"attributes\":{\"axis\":{\"id\":\"8326\"},\"grid_line_color\":null,\"ticker\":null},\"id\":\"8328\",\"type\":\"Grid\"},{\"attributes\":{},\"id\":\"8330\",\"type\":\"BasicTicker\"}],\"root_ids\":[\"8306\"]},\"title\":\"Bokeh Application\",\"version\":\"2.2.3\"}};\n",
       "    var render_items = [{\"docid\":\"a5d6c7fc-5ca3-485d-ad8e-5baf6bce10c1\",\"root_ids\":[\"8306\"],\"roots\":{\"8306\":\"21e1cf4b-ce84-4d81-ba0a-768dd0307b83\"}}];\n",
       "    root.Bokeh.embed.embed_items_notebook(docs_json, render_items);\n",
       "  }\n",
       "  if (root.Bokeh !== undefined && root.Bokeh.Panel !== undefined) {\n",
       "    embed_document(root);\n",
       "  } else {\n",
       "    var attempts = 0;\n",
       "    var timer = setInterval(function(root) {\n",
       "      if (root.Bokeh !== undefined && root.Bokeh.Panel !== undefined) {\n",
       "        clearInterval(timer);\n",
       "        embed_document(root);\n",
       "      } else if (document.readyState == \"complete\") {\n",
       "        attempts++;\n",
       "        if (attempts > 100) {\n",
       "          clearInterval(timer);\n",
       "          console.log(\"Bokeh: ERROR: Unable to run BokehJS code because BokehJS library is missing\");\n",
       "        }\n",
       "      }\n",
       "    }, 10, root)\n",
       "  }\n",
       "})(window);</script>"
      ],
      "text/plain": [
       ":NdOverlay   [Variable]\n",
       "   :Curve   [coin_id]   (value)"
      ]
     },
     "execution_count": 81,
     "metadata": {
      "application/vnd.holoviews_exec.v0+json": {
       "id": "8306"
      }
     },
     "output_type": "execute_result"
    }
   ],
   "source": [
    "# Plot your data to see what's in your DataFrame\n",
    "df_market_data.hvplot.line(\n",
    "    width=800,\n",
    "    height=400,\n",
    "    rot=90\n",
    ")"
   ]
  },
  {
   "cell_type": "markdown",
   "metadata": {},
   "source": [
    "### Prepare the Data\n",
    "\n",
    "This section prepares the data before running the K-Means algorithm. It follows these steps:\n",
    "\n",
    "1. Use the `StandardScaler` module from scikit-learn to normalize the CSV file data. This will require you to utilize the `fit_transform` function.\n",
    "\n",
    "2. Create a DataFrame that contains the scaled data. Be sure to set the `coin_id` index from the original DataFrame as the index for the new DataFrame. Review the resulting DataFrame.\n"
   ]
  },
  {
   "cell_type": "code",
   "execution_count": 82,
   "metadata": {},
   "outputs": [],
   "source": [
    "# Use the `StandardScaler()` module from scikit-learn to normalize the data from the CSV file\n",
    "scaled_data = StandardScaler().fit_transform(df_market_data)"
   ]
  },
  {
   "cell_type": "code",
   "execution_count": 83,
   "metadata": {},
   "outputs": [
    {
     "data": {
      "text/html": [
       "<div>\n",
       "<style scoped>\n",
       "    .dataframe tbody tr th:only-of-type {\n",
       "        vertical-align: middle;\n",
       "    }\n",
       "\n",
       "    .dataframe tbody tr th {\n",
       "        vertical-align: top;\n",
       "    }\n",
       "\n",
       "    .dataframe thead th {\n",
       "        text-align: right;\n",
       "    }\n",
       "</style>\n",
       "<table border=\"1\" class=\"dataframe\">\n",
       "  <thead>\n",
       "    <tr style=\"text-align: right;\">\n",
       "      <th></th>\n",
       "      <th>price_change_percentage_24h</th>\n",
       "      <th>price_change_percentage_7d</th>\n",
       "      <th>price_change_percentage_14d</th>\n",
       "      <th>price_change_percentage_30d</th>\n",
       "      <th>price_change_percentage_60d</th>\n",
       "      <th>price_change_percentage_200d</th>\n",
       "      <th>price_change_percentage_1y</th>\n",
       "    </tr>\n",
       "    <tr>\n",
       "      <th>coin_id</th>\n",
       "      <th></th>\n",
       "      <th></th>\n",
       "      <th></th>\n",
       "      <th></th>\n",
       "      <th></th>\n",
       "      <th></th>\n",
       "      <th></th>\n",
       "    </tr>\n",
       "  </thead>\n",
       "  <tbody>\n",
       "    <tr>\n",
       "      <th>bitcoin</th>\n",
       "      <td>0.508529</td>\n",
       "      <td>0.493193</td>\n",
       "      <td>0.772200</td>\n",
       "      <td>0.235460</td>\n",
       "      <td>-0.067495</td>\n",
       "      <td>-0.355953</td>\n",
       "      <td>-0.251637</td>\n",
       "    </tr>\n",
       "    <tr>\n",
       "      <th>ethereum</th>\n",
       "      <td>0.185446</td>\n",
       "      <td>0.934445</td>\n",
       "      <td>0.558692</td>\n",
       "      <td>-0.054341</td>\n",
       "      <td>-0.273483</td>\n",
       "      <td>-0.115759</td>\n",
       "      <td>-0.199352</td>\n",
       "    </tr>\n",
       "    <tr>\n",
       "      <th>tether</th>\n",
       "      <td>0.021774</td>\n",
       "      <td>-0.706337</td>\n",
       "      <td>-0.021680</td>\n",
       "      <td>-0.061030</td>\n",
       "      <td>0.008005</td>\n",
       "      <td>-0.550247</td>\n",
       "      <td>-0.282061</td>\n",
       "    </tr>\n",
       "    <tr>\n",
       "      <th>ripple</th>\n",
       "      <td>-0.040764</td>\n",
       "      <td>-0.810928</td>\n",
       "      <td>0.249458</td>\n",
       "      <td>-0.050388</td>\n",
       "      <td>-0.373164</td>\n",
       "      <td>-0.458259</td>\n",
       "      <td>-0.295546</td>\n",
       "    </tr>\n",
       "    <tr>\n",
       "      <th>bitcoin-cash</th>\n",
       "      <td>1.193036</td>\n",
       "      <td>2.000959</td>\n",
       "      <td>1.760610</td>\n",
       "      <td>0.545842</td>\n",
       "      <td>-0.291203</td>\n",
       "      <td>-0.499848</td>\n",
       "      <td>-0.270317</td>\n",
       "    </tr>\n",
       "  </tbody>\n",
       "</table>\n",
       "</div>"
      ],
      "text/plain": [
       "              price_change_percentage_24h  price_change_percentage_7d  \\\n",
       "coin_id                                                                 \n",
       "bitcoin                          0.508529                    0.493193   \n",
       "ethereum                         0.185446                    0.934445   \n",
       "tether                           0.021774                   -0.706337   \n",
       "ripple                          -0.040764                   -0.810928   \n",
       "bitcoin-cash                     1.193036                    2.000959   \n",
       "\n",
       "              price_change_percentage_14d  price_change_percentage_30d  \\\n",
       "coin_id                                                                  \n",
       "bitcoin                          0.772200                     0.235460   \n",
       "ethereum                         0.558692                    -0.054341   \n",
       "tether                          -0.021680                    -0.061030   \n",
       "ripple                           0.249458                    -0.050388   \n",
       "bitcoin-cash                     1.760610                     0.545842   \n",
       "\n",
       "              price_change_percentage_60d  price_change_percentage_200d  \\\n",
       "coin_id                                                                   \n",
       "bitcoin                         -0.067495                     -0.355953   \n",
       "ethereum                        -0.273483                     -0.115759   \n",
       "tether                           0.008005                     -0.550247   \n",
       "ripple                          -0.373164                     -0.458259   \n",
       "bitcoin-cash                    -0.291203                     -0.499848   \n",
       "\n",
       "              price_change_percentage_1y  \n",
       "coin_id                                   \n",
       "bitcoin                        -0.251637  \n",
       "ethereum                       -0.199352  \n",
       "tether                         -0.282061  \n",
       "ripple                         -0.295546  \n",
       "bitcoin-cash                   -0.270317  "
      ]
     },
     "execution_count": 83,
     "metadata": {},
     "output_type": "execute_result"
    }
   ],
   "source": [
    "# Create a DataFrame with the scaled data\n",
    "df_market_data_scaled = pd.DataFrame(\n",
    "    scaled_data,\n",
    "    columns=df_market_data.columns\n",
    ")\n",
    "\n",
    "# Copy the crypto names from the original data\n",
    "df_market_data_scaled[\"coin_id\"] = df_market_data.index\n",
    "\n",
    "# Set the coinid column as index\n",
    "df_market_data_scaled = df_market_data_scaled.set_index(\"coin_id\")\n",
    "\n",
    "# Display sample data\n",
    "df_market_data_scaled.head()"
   ]
  },
  {
   "cell_type": "markdown",
   "metadata": {},
   "source": [
    "---"
   ]
  },
  {
   "cell_type": "markdown",
   "metadata": {},
   "source": [
    "# Cluster Cryptocurrencies with K-means\n",
    "\n",
    "In this section, you will use the K-Means algorithm with a given value for `k` to cluster the cryptocurrencies according to the price changes of cryptocurrencies provided.\n",
    "\n",
    "1. Initialize the K-Means model with four clusters (`n_clusters=4`). \n",
    "\n",
    "2. Fit the K-Means model using the scaled data.\n",
    "\n",
    "3. Predict the clusters to group the cryptocurrencies using the scaled data. View the resulting array of cluster values.\n",
    "\n",
    "4. Add a new column to the DataFrame with the scaled data with the predicted clusters.\n",
    "\n",
    "5. Create a scatter plot using hvPlot by setting `x=\"price_change_percentage_14d\"` and `y=\"price_change_percentage_1y\"`. Color the graph points with the labels found using K-Means and add the crypto name in the `hover_cols` parameter to identify the cryptocurrency represented by each data point."
   ]
  },
  {
   "cell_type": "code",
   "execution_count": 84,
   "metadata": {},
   "outputs": [],
   "source": [
    "# Initialize the K-Means model with four clusters\n",
    "model = KMeans(n_clusters=4)"
   ]
  },
  {
   "cell_type": "code",
   "execution_count": 85,
   "metadata": {},
   "outputs": [
    {
     "data": {
      "text/plain": [
       "KMeans(n_clusters=4)"
      ]
     },
     "execution_count": 85,
     "metadata": {},
     "output_type": "execute_result"
    }
   ],
   "source": [
    "# Fit the K-Means model using the scaled data\n",
    "model.fit(df_market_data_scaled)"
   ]
  },
  {
   "cell_type": "code",
   "execution_count": 86,
   "metadata": {},
   "outputs": [
    {
     "name": "stdout",
     "output_type": "stream",
     "text": [
      "[3 3 0 0 3 3 3 3 3 0 0 0 0 3 0 3 0 0 3 0 0 3 0 0 0 0 0 0 3 0 0 0 1 3 0 0 2\n",
      " 0 0 0 0]\n"
     ]
    }
   ],
   "source": [
    "# Predict the clusters to group the cryptocurrencies using the scaled data\n",
    "crypto_clusters_k4 = model.predict(df_market_data_scaled)\n",
    "\n",
    "# View the resulting array of cluster values.\n",
    "print(crypto_clusters_k4)"
   ]
  },
  {
   "cell_type": "code",
   "execution_count": 87,
   "metadata": {},
   "outputs": [
    {
     "data": {
      "text/html": [
       "<div>\n",
       "<style scoped>\n",
       "    .dataframe tbody tr th:only-of-type {\n",
       "        vertical-align: middle;\n",
       "    }\n",
       "\n",
       "    .dataframe tbody tr th {\n",
       "        vertical-align: top;\n",
       "    }\n",
       "\n",
       "    .dataframe thead th {\n",
       "        text-align: right;\n",
       "    }\n",
       "</style>\n",
       "<table border=\"1\" class=\"dataframe\">\n",
       "  <thead>\n",
       "    <tr style=\"text-align: right;\">\n",
       "      <th></th>\n",
       "      <th>price_change_percentage_24h</th>\n",
       "      <th>price_change_percentage_7d</th>\n",
       "      <th>price_change_percentage_14d</th>\n",
       "      <th>price_change_percentage_30d</th>\n",
       "      <th>price_change_percentage_60d</th>\n",
       "      <th>price_change_percentage_200d</th>\n",
       "      <th>price_change_percentage_1y</th>\n",
       "      <th>crypto_cluster_k4</th>\n",
       "    </tr>\n",
       "    <tr>\n",
       "      <th>coin_id</th>\n",
       "      <th></th>\n",
       "      <th></th>\n",
       "      <th></th>\n",
       "      <th></th>\n",
       "      <th></th>\n",
       "      <th></th>\n",
       "      <th></th>\n",
       "      <th></th>\n",
       "    </tr>\n",
       "  </thead>\n",
       "  <tbody>\n",
       "    <tr>\n",
       "      <th>bitcoin</th>\n",
       "      <td>0.508529</td>\n",
       "      <td>0.493193</td>\n",
       "      <td>0.772200</td>\n",
       "      <td>0.235460</td>\n",
       "      <td>-0.067495</td>\n",
       "      <td>-0.355953</td>\n",
       "      <td>-0.251637</td>\n",
       "      <td>3</td>\n",
       "    </tr>\n",
       "    <tr>\n",
       "      <th>ethereum</th>\n",
       "      <td>0.185446</td>\n",
       "      <td>0.934445</td>\n",
       "      <td>0.558692</td>\n",
       "      <td>-0.054341</td>\n",
       "      <td>-0.273483</td>\n",
       "      <td>-0.115759</td>\n",
       "      <td>-0.199352</td>\n",
       "      <td>3</td>\n",
       "    </tr>\n",
       "    <tr>\n",
       "      <th>tether</th>\n",
       "      <td>0.021774</td>\n",
       "      <td>-0.706337</td>\n",
       "      <td>-0.021680</td>\n",
       "      <td>-0.061030</td>\n",
       "      <td>0.008005</td>\n",
       "      <td>-0.550247</td>\n",
       "      <td>-0.282061</td>\n",
       "      <td>0</td>\n",
       "    </tr>\n",
       "    <tr>\n",
       "      <th>ripple</th>\n",
       "      <td>-0.040764</td>\n",
       "      <td>-0.810928</td>\n",
       "      <td>0.249458</td>\n",
       "      <td>-0.050388</td>\n",
       "      <td>-0.373164</td>\n",
       "      <td>-0.458259</td>\n",
       "      <td>-0.295546</td>\n",
       "      <td>0</td>\n",
       "    </tr>\n",
       "    <tr>\n",
       "      <th>bitcoin-cash</th>\n",
       "      <td>1.193036</td>\n",
       "      <td>2.000959</td>\n",
       "      <td>1.760610</td>\n",
       "      <td>0.545842</td>\n",
       "      <td>-0.291203</td>\n",
       "      <td>-0.499848</td>\n",
       "      <td>-0.270317</td>\n",
       "      <td>3</td>\n",
       "    </tr>\n",
       "  </tbody>\n",
       "</table>\n",
       "</div>"
      ],
      "text/plain": [
       "              price_change_percentage_24h  price_change_percentage_7d  \\\n",
       "coin_id                                                                 \n",
       "bitcoin                          0.508529                    0.493193   \n",
       "ethereum                         0.185446                    0.934445   \n",
       "tether                           0.021774                   -0.706337   \n",
       "ripple                          -0.040764                   -0.810928   \n",
       "bitcoin-cash                     1.193036                    2.000959   \n",
       "\n",
       "              price_change_percentage_14d  price_change_percentage_30d  \\\n",
       "coin_id                                                                  \n",
       "bitcoin                          0.772200                     0.235460   \n",
       "ethereum                         0.558692                    -0.054341   \n",
       "tether                          -0.021680                    -0.061030   \n",
       "ripple                           0.249458                    -0.050388   \n",
       "bitcoin-cash                     1.760610                     0.545842   \n",
       "\n",
       "              price_change_percentage_60d  price_change_percentage_200d  \\\n",
       "coin_id                                                                   \n",
       "bitcoin                         -0.067495                     -0.355953   \n",
       "ethereum                        -0.273483                     -0.115759   \n",
       "tether                           0.008005                     -0.550247   \n",
       "ripple                          -0.373164                     -0.458259   \n",
       "bitcoin-cash                    -0.291203                     -0.499848   \n",
       "\n",
       "              price_change_percentage_1y  crypto_cluster_k4  \n",
       "coin_id                                                      \n",
       "bitcoin                        -0.251637                  3  \n",
       "ethereum                       -0.199352                  3  \n",
       "tether                         -0.282061                  0  \n",
       "ripple                         -0.295546                  0  \n",
       "bitcoin-cash                   -0.270317                  3  "
      ]
     },
     "execution_count": 87,
     "metadata": {},
     "output_type": "execute_result"
    }
   ],
   "source": [
    "# Note: The code for this step is provided for you.\n",
    "\n",
    "# Add a new column to the DataFrame with the predicted clusters with k=4\n",
    "df_market_data_scaled[\"crypto_cluster_k4\"] = crypto_clusters_k4\n",
    "\n",
    "# Display sample data\n",
    "df_market_data_scaled.head()"
   ]
  },
  {
   "cell_type": "code",
   "execution_count": 88,
   "metadata": {},
   "outputs": [
    {
     "data": {},
     "metadata": {},
     "output_type": "display_data"
    },
    {
     "data": {
      "application/vnd.holoviews_exec.v0+json": "",
      "text/html": [
       "<div id='8794'>\n",
       "\n",
       "\n",
       "\n",
       "\n",
       "\n",
       "  <div class=\"bk-root\" id=\"e5d15c96-259c-402e-9e33-e0c34db34b1f\" data-root-id=\"8794\"></div>\n",
       "</div>\n",
       "<script type=\"application/javascript\">(function(root) {\n",
       "  function embed_document(root) {\n",
       "    var docs_json = {\"e03d1551-8f51-4f20-b604-8a9236057d75\":{\"roots\":{\"references\":[{\"attributes\":{\"fill_color\":{\"value\":\"#e5ae38\"},\"line_color\":{\"value\":\"#e5ae38\"},\"marker\":{\"value\":\"inverted_triangle\"},\"size\":{\"units\":\"screen\",\"value\":5.477225575051661},\"x\":{\"field\":\"price_change_percentage_14d\"},\"y\":{\"field\":\"price_change_percentage_1y\"}},\"id\":\"8876\",\"type\":\"Scatter\"},{\"attributes\":{},\"id\":\"8812\",\"type\":\"BasicTicker\"},{\"attributes\":{},\"id\":\"8874\",\"type\":\"Selection\"},{\"attributes\":{\"end\":6.72712095745086,\"reset_end\":6.72712095745086,\"reset_start\":-0.9348250733816648,\"start\":-0.9348250733816648,\"tags\":[[[\"price_change_percentage_1y\",\"price_change_percentage_1y\",null]]]},\"id\":\"8797\",\"type\":\"Range1d\"},{\"attributes\":{\"axis_label\":\"price_change_percentage_14d\",\"bounds\":\"auto\",\"formatter\":{\"id\":\"8833\"},\"major_label_orientation\":\"horizontal\",\"ticker\":{\"id\":\"8812\"}},\"id\":\"8811\",\"type\":\"LinearAxis\"},{\"attributes\":{\"axis\":{\"id\":\"8811\"},\"grid_line_color\":null,\"ticker\":null},\"id\":\"8814\",\"type\":\"Grid\"},{\"attributes\":{\"fill_alpha\":{\"value\":0.1},\"fill_color\":{\"value\":\"#fc4f30\"},\"line_alpha\":{\"value\":0.1},\"line_color\":{\"value\":\"#fc4f30\"},\"marker\":{\"value\":\"square\"},\"size\":{\"units\":\"screen\",\"value\":5.477225575051661},\"x\":{\"field\":\"price_change_percentage_14d\"},\"y\":{\"field\":\"price_change_percentage_1y\"}},\"id\":\"8858\",\"type\":\"Scatter\"},{\"attributes\":{\"label\":{\"value\":\"1\"},\"renderers\":[{\"id\":\"8860\"}]},\"id\":\"8872\",\"type\":\"LegendItem\"},{\"attributes\":{\"label\":{\"value\":\"2\"},\"renderers\":[{\"id\":\"8879\"}]},\"id\":\"8893\",\"type\":\"LegendItem\"},{\"attributes\":{\"callback\":null,\"renderers\":[{\"id\":\"8842\"},{\"id\":\"8860\"},{\"id\":\"8879\"},{\"id\":\"8900\"}],\"tags\":[\"hv_created\"],\"tooltips\":[[\"crypto_cluster_k4\",\"@{crypto_cluster_k4}\"],[\"price_change_percentage_14d\",\"@{price_change_percentage_14d}\"],[\"price_change_percentage_1y\",\"@{price_change_percentage_1y}\"],[\"coin_id\",\"@{coin_id}\"]]},\"id\":\"8798\",\"type\":\"HoverTool\"},{\"attributes\":{},\"id\":\"8895\",\"type\":\"Selection\"},{\"attributes\":{},\"id\":\"8809\",\"type\":\"LinearScale\"},{\"attributes\":{\"data_source\":{\"id\":\"8873\"},\"glyph\":{\"id\":\"8876\"},\"hover_glyph\":null,\"muted_glyph\":{\"id\":\"8878\"},\"nonselection_glyph\":{\"id\":\"8877\"},\"selection_glyph\":null,\"view\":{\"id\":\"8880\"}},\"id\":\"8879\",\"type\":\"GlyphRenderer\"},{\"attributes\":{\"fill_alpha\":{\"value\":0.1},\"fill_color\":{\"value\":\"#30a2da\"},\"line_alpha\":{\"value\":0.1},\"line_color\":{\"value\":\"#30a2da\"},\"marker\":{\"value\":\"hex\"},\"size\":{\"units\":\"screen\",\"value\":5.477225575051661},\"x\":{\"field\":\"price_change_percentage_14d\"},\"y\":{\"field\":\"price_change_percentage_1y\"}},\"id\":\"8840\",\"type\":\"Scatter\"},{\"attributes\":{\"source\":{\"id\":\"8873\"}},\"id\":\"8880\",\"type\":\"CDSView\"},{\"attributes\":{\"bottom_units\":\"screen\",\"fill_alpha\":0.5,\"fill_color\":\"lightgrey\",\"left_units\":\"screen\",\"level\":\"overlay\",\"line_alpha\":1.0,\"line_color\":\"black\",\"line_dash\":[4,4],\"line_width\":2,\"right_units\":\"screen\",\"top_units\":\"screen\"},\"id\":\"8824\",\"type\":\"BoxAnnotation\"},{\"attributes\":{\"data_source\":{\"id\":\"8836\"},\"glyph\":{\"id\":\"8839\"},\"hover_glyph\":null,\"muted_glyph\":{\"id\":\"8841\"},\"nonselection_glyph\":{\"id\":\"8840\"},\"selection_glyph\":null,\"view\":{\"id\":\"8843\"}},\"id\":\"8842\",\"type\":\"GlyphRenderer\"},{\"attributes\":{},\"id\":\"8855\",\"type\":\"Selection\"},{\"attributes\":{\"margin\":[5,5,5,5],\"name\":\"HSpacer19223\",\"sizing_mode\":\"stretch_width\"},\"id\":\"8795\",\"type\":\"Spacer\"},{\"attributes\":{\"fill_alpha\":{\"value\":0.2},\"fill_color\":{\"value\":\"#30a2da\"},\"line_alpha\":{\"value\":0.2},\"line_color\":{\"value\":\"#30a2da\"},\"marker\":{\"value\":\"hex\"},\"size\":{\"units\":\"screen\",\"value\":5.477225575051661},\"x\":{\"field\":\"price_change_percentage_14d\"},\"y\":{\"field\":\"price_change_percentage_1y\"}},\"id\":\"8841\",\"type\":\"Scatter\"},{\"attributes\":{\"data\":{\"coin_id\":[\"ethlend\"],\"crypto_cluster_k4\":[1],\"price_change_percentage_14d\":{\"__ndarray__\":\"EjPPN7FP878=\",\"dtype\":\"float64\",\"order\":\"little\",\"shape\":[1]},\"price_change_percentage_1y\":{\"__ndarray__\":\"gzyZocBaGEA=\",\"dtype\":\"float64\",\"order\":\"little\",\"shape\":[1]}},\"selected\":{\"id\":\"8855\"},\"selection_policy\":{\"id\":\"8870\"}},\"id\":\"8854\",\"type\":\"ColumnDataSource\"},{\"attributes\":{},\"id\":\"8914\",\"type\":\"UnionRenderers\"},{\"attributes\":{},\"id\":\"8807\",\"type\":\"LinearScale\"},{\"attributes\":{\"data\":{\"coin_id\":[\"bitcoin\",\"ethereum\",\"bitcoin-cash\",\"binancecoin\",\"chainlink\",\"cardano\",\"litecoin\",\"monero\",\"tezos\",\"cosmos\",\"wrapped-bitcoin\",\"zcash\",\"maker\"],\"crypto_cluster_k4\":[3,3,3,3,3,3,3,3,3,3,3,3,3],\"price_change_percentage_14d\":{\"__ndarray__\":\"muLdrt216D+PSHVMzuDhP7gQi2Z1K/w/MGmtxlqb6T8Pp+OGWKDxPxTMkJqqw+Q/7P2Jpv546z+cw3/YDp8BQLcNxiFGg9A/52DgXhWY5D8wjSqEo6PoPwsFcdFXruU/AkzpMNDmyb8=\",\"dtype\":\"float64\",\"order\":\"little\",\"shape\":[13]},\"price_change_percentage_1y\":{\"__ndarray__\":\"ZIOvlNEa0L8+RW61XoTJvzHqfHffTNG/VVzrnEDezL8xTPVHJbmSv20aeg4U5cO/QqlS3eG10r+H6xnpXXXFv2O+GP+0kMW/vQghwWCLy7/FkSn9mBrQvxtcXcmAf8u/IdIwj+5/0b8=\",\"dtype\":\"float64\",\"order\":\"little\",\"shape\":[13]}},\"selected\":{\"id\":\"8895\"},\"selection_policy\":{\"id\":\"8914\"}},\"id\":\"8894\",\"type\":\"ColumnDataSource\"},{\"attributes\":{},\"id\":\"8819\",\"type\":\"SaveTool\"},{\"attributes\":{},\"id\":\"8870\",\"type\":\"UnionRenderers\"},{\"attributes\":{\"fill_alpha\":{\"value\":0.1},\"fill_color\":{\"value\":\"#6d904f\"},\"line_alpha\":{\"value\":0.1},\"line_color\":{\"value\":\"#6d904f\"},\"marker\":{\"value\":\"triangle\"},\"size\":{\"units\":\"screen\",\"value\":5.477225575051661},\"x\":{\"field\":\"price_change_percentage_14d\"},\"y\":{\"field\":\"price_change_percentage_1y\"}},\"id\":\"8898\",\"type\":\"Scatter\"},{\"attributes\":{},\"id\":\"8820\",\"type\":\"PanTool\"},{\"attributes\":{},\"id\":\"8821\",\"type\":\"WheelZoomTool\"},{\"attributes\":{\"active_drag\":\"auto\",\"active_inspect\":\"auto\",\"active_multi\":null,\"active_scroll\":\"auto\",\"active_tap\":\"auto\",\"tools\":[{\"id\":\"8798\"},{\"id\":\"8819\"},{\"id\":\"8820\"},{\"id\":\"8821\"},{\"id\":\"8822\"},{\"id\":\"8823\"}]},\"id\":\"8825\",\"type\":\"Toolbar\"},{\"attributes\":{\"fill_alpha\":{\"value\":0.2},\"fill_color\":{\"value\":\"#fc4f30\"},\"line_alpha\":{\"value\":0.2},\"line_color\":{\"value\":\"#fc4f30\"},\"marker\":{\"value\":\"square\"},\"size\":{\"units\":\"screen\",\"value\":5.477225575051661},\"x\":{\"field\":\"price_change_percentage_14d\"},\"y\":{\"field\":\"price_change_percentage_1y\"}},\"id\":\"8859\",\"type\":\"Scatter\"},{\"attributes\":{\"source\":{\"id\":\"8894\"}},\"id\":\"8901\",\"type\":\"CDSView\"},{\"attributes\":{\"children\":[{\"id\":\"8795\"},{\"id\":\"8802\"},{\"id\":\"9043\"}],\"margin\":[0,0,0,0],\"name\":\"Row19219\",\"tags\":[\"embedded\"]},\"id\":\"8794\",\"type\":\"Row\"},{\"attributes\":{},\"id\":\"8835\",\"type\":\"BasicTickFormatter\"},{\"attributes\":{\"fill_color\":{\"value\":\"#30a2da\"},\"line_color\":{\"value\":\"#30a2da\"},\"marker\":{\"value\":\"hex\"},\"size\":{\"units\":\"screen\",\"value\":5.477225575051661},\"x\":{\"field\":\"price_change_percentage_14d\"},\"y\":{\"field\":\"price_change_percentage_1y\"}},\"id\":\"8839\",\"type\":\"Scatter\"},{\"attributes\":{\"fill_color\":{\"value\":\"#6d904f\"},\"line_color\":{\"value\":\"#6d904f\"},\"marker\":{\"value\":\"triangle\"},\"size\":{\"units\":\"screen\",\"value\":5.477225575051661},\"x\":{\"field\":\"price_change_percentage_14d\"},\"y\":{\"field\":\"price_change_percentage_1y\"}},\"id\":\"8897\",\"type\":\"Scatter\"},{\"attributes\":{\"source\":{\"id\":\"8836\"}},\"id\":\"8843\",\"type\":\"CDSView\"},{\"attributes\":{\"overlay\":{\"id\":\"8824\"}},\"id\":\"8822\",\"type\":\"BoxZoomTool\"},{\"attributes\":{\"margin\":[5,5,5,5],\"name\":\"HSpacer19224\",\"sizing_mode\":\"stretch_width\"},\"id\":\"9043\",\"type\":\"Spacer\"},{\"attributes\":{\"data_source\":{\"id\":\"8854\"},\"glyph\":{\"id\":\"8857\"},\"hover_glyph\":null,\"muted_glyph\":{\"id\":\"8859\"},\"nonselection_glyph\":{\"id\":\"8858\"},\"selection_glyph\":null,\"view\":{\"id\":\"8861\"}},\"id\":\"8860\",\"type\":\"GlyphRenderer\"},{\"attributes\":{\"data\":{\"coin_id\":[\"tether\",\"ripple\",\"bitcoin-cash-sv\",\"crypto-com-chain\",\"usd-coin\",\"eos\",\"tron\",\"okb\",\"stellar\",\"cdai\",\"neo\",\"leo-token\",\"huobi-token\",\"nem\",\"binance-usd\",\"iota\",\"vechain\",\"theta-token\",\"dash\",\"ethereum-classic\",\"havven\",\"omisego\",\"ontology\",\"ftx-token\",\"true-usd\",\"digibyte\"],\"crypto_cluster_k4\":[0,0,0,0,0,0,0,0,0,0,0,0,0,0,0,0,0,0,0,0,0,0,0,0,0,0],\"price_change_percentage_14d\":{\"__ndarray__\":\"L3sBaGQzlr/L3F8oPe7PP3NjPGDhv8+/TLJsj1Hf8L+Va3M8HbKXv2U3cmQwcr0/fvuS3PnVwj9DVmWxpyjkvyKfjNZ4ncO/f94W1njBXb8A0bj4GGfzv1SDDY2/5uu/xd4oQb2moD9Ln4eDZwzTP0S7/nSKYI+/KswLTSmn3r+7kqAso7wBwNc2MV03JOq/Kbls7Q6ApD90cedROXjGvyrzUbHOD/q/Ol/1hYrq+b/cP0enpcj0v+lC29fyQqi/rjCfoLDSgr+uLyxJrgbtvw==\",\"dtype\":\"float64\",\"order\":\"little\",\"shape\":[26]},\"price_change_percentage_1y\":{\"__ndarray__\":\"0tbtgUcN0r9onRVeOurSv8DzHRIoX8q/ZYfU+i+zob9Zt1uMFxDSv9d+3k0Q99K/EJWswyz0zb8aTqSC/lzFv7zx0EUAVtG/r2LTfF0R0r/sbi65b3jGv4MlKg5a9tC/jZL+tujG0L8+5EUem4W+v7L3RgiwC9K/QBFeFIRC0r8zoGQ8RRO+vx0crWPUXdI/EKFv4Dku0r8VsZZ513nRv3r6/cSEMdE/58IWQ8Jplr9Y0yK6wrXSvxKiHMC8nsK/P3pCziMI0r/jEUnTKPXAvw==\",\"dtype\":\"float64\",\"order\":\"little\",\"shape\":[26]}},\"selected\":{\"id\":\"8837\"},\"selection_policy\":{\"id\":\"8850\"}},\"id\":\"8836\",\"type\":\"ColumnDataSource\"},{\"attributes\":{},\"id\":\"8833\",\"type\":\"BasicTickFormatter\"},{\"attributes\":{\"data\":{\"coin_id\":[\"celsius-degree-token\"],\"crypto_cluster_k4\":[2],\"price_change_percentage_14d\":{\"__ndarray__\":\"FFU2faVBB0A=\",\"dtype\":\"float64\",\"order\":\"little\",\"shape\":[1]},\"price_change_percentage_1y\":{\"__ndarray__\":\"OvTrj2iT9T8=\",\"dtype\":\"float64\",\"order\":\"little\",\"shape\":[1]}},\"selected\":{\"id\":\"8874\"},\"selection_policy\":{\"id\":\"8891\"}},\"id\":\"8873\",\"type\":\"ColumnDataSource\"},{\"attributes\":{\"axis_label\":\"price_change_percentage_1y\",\"bounds\":\"auto\",\"formatter\":{\"id\":\"8835\"},\"major_label_orientation\":\"horizontal\",\"ticker\":{\"id\":\"8816\"}},\"id\":\"8815\",\"type\":\"LinearAxis\"},{\"attributes\":{\"fill_color\":{\"value\":\"#fc4f30\"},\"line_color\":{\"value\":\"#fc4f30\"},\"marker\":{\"value\":\"square\"},\"size\":{\"units\":\"screen\",\"value\":5.477225575051661},\"x\":{\"field\":\"price_change_percentage_14d\"},\"y\":{\"field\":\"price_change_percentage_1y\"}},\"id\":\"8857\",\"type\":\"Scatter\"},{\"attributes\":{},\"id\":\"8823\",\"type\":\"ResetTool\"},{\"attributes\":{\"end\":3.126660870907022,\"reset_end\":3.126660870907022,\"reset_start\":-2.436715049554743,\"start\":-2.436715049554743,\"tags\":[[[\"price_change_percentage_14d\",\"price_change_percentage_14d\",null]]]},\"id\":\"8796\",\"type\":\"Range1d\"},{\"attributes\":{\"label\":{\"value\":\"0\"},\"renderers\":[{\"id\":\"8842\"}]},\"id\":\"8853\",\"type\":\"LegendItem\"},{\"attributes\":{\"source\":{\"id\":\"8854\"}},\"id\":\"8861\",\"type\":\"CDSView\"},{\"attributes\":{},\"id\":\"8837\",\"type\":\"Selection\"},{\"attributes\":{\"data_source\":{\"id\":\"8894\"},\"glyph\":{\"id\":\"8897\"},\"hover_glyph\":null,\"muted_glyph\":{\"id\":\"8899\"},\"nonselection_glyph\":{\"id\":\"8898\"},\"selection_glyph\":null,\"view\":{\"id\":\"8901\"}},\"id\":\"8900\",\"type\":\"GlyphRenderer\"},{\"attributes\":{\"fill_alpha\":{\"value\":0.1},\"fill_color\":{\"value\":\"#e5ae38\"},\"line_alpha\":{\"value\":0.1},\"line_color\":{\"value\":\"#e5ae38\"},\"marker\":{\"value\":\"inverted_triangle\"},\"size\":{\"units\":\"screen\",\"value\":5.477225575051661},\"x\":{\"field\":\"price_change_percentage_14d\"},\"y\":{\"field\":\"price_change_percentage_1y\"}},\"id\":\"8877\",\"type\":\"Scatter\"},{\"attributes\":{\"label\":{\"value\":\"3\"},\"renderers\":[{\"id\":\"8900\"}]},\"id\":\"8916\",\"type\":\"LegendItem\"},{\"attributes\":{},\"id\":\"8816\",\"type\":\"BasicTicker\"},{\"attributes\":{\"below\":[{\"id\":\"8811\"}],\"center\":[{\"id\":\"8814\"},{\"id\":\"8818\"}],\"left\":[{\"id\":\"8815\"}],\"margin\":[5,5,5,5],\"min_border_bottom\":10,\"min_border_left\":10,\"min_border_right\":10,\"min_border_top\":10,\"plot_height\":300,\"plot_width\":700,\"renderers\":[{\"id\":\"8842\"},{\"id\":\"8860\"},{\"id\":\"8879\"},{\"id\":\"8900\"}],\"right\":[{\"id\":\"8852\"}],\"sizing_mode\":\"fixed\",\"title\":{\"id\":\"8803\"},\"toolbar\":{\"id\":\"8825\"},\"x_range\":{\"id\":\"8796\"},\"x_scale\":{\"id\":\"8807\"},\"y_range\":{\"id\":\"8797\"},\"y_scale\":{\"id\":\"8809\"}},\"id\":\"8802\",\"subtype\":\"Figure\",\"type\":\"Plot\"},{\"attributes\":{},\"id\":\"8891\",\"type\":\"UnionRenderers\"},{\"attributes\":{\"axis\":{\"id\":\"8815\"},\"dimension\":1,\"grid_line_color\":null,\"ticker\":null},\"id\":\"8818\",\"type\":\"Grid\"},{\"attributes\":{},\"id\":\"8850\",\"type\":\"UnionRenderers\"},{\"attributes\":{\"fill_alpha\":{\"value\":0.2},\"fill_color\":{\"value\":\"#6d904f\"},\"line_alpha\":{\"value\":0.2},\"line_color\":{\"value\":\"#6d904f\"},\"marker\":{\"value\":\"triangle\"},\"size\":{\"units\":\"screen\",\"value\":5.477225575051661},\"x\":{\"field\":\"price_change_percentage_14d\"},\"y\":{\"field\":\"price_change_percentage_1y\"}},\"id\":\"8899\",\"type\":\"Scatter\"},{\"attributes\":{\"click_policy\":\"mute\",\"items\":[{\"id\":\"8853\"},{\"id\":\"8872\"},{\"id\":\"8893\"},{\"id\":\"8916\"}],\"location\":[0,0],\"title\":\"crypto_cluster_k4\"},\"id\":\"8852\",\"type\":\"Legend\"},{\"attributes\":{\"fill_alpha\":{\"value\":0.2},\"fill_color\":{\"value\":\"#e5ae38\"},\"line_alpha\":{\"value\":0.2},\"line_color\":{\"value\":\"#e5ae38\"},\"marker\":{\"value\":\"inverted_triangle\"},\"size\":{\"units\":\"screen\",\"value\":5.477225575051661},\"x\":{\"field\":\"price_change_percentage_14d\"},\"y\":{\"field\":\"price_change_percentage_1y\"}},\"id\":\"8878\",\"type\":\"Scatter\"},{\"attributes\":{\"text\":\"\",\"text_color\":{\"value\":\"black\"},\"text_font_size\":{\"value\":\"12pt\"}},\"id\":\"8803\",\"type\":\"Title\"}],\"root_ids\":[\"8794\"]},\"title\":\"Bokeh Application\",\"version\":\"2.2.3\"}};\n",
       "    var render_items = [{\"docid\":\"e03d1551-8f51-4f20-b604-8a9236057d75\",\"root_ids\":[\"8794\"],\"roots\":{\"8794\":\"e5d15c96-259c-402e-9e33-e0c34db34b1f\"}}];\n",
       "    root.Bokeh.embed.embed_items_notebook(docs_json, render_items);\n",
       "  }\n",
       "  if (root.Bokeh !== undefined && root.Bokeh.Panel !== undefined) {\n",
       "    embed_document(root);\n",
       "  } else {\n",
       "    var attempts = 0;\n",
       "    var timer = setInterval(function(root) {\n",
       "      if (root.Bokeh !== undefined && root.Bokeh.Panel !== undefined) {\n",
       "        clearInterval(timer);\n",
       "        embed_document(root);\n",
       "      } else if (document.readyState == \"complete\") {\n",
       "        attempts++;\n",
       "        if (attempts > 100) {\n",
       "          clearInterval(timer);\n",
       "          console.log(\"Bokeh: ERROR: Unable to run BokehJS code because BokehJS library is missing\");\n",
       "        }\n",
       "      }\n",
       "    }, 10, root)\n",
       "  }\n",
       "})(window);</script>"
      ],
      "text/plain": [
       ":NdOverlay   [crypto_cluster_k4]\n",
       "   :Scatter   [price_change_percentage_14d]   (price_change_percentage_1y,coin_id)"
      ]
     },
     "execution_count": 88,
     "metadata": {
      "application/vnd.holoviews_exec.v0+json": {
       "id": "8794"
      }
     },
     "output_type": "execute_result"
    }
   ],
   "source": [
    "# Create a scatter plot using hvPlot by setting \n",
    "# `x=\"price_change_percentage_14d\"` and `y=\"price_change_percentage_1y\"`.\n",
    "# Group the results by the clusters using `by=\"crypto_cluster_k4\".\n",
    "# Set the hover to the coin id using `hover_cols=[\"coin_id\"]`.\n",
    "\n",
    "df_market_data_scaled.hvplot.scatter(\n",
    "    x=\"price_change_percentage_14d\",\n",
    "    y=\"price_change_percentage_1y\",\n",
    "    by=\"crypto_cluster_k4\",\n",
    "    hover_cols=[\"coin_id\"],\n",
    "    marker=[\"hex\", \"square\", \"inverted_triangle\", \"triangle\"],\n",
    ")"
   ]
  },
  {
   "cell_type": "markdown",
   "metadata": {},
   "source": [
    "---"
   ]
  },
  {
   "cell_type": "markdown",
   "metadata": {},
   "source": [
    "# Find the Best Value for k\n",
    "\n",
    "In this section, you will use the elbow method to find the best value for k.\n",
    "\n",
    "1. Code the elbow method algorithm to find the best value for k. Use a range from 1 to 11. \n",
    "\n",
    "2. Plot a line chart with all the inertia values computed with the different values of k to visually identify the optimal value for k.\n",
    "\n",
    "3. Answer the following question: What is the best value for k?"
   ]
  },
  {
   "cell_type": "code",
   "execution_count": 89,
   "metadata": {},
   "outputs": [],
   "source": [
    "# Testing to see if removing crypto_cluster_k4 column affects the inertia values or explained variance ratio\n",
    "\n",
    "# df_market_data_scaled_2 = df_market_data_scaled\n",
    "# del df_market_data_scaled_2[\"crypto_cluster_k4\"]\n",
    "# df_market_data_scaled_2.head()\n"
   ]
  },
  {
   "cell_type": "code",
   "execution_count": 90,
   "metadata": {},
   "outputs": [],
   "source": [
    "# Create a list with the number of k-values to try\n",
    "# Use a range from 1 to 11\n",
    "k = list(range(1, 11))"
   ]
  },
  {
   "cell_type": "code",
   "execution_count": 91,
   "metadata": {},
   "outputs": [],
   "source": [
    "# Create an empy list to store the inertia values\n",
    "inertia = []"
   ]
  },
  {
   "cell_type": "code",
   "execution_count": 92,
   "metadata": {},
   "outputs": [
    {
     "data": {
      "text/plain": [
       "[365.97560975609747,\n",
       " 235.24832664469125,\n",
       " 148.17104669846995,\n",
       " 79.02243535120977,\n",
       " 65.34459371393494,\n",
       " 53.057788465670605,\n",
       " 44.86985264685038,\n",
       " 40.403531474773835,\n",
       " 33.38099306465342,\n",
       " 28.924993230299695]"
      ]
     },
     "execution_count": 92,
     "metadata": {},
     "output_type": "execute_result"
    }
   ],
   "source": [
    "# Create a for loop to compute the inertia with each possible value of k\n",
    "# Inside the loop:\n",
    "# 1. Create a KMeans model using the loop counter for the n_clusters\n",
    "# 2. Fit the model to the data using `df_market_data_scaled`\n",
    "# 3. Append the model.inertia_ to the inirtia list\n",
    "for i in k:\n",
    "    model = KMeans(n_clusters=i, random_state=0)\n",
    "    model.fit(df_market_data_scaled)\n",
    "    inertia.append(model.inertia_)\n",
    "    \n",
    "# View the inertia list\n",
    "inertia"
   ]
  },
  {
   "cell_type": "code",
   "execution_count": 93,
   "metadata": {},
   "outputs": [],
   "source": [
    "# Create a dictionary with the data to plot the Elbow curve\n",
    "elbow_data = {\n",
    "    \"k\": k,\n",
    "    \"inertia\": inertia\n",
    "}\n",
    "\n",
    "# Create a DataFrame with the data to plot the Elbow curve\n",
    "df_elbow = pd.DataFrame(elbow_data)"
   ]
  },
  {
   "cell_type": "code",
   "execution_count": 104,
   "metadata": {},
   "outputs": [
    {
     "data": {},
     "metadata": {},
     "output_type": "display_data"
    },
    {
     "data": {
      "application/vnd.holoviews_exec.v0+json": "",
      "text/html": [
       "<div id='9912'>\n",
       "\n",
       "\n",
       "\n",
       "\n",
       "\n",
       "  <div class=\"bk-root\" id=\"a516dfc6-8ca2-4641-9d0e-cc1f4f9f14d0\" data-root-id=\"9912\"></div>\n",
       "</div>\n",
       "<script type=\"application/javascript\">(function(root) {\n",
       "  function embed_document(root) {\n",
       "    var docs_json = {\"e8173d67-5f37-4537-ba98-866af8b96c3a\":{\"roots\":{\"references\":[{\"attributes\":{\"overlay\":{\"id\":\"9939\"}},\"id\":\"9937\",\"type\":\"BoxZoomTool\"},{\"attributes\":{\"margin\":[5,5,5,5],\"name\":\"HSpacer21866\",\"sizing_mode\":\"stretch_width\"},\"id\":\"9976\",\"type\":\"Spacer\"},{\"attributes\":{\"text\":\"Elbow Curve\",\"text_color\":{\"value\":\"black\"},\"text_font_size\":{\"value\":\"12pt\"}},\"id\":\"9918\",\"type\":\"Title\"},{\"attributes\":{\"axis_label\":\"k\",\"bounds\":\"auto\",\"formatter\":{\"id\":\"9957\"},\"major_label_orientation\":\"horizontal\",\"ticker\":{\"id\":\"9955\"}},\"id\":\"9926\",\"type\":\"LinearAxis\"},{\"attributes\":{\"below\":[{\"id\":\"9926\"}],\"center\":[{\"id\":\"9929\"},{\"id\":\"9933\"}],\"left\":[{\"id\":\"9930\"}],\"margin\":[5,5,5,5],\"min_border_bottom\":10,\"min_border_left\":10,\"min_border_right\":10,\"min_border_top\":10,\"plot_height\":300,\"plot_width\":700,\"renderers\":[{\"id\":\"9953\"}],\"sizing_mode\":\"fixed\",\"title\":{\"id\":\"9918\"},\"toolbar\":{\"id\":\"9940\"},\"x_range\":{\"id\":\"9914\"},\"x_scale\":{\"id\":\"9922\"},\"y_range\":{\"id\":\"9915\"},\"y_scale\":{\"id\":\"9924\"}},\"id\":\"9917\",\"subtype\":\"Figure\",\"type\":\"Plot\"},{\"attributes\":{},\"id\":\"9938\",\"type\":\"ResetTool\"},{\"attributes\":{},\"id\":\"9924\",\"type\":\"LinearScale\"},{\"attributes\":{\"axis\":{\"id\":\"9930\"},\"dimension\":1,\"grid_line_color\":null,\"ticker\":null},\"id\":\"9933\",\"type\":\"Grid\"},{\"attributes\":{},\"id\":\"9922\",\"type\":\"LinearScale\"},{\"attributes\":{},\"id\":\"9957\",\"type\":\"BasicTickFormatter\"},{\"attributes\":{},\"id\":\"9961\",\"type\":\"BasicTickFormatter\"},{\"attributes\":{},\"id\":\"9967\",\"type\":\"UnionRenderers\"},{\"attributes\":{\"axis\":{\"id\":\"9926\"},\"grid_line_color\":null,\"ticker\":null},\"id\":\"9929\",\"type\":\"Grid\"},{\"attributes\":{\"line_color\":\"#30a2da\",\"line_width\":2,\"x\":{\"field\":\"k\"},\"y\":{\"field\":\"inertia\"}},\"id\":\"9950\",\"type\":\"Line\"},{\"attributes\":{\"ticks\":[1,2,3,4,5,6,7,8,9,10]},\"id\":\"9955\",\"type\":\"FixedTicker\"},{\"attributes\":{\"line_alpha\":0.2,\"line_color\":\"#30a2da\",\"line_width\":2,\"x\":{\"field\":\"k\"},\"y\":{\"field\":\"inertia\"}},\"id\":\"9952\",\"type\":\"Line\"},{\"attributes\":{},\"id\":\"9931\",\"type\":\"BasicTicker\"},{\"attributes\":{\"axis_label\":\"inertia\",\"bounds\":\"auto\",\"formatter\":{\"id\":\"9961\"},\"major_label_orientation\":\"horizontal\",\"ticker\":{\"id\":\"9931\"}},\"id\":\"9930\",\"type\":\"LinearAxis\"},{\"attributes\":{\"source\":{\"id\":\"9947\"}},\"id\":\"9954\",\"type\":\"CDSView\"},{\"attributes\":{\"data\":{\"inertia\":{\"__ndarray__\":\"jsH5GJzfdkCUNbhK8mdtQI0A7TZ5hWJAGO6ulG/BU0B/8MrSDVZQQBUSyZxlh0pA3UffVFdvRkC3h1vrpjNEQDlYeGHEsEBAmSg5W8zsPEA=\",\"dtype\":\"float64\",\"order\":\"little\",\"shape\":[10]},\"k\":[1,2,3,4,5,6,7,8,9,10]},\"selected\":{\"id\":\"9948\"},\"selection_policy\":{\"id\":\"9967\"}},\"id\":\"9947\",\"type\":\"ColumnDataSource\"},{\"attributes\":{\"bottom_units\":\"screen\",\"fill_alpha\":0.5,\"fill_color\":\"lightgrey\",\"left_units\":\"screen\",\"level\":\"overlay\",\"line_alpha\":1.0,\"line_color\":\"black\",\"line_dash\":[4,4],\"line_width\":2,\"right_units\":\"screen\",\"top_units\":\"screen\"},\"id\":\"9939\",\"type\":\"BoxAnnotation\"},{\"attributes\":{\"line_alpha\":0.1,\"line_color\":\"#30a2da\",\"line_width\":2,\"x\":{\"field\":\"k\"},\"y\":{\"field\":\"inertia\"}},\"id\":\"9951\",\"type\":\"Line\"},{\"attributes\":{\"margin\":[5,5,5,5],\"name\":\"HSpacer21865\",\"sizing_mode\":\"stretch_width\"},\"id\":\"9913\",\"type\":\"Spacer\"},{\"attributes\":{\"data_source\":{\"id\":\"9947\"},\"glyph\":{\"id\":\"9950\"},\"hover_glyph\":null,\"muted_glyph\":{\"id\":\"9952\"},\"nonselection_glyph\":{\"id\":\"9951\"},\"selection_glyph\":null,\"view\":{\"id\":\"9954\"}},\"id\":\"9953\",\"type\":\"GlyphRenderer\"},{\"attributes\":{\"end\":399.68067140867726,\"reset_end\":399.68067140867726,\"reset_start\":-4.780068422280085,\"start\":-4.780068422280085,\"tags\":[[[\"inertia\",\"inertia\",null]]]},\"id\":\"9915\",\"type\":\"Range1d\"},{\"attributes\":{\"active_drag\":\"auto\",\"active_inspect\":\"auto\",\"active_multi\":null,\"active_scroll\":\"auto\",\"active_tap\":\"auto\",\"tools\":[{\"id\":\"9916\"},{\"id\":\"9934\"},{\"id\":\"9935\"},{\"id\":\"9936\"},{\"id\":\"9937\"},{\"id\":\"9938\"}]},\"id\":\"9940\",\"type\":\"Toolbar\"},{\"attributes\":{\"end\":10.0,\"reset_end\":10.0,\"reset_start\":1.0,\"start\":1.0,\"tags\":[[[\"k\",\"k\",null]]]},\"id\":\"9914\",\"type\":\"Range1d\"},{\"attributes\":{},\"id\":\"9934\",\"type\":\"SaveTool\"},{\"attributes\":{},\"id\":\"9936\",\"type\":\"WheelZoomTool\"},{\"attributes\":{},\"id\":\"9948\",\"type\":\"Selection\"},{\"attributes\":{\"callback\":null,\"renderers\":[{\"id\":\"9953\"}],\"tags\":[\"hv_created\"],\"tooltips\":[[\"k\",\"@{k}\"],[\"inertia\",\"@{inertia}\"]]},\"id\":\"9916\",\"type\":\"HoverTool\"},{\"attributes\":{},\"id\":\"9935\",\"type\":\"PanTool\"},{\"attributes\":{\"children\":[{\"id\":\"9913\"},{\"id\":\"9917\"},{\"id\":\"9976\"}],\"margin\":[0,0,0,0],\"name\":\"Row21861\",\"tags\":[\"embedded\"]},\"id\":\"9912\",\"type\":\"Row\"}],\"root_ids\":[\"9912\"]},\"title\":\"Bokeh Application\",\"version\":\"2.2.3\"}};\n",
       "    var render_items = [{\"docid\":\"e8173d67-5f37-4537-ba98-866af8b96c3a\",\"root_ids\":[\"9912\"],\"roots\":{\"9912\":\"a516dfc6-8ca2-4641-9d0e-cc1f4f9f14d0\"}}];\n",
       "    root.Bokeh.embed.embed_items_notebook(docs_json, render_items);\n",
       "  }\n",
       "  if (root.Bokeh !== undefined && root.Bokeh.Panel !== undefined) {\n",
       "    embed_document(root);\n",
       "  } else {\n",
       "    var attempts = 0;\n",
       "    var timer = setInterval(function(root) {\n",
       "      if (root.Bokeh !== undefined && root.Bokeh.Panel !== undefined) {\n",
       "        clearInterval(timer);\n",
       "        embed_document(root);\n",
       "      } else if (document.readyState == \"complete\") {\n",
       "        attempts++;\n",
       "        if (attempts > 100) {\n",
       "          clearInterval(timer);\n",
       "          console.log(\"Bokeh: ERROR: Unable to run BokehJS code because BokehJS library is missing\");\n",
       "        }\n",
       "      }\n",
       "    }, 10, root)\n",
       "  }\n",
       "})(window);</script>"
      ],
      "text/plain": [
       ":Curve   [k]   (inertia)"
      ]
     },
     "execution_count": 104,
     "metadata": {
      "application/vnd.holoviews_exec.v0+json": {
       "id": "9912"
      }
     },
     "output_type": "execute_result"
    }
   ],
   "source": [
    "# Plot a line chart with all the inertia values computed with \n",
    "# the different values of k to visually identify the optimal value for k.\n",
    "df_elbow.hvplot.line(\n",
    "    x = \"k\",\n",
    "    y = \"inertia\",\n",
    "    title = \"Elbow Curve\",\n",
    "    xticks = k)"
   ]
  },
  {
   "cell_type": "markdown",
   "metadata": {},
   "source": [
    "#### 3. Answer the following question: What is the best value for k?\n",
    "**Question:** What is the best value for `k`?\n",
    "\n",
    "**Answer:** Based on the line graph above, the best value for K is 4."
   ]
  },
  {
   "cell_type": "markdown",
   "metadata": {},
   "source": [
    "---"
   ]
  },
  {
   "cell_type": "markdown",
   "metadata": {},
   "source": [
    "# Optimize Clusters with Principal Component Analysis\n",
    "\n",
    "In this section, you will perform a principal component analysis (PCA) and reduce the features to three principal components.\n",
    "\n",
    "1. Create a PCA model instance and set `n_components=3`.\n",
    "\n",
    "2. Use the PCA model to reduce to three principal components. View the first five rows of the DataFrame. \n",
    "\n",
    "3. Retrieve the explained variance to determine how much information can be attributed to each principal component.\n",
    "\n",
    "4. Answer the following question: What is the total explained variance of the three principal components?\n",
    "\n",
    "5. Create a new DataFrame with the PCA data. Be sure to set the `coin_id` index from the original DataFrame as the index for the new DataFrame. Review the resulting DataFrame.\n",
    "\n",
    "6. Initiate a new  K-Means algorithm using the PCA DataFrame to group the cryptocurrencies. Set the `n_components` parameter equal to the best value for `k` found before. View the resulting array. \n",
    "\n",
    "7. For further analysis, add the following columns to the DataFrame with the PCA data. Review the resulting DataFrame once the additional columns have been added. Make sure to do the following:\n",
    "\n",
    "    - From the original DataFrame, add the `price_change_percentage_1y` and `price_change_percentage_14d` columns.\n",
    "\n",
    "    - Add a column with the predicted cluster values identified using a k value of 4. (The predicted cluster values were calculated in the “Cluster Cryptocurrencies with K-means” section.)\n",
    "\n",
    "    - Add a column with the predicted cluster values identified using the optimal value for k. \n"
   ]
  },
  {
   "cell_type": "code",
   "execution_count": 105,
   "metadata": {},
   "outputs": [],
   "source": [
    "# Create a PCA model instance and set `n_components=3`.\n",
    "pca = PCA(n_components=3)"
   ]
  },
  {
   "cell_type": "code",
   "execution_count": 106,
   "metadata": {},
   "outputs": [
    {
     "data": {
      "text/plain": [
       "array([[ 2.05913887, -0.53668446, -0.43823774],\n",
       "       [ 1.95640089, -0.41082149, -1.0169655 ],\n",
       "       [-0.99014153, -0.45422783,  0.69002131],\n",
       "       [-0.9731886 , -0.49464992,  0.55123402],\n",
       "       [ 3.33036692, -1.02231141, -0.50134143]])"
      ]
     },
     "execution_count": 106,
     "metadata": {},
     "output_type": "execute_result"
    }
   ],
   "source": [
    "# Use the PCA model with `fit_transform` to reduce to \n",
    "# three principal components.\n",
    "market_pca_data = pca.fit_transform(df_market_data_scaled)\n",
    "\n",
    "# View the first five rows of the DataFrame. \n",
    "market_pca_data[:5]"
   ]
  },
  {
   "cell_type": "code",
   "execution_count": 107,
   "metadata": {},
   "outputs": [
    {
     "data": {
      "text/plain": [
       "array([0.38939231, 0.29166039, 0.20810061])"
      ]
     },
     "execution_count": 107,
     "metadata": {},
     "output_type": "execute_result"
    }
   ],
   "source": [
    "# Retrieve the explained variance to determine how much information \n",
    "# can be attributed to each principal component.\n",
    "pca.explained_variance_ratio_"
   ]
  },
  {
   "cell_type": "code",
   "execution_count": 108,
   "metadata": {},
   "outputs": [
    {
     "data": {
      "text/plain": [
       "0.889153306150571"
      ]
     },
     "execution_count": 108,
     "metadata": {},
     "output_type": "execute_result"
    }
   ],
   "source": [
    "pca.explained_variance_ratio_[0]+pca.explained_variance_ratio_[1]+pca.explained_variance_ratio_[2]"
   ]
  },
  {
   "cell_type": "markdown",
   "metadata": {},
   "source": [
    "Answer the following question: What is the total explained variance of the three principal components?\n",
    "\n",
    "**Question** What is the total explained variance of the three principal components?\n",
    "\n",
    "**Answer** The total explained variance is 88.92%"
   ]
  },
  {
   "cell_type": "code",
   "execution_count": 125,
   "metadata": {},
   "outputs": [
    {
     "data": {
      "text/html": [
       "<div>\n",
       "<style scoped>\n",
       "    .dataframe tbody tr th:only-of-type {\n",
       "        vertical-align: middle;\n",
       "    }\n",
       "\n",
       "    .dataframe tbody tr th {\n",
       "        vertical-align: top;\n",
       "    }\n",
       "\n",
       "    .dataframe thead th {\n",
       "        text-align: right;\n",
       "    }\n",
       "</style>\n",
       "<table border=\"1\" class=\"dataframe\">\n",
       "  <thead>\n",
       "    <tr style=\"text-align: right;\">\n",
       "      <th></th>\n",
       "      <th>PC1</th>\n",
       "      <th>PC2</th>\n",
       "      <th>PC3</th>\n",
       "    </tr>\n",
       "    <tr>\n",
       "      <th>coin_id</th>\n",
       "      <th></th>\n",
       "      <th></th>\n",
       "      <th></th>\n",
       "    </tr>\n",
       "  </thead>\n",
       "  <tbody>\n",
       "    <tr>\n",
       "      <th>bitcoin</th>\n",
       "      <td>2.059139</td>\n",
       "      <td>-0.536684</td>\n",
       "      <td>-0.438238</td>\n",
       "    </tr>\n",
       "    <tr>\n",
       "      <th>ethereum</th>\n",
       "      <td>1.956401</td>\n",
       "      <td>-0.410821</td>\n",
       "      <td>-1.016966</td>\n",
       "    </tr>\n",
       "    <tr>\n",
       "      <th>tether</th>\n",
       "      <td>-0.990142</td>\n",
       "      <td>-0.454228</td>\n",
       "      <td>0.690021</td>\n",
       "    </tr>\n",
       "    <tr>\n",
       "      <th>ripple</th>\n",
       "      <td>-0.973189</td>\n",
       "      <td>-0.494650</td>\n",
       "      <td>0.551234</td>\n",
       "    </tr>\n",
       "    <tr>\n",
       "      <th>bitcoin-cash</th>\n",
       "      <td>3.330367</td>\n",
       "      <td>-1.022311</td>\n",
       "      <td>-0.501341</td>\n",
       "    </tr>\n",
       "  </tbody>\n",
       "</table>\n",
       "</div>"
      ],
      "text/plain": [
       "                   PC1       PC2       PC3\n",
       "coin_id                                   \n",
       "bitcoin       2.059139 -0.536684 -0.438238\n",
       "ethereum      1.956401 -0.410821 -1.016966\n",
       "tether       -0.990142 -0.454228  0.690021\n",
       "ripple       -0.973189 -0.494650  0.551234\n",
       "bitcoin-cash  3.330367 -1.022311 -0.501341"
      ]
     },
     "execution_count": 125,
     "metadata": {},
     "output_type": "execute_result"
    }
   ],
   "source": [
    "# Create a new DataFrame with the PCA data.\n",
    "# Note: The code for this step is provided for you\n",
    "\n",
    "# Creating a DataFrame with the PCA data\n",
    "df_market_data_pca = pd.DataFrame(\n",
    "    market_pca_data, \n",
    "    columns=[\"PC1\", \"PC2\", \"PC3\"]\n",
    ")\n",
    "\n",
    "# Copy the crypto names from the original data\n",
    "df_market_data_pca[\"coin_id\"] = df_market_data.index\n",
    "\n",
    "# Set the coinid column as index\n",
    "df_market_data_pca = df_market_data_pca.set_index(\"coin_id\")\n",
    "\n",
    "# Display sample data\n",
    "df_market_data_pca.head()"
   ]
  },
  {
   "cell_type": "code",
   "execution_count": 127,
   "metadata": {},
   "outputs": [
    {
     "name": "stdout",
     "output_type": "stream",
     "text": [
      "[1 1 0 0 1 1 1 1 1 0 0 0 0 1 0 1 0 0 1 0 0 1 0 0 0 0 0 0 1 0 0 0 2 1 0 0 3\n",
      " 0 0 0 0]\n"
     ]
    }
   ],
   "source": [
    "# Initiate a new  K-Means algorithm using the PCA DataFrame to group \n",
    "# the cryptocurrencies. Set the `n_clusters` parameter equal to \n",
    "# the best value for `k` found before. View the resulting array. \n",
    "\n",
    "# Initialize the K-Means model\n",
    "model_pca = KMeans(n_clusters=4)\n",
    "\n",
    "# Fit the model\n",
    "model_pca.fit(df_market_data_pca)\n",
    "\n",
    "# Predict clusters\n",
    "crypto_clusters_k_four = model_pca.predict(df_market_data_pca)\n",
    "\n",
    "# View the resulting array\n",
    "print(crypto_clusters_k_four)"
   ]
  },
  {
   "cell_type": "code",
   "execution_count": 128,
   "metadata": {},
   "outputs": [
    {
     "name": "stdout",
     "output_type": "stream",
     "text": [
      "[1 1 0 0 1 1 1 1 1 0 0 0 0 1 0 1 0 0 1 0 0 1 0 0 0 0 0 0 1 4 0 0 2 1 0 0 3\n",
      " 0 0 0 0]\n"
     ]
    }
   ],
   "source": [
    "# Initiate a new  K-Means algorithm using the PCA DataFrame to group \n",
    "# the cryptocurrencies. Set the `n_clusters` parameter equal to \n",
    "# the best value for `k` found before. View the resulting array. \n",
    "\n",
    "# ** Setting k = 5 since that was suggested as a parameter in the starter code\n",
    "\n",
    "# Initialize the K-Means model\n",
    "model_pca = KMeans(n_clusters=5)\n",
    "\n",
    "# Fit the model\n",
    "model_pca.fit(df_market_data_pca)\n",
    "\n",
    "# Predict clusters\n",
    "crypto_clusters_k_5 = model_pca.predict(df_market_data_pca)\n",
    "\n",
    "# View the resulting array\n",
    "print(crypto_clusters_k_5)"
   ]
  },
  {
   "cell_type": "code",
   "execution_count": 129,
   "metadata": {},
   "outputs": [
    {
     "data": {
      "text/html": [
       "<div>\n",
       "<style scoped>\n",
       "    .dataframe tbody tr th:only-of-type {\n",
       "        vertical-align: middle;\n",
       "    }\n",
       "\n",
       "    .dataframe tbody tr th {\n",
       "        vertical-align: top;\n",
       "    }\n",
       "\n",
       "    .dataframe thead th {\n",
       "        text-align: right;\n",
       "    }\n",
       "</style>\n",
       "<table border=\"1\" class=\"dataframe\">\n",
       "  <thead>\n",
       "    <tr style=\"text-align: right;\">\n",
       "      <th></th>\n",
       "      <th>PC1</th>\n",
       "      <th>PC2</th>\n",
       "      <th>PC3</th>\n",
       "      <th>price_change_percentage_1y</th>\n",
       "      <th>price_change_percentage_14d</th>\n",
       "      <th>crypto_cluster_k4</th>\n",
       "      <th>crypto_cluster_k5</th>\n",
       "    </tr>\n",
       "    <tr>\n",
       "      <th>coin_id</th>\n",
       "      <th></th>\n",
       "      <th></th>\n",
       "      <th></th>\n",
       "      <th></th>\n",
       "      <th></th>\n",
       "      <th></th>\n",
       "      <th></th>\n",
       "    </tr>\n",
       "  </thead>\n",
       "  <tbody>\n",
       "    <tr>\n",
       "      <th>bitcoin</th>\n",
       "      <td>2.059139</td>\n",
       "      <td>-0.536684</td>\n",
       "      <td>-0.438238</td>\n",
       "      <td>37.51761</td>\n",
       "      <td>6.57509</td>\n",
       "      <td>3</td>\n",
       "      <td>1</td>\n",
       "    </tr>\n",
       "    <tr>\n",
       "      <th>ethereum</th>\n",
       "      <td>1.956401</td>\n",
       "      <td>-0.410821</td>\n",
       "      <td>-1.016966</td>\n",
       "      <td>101.96023</td>\n",
       "      <td>4.80849</td>\n",
       "      <td>3</td>\n",
       "      <td>1</td>\n",
       "    </tr>\n",
       "    <tr>\n",
       "      <th>tether</th>\n",
       "      <td>-0.990142</td>\n",
       "      <td>-0.454228</td>\n",
       "      <td>0.690021</td>\n",
       "      <td>0.01954</td>\n",
       "      <td>0.00640</td>\n",
       "      <td>0</td>\n",
       "      <td>0</td>\n",
       "    </tr>\n",
       "    <tr>\n",
       "      <th>ripple</th>\n",
       "      <td>-0.973189</td>\n",
       "      <td>-0.494650</td>\n",
       "      <td>0.551234</td>\n",
       "      <td>-16.60193</td>\n",
       "      <td>2.24984</td>\n",
       "      <td>0</td>\n",
       "      <td>0</td>\n",
       "    </tr>\n",
       "    <tr>\n",
       "      <th>bitcoin-cash</th>\n",
       "      <td>3.330367</td>\n",
       "      <td>-1.022311</td>\n",
       "      <td>-0.501341</td>\n",
       "      <td>14.49384</td>\n",
       "      <td>14.75334</td>\n",
       "      <td>3</td>\n",
       "      <td>1</td>\n",
       "    </tr>\n",
       "  </tbody>\n",
       "</table>\n",
       "</div>"
      ],
      "text/plain": [
       "                   PC1       PC2       PC3  price_change_percentage_1y  \\\n",
       "coin_id                                                                  \n",
       "bitcoin       2.059139 -0.536684 -0.438238                    37.51761   \n",
       "ethereum      1.956401 -0.410821 -1.016966                   101.96023   \n",
       "tether       -0.990142 -0.454228  0.690021                     0.01954   \n",
       "ripple       -0.973189 -0.494650  0.551234                   -16.60193   \n",
       "bitcoin-cash  3.330367 -1.022311 -0.501341                    14.49384   \n",
       "\n",
       "              price_change_percentage_14d  crypto_cluster_k4  \\\n",
       "coin_id                                                        \n",
       "bitcoin                           6.57509                  3   \n",
       "ethereum                          4.80849                  3   \n",
       "tether                            0.00640                  0   \n",
       "ripple                            2.24984                  0   \n",
       "bitcoin-cash                     14.75334                  3   \n",
       "\n",
       "              crypto_cluster_k5  \n",
       "coin_id                          \n",
       "bitcoin                       1  \n",
       "ethereum                      1  \n",
       "tether                        0  \n",
       "ripple                        0  \n",
       "bitcoin-cash                  1  "
      ]
     },
     "execution_count": 129,
     "metadata": {},
     "output_type": "execute_result"
    }
   ],
   "source": [
    "# Note: The code for the following step has been provided for you.\n",
    "\n",
    "# For further analysis, add the following columns to the DataFrame \n",
    "# with the PCA data. Review the resulting DataFrame once the additional \n",
    "# columns have been added. Make sure to do the following:\n",
    "# - From the original DataFrame, add the `price_change_percentage_1y` and `price_change_percentage_14d` columns.\n",
    "# - Add a column with the predicted cluster values identified using a k value of 4. (The predicted cluster values were calculated in the “Cluster Cryptocurrencies with K-means” section.)\n",
    "# - Add a column with the predicted cluster values identified using the optimal value for k. \n",
    "\n",
    "\n",
    "# Add the price_change_percentage_1y column from the original data\n",
    "df_market_data_pca[\"price_change_percentage_1y\"] = df_market_data[\"price_change_percentage_1y\"]\n",
    "\n",
    "# Add the price_change_percentage_14d column from the original data\n",
    "df_market_data_pca[\"price_change_percentage_14d\"] = df_market_data[\"price_change_percentage_14d\"]\n",
    "\n",
    "# Add a new column to the DataFrame with the predicted clusters using the best value of k\n",
    "df_market_data_pca[\"crypto_cluster_k4\"] = crypto_clusters_k4\n",
    "\n",
    "# Add a new column to the DataFrame with the predicted clusters using k=5\n",
    "df_market_data_pca[\"crypto_cluster_k5\"] = crypto_clusters_k5\n",
    "\n",
    "# Display sample data\n",
    "df_market_data_pca.head()"
   ]
  },
  {
   "cell_type": "markdown",
   "metadata": {},
   "source": [
    "---"
   ]
  },
  {
   "cell_type": "markdown",
   "metadata": {},
   "source": [
    "# Step 6: Plot Results\n",
    "\n",
    "In this section, you will visually analyze the cluster analysis results after using the optimization techniques.\n",
    "\n",
    "1. Use the PCA data to create two scatter plots using hvPlot by setting `x=\"price_change_percentage_14d\"` and `y=\"price_change_percentage_1y\"`. Make sure to do the following: \n",
    "\n",
    "    - In the first plot, color the plot points by the cluster values identified using a k value of 4.\n",
    "\n",
    "    - In the second plot, color the plot points by the cluster values identified using the optimal value for k.\n",
    "\n",
    "    - In both plots, add the crypto name by sing the `hover_cols` parameter to identify the cryptocurrency represented by each data point. \n",
    "\n",
    "2. Be sure to professionally style and format the plots so that the visualizations can be easily read. \n",
    "\n",
    "3. Answer the following question: What value of k creates the most accurate clusters of cryptocurrencies, grouped by profitability?\n"
   ]
  },
  {
   "cell_type": "code",
   "execution_count": 130,
   "metadata": {},
   "outputs": [
    {
     "data": {},
     "metadata": {},
     "output_type": "display_data"
    },
    {
     "data": {
      "application/vnd.holoviews_exec.v0+json": "",
      "text/html": [
       "<div id='14561'>\n",
       "\n",
       "\n",
       "\n",
       "\n",
       "\n",
       "  <div class=\"bk-root\" id=\"ce4d2b8d-5e3d-406d-b36e-b50fe80dccd2\" data-root-id=\"14561\"></div>\n",
       "</div>\n",
       "<script type=\"application/javascript\">(function(root) {\n",
       "  function embed_document(root) {\n",
       "    var docs_json = {\"004d3422-bed4-4bb3-beb4-ce236582471b\":{\"roots\":{\"references\":[{\"attributes\":{\"margin\":[5,5,5,5],\"name\":\"HSpacer32266\",\"sizing_mode\":\"stretch_width\"},\"id\":\"14562\",\"type\":\"Spacer\"},{\"attributes\":{\"bottom_units\":\"screen\",\"fill_alpha\":0.5,\"fill_color\":\"lightgrey\",\"left_units\":\"screen\",\"level\":\"overlay\",\"line_alpha\":1.0,\"line_color\":\"black\",\"line_dash\":[4,4],\"line_width\":2,\"right_units\":\"screen\",\"top_units\":\"screen\"},\"id\":\"14591\",\"type\":\"BoxAnnotation\"},{\"attributes\":{\"source\":{\"id\":\"14640\"}},\"id\":\"14647\",\"type\":\"CDSView\"},{\"attributes\":{},\"id\":\"14604\",\"type\":\"Selection\"},{\"attributes\":{},\"id\":\"14641\",\"type\":\"Selection\"},{\"attributes\":{\"fill_alpha\":{\"value\":0.1},\"fill_color\":{\"value\":\"#e5ae38\"},\"line_alpha\":{\"value\":0.1},\"line_color\":{\"value\":\"#e5ae38\"},\"marker\":{\"value\":\"inverted_triangle\"},\"size\":{\"units\":\"screen\",\"value\":5.477225575051661},\"x\":{\"field\":\"price_change_percentage_14d\"},\"y\":{\"field\":\"price_change_percentage_1y\"}},\"id\":\"14644\",\"type\":\"Scatter\"},{\"attributes\":{},\"id\":\"14617\",\"type\":\"UnionRenderers\"},{\"attributes\":{\"fill_color\":{\"value\":\"#e5ae38\"},\"line_color\":{\"value\":\"#e5ae38\"},\"marker\":{\"value\":\"inverted_triangle\"},\"size\":{\"units\":\"screen\",\"value\":5.477225575051661},\"x\":{\"field\":\"price_change_percentage_14d\"},\"y\":{\"field\":\"price_change_percentage_1y\"}},\"id\":\"14643\",\"type\":\"Scatter\"},{\"attributes\":{},\"id\":\"14586\",\"type\":\"SaveTool\"},{\"attributes\":{\"data_source\":{\"id\":\"14640\"},\"glyph\":{\"id\":\"14643\"},\"hover_glyph\":null,\"muted_glyph\":{\"id\":\"14645\"},\"nonselection_glyph\":{\"id\":\"14644\"},\"selection_glyph\":null,\"view\":{\"id\":\"14647\"}},\"id\":\"14646\",\"type\":\"GlyphRenderer\"},{\"attributes\":{\"margin\":[5,5,5,5],\"name\":\"HSpacer32267\",\"sizing_mode\":\"stretch_width\"},\"id\":\"14810\",\"type\":\"Spacer\"},{\"attributes\":{\"label\":{\"value\":\"0\"},\"renderers\":[{\"id\":\"14609\"}]},\"id\":\"14620\",\"type\":\"LegendItem\"},{\"attributes\":{\"fill_alpha\":{\"value\":0.2},\"fill_color\":{\"value\":\"#fc4f30\"},\"line_alpha\":{\"value\":0.2},\"line_color\":{\"value\":\"#fc4f30\"},\"marker\":{\"value\":\"square\"},\"size\":{\"units\":\"screen\",\"value\":5.477225575051661},\"x\":{\"field\":\"price_change_percentage_14d\"},\"y\":{\"field\":\"price_change_percentage_1y\"}},\"id\":\"14626\",\"type\":\"Scatter\"},{\"attributes\":{\"fill_alpha\":{\"value\":0.2},\"fill_color\":{\"value\":\"#e5ae38\"},\"line_alpha\":{\"value\":0.2},\"line_color\":{\"value\":\"#e5ae38\"},\"marker\":{\"value\":\"inverted_triangle\"},\"size\":{\"units\":\"screen\",\"value\":5.477225575051661},\"x\":{\"field\":\"price_change_percentage_14d\"},\"y\":{\"field\":\"price_change_percentage_1y\"}},\"id\":\"14645\",\"type\":\"Scatter\"},{\"attributes\":{\"data_source\":{\"id\":\"14621\"},\"glyph\":{\"id\":\"14624\"},\"hover_glyph\":null,\"muted_glyph\":{\"id\":\"14626\"},\"nonselection_glyph\":{\"id\":\"14625\"},\"selection_glyph\":null,\"view\":{\"id\":\"14628\"}},\"id\":\"14627\",\"type\":\"GlyphRenderer\"},{\"attributes\":{\"label\":{\"value\":\"2\"},\"renderers\":[{\"id\":\"14646\"}]},\"id\":\"14660\",\"type\":\"LegendItem\"},{\"attributes\":{},\"id\":\"14587\",\"type\":\"PanTool\"},{\"attributes\":{},\"id\":\"14574\",\"type\":\"LinearScale\"},{\"attributes\":{\"data\":{\"coin_id\":[\"bitcoin\",\"ethereum\",\"bitcoin-cash\",\"binancecoin\",\"chainlink\",\"cardano\",\"litecoin\",\"monero\",\"tezos\",\"cosmos\",\"wrapped-bitcoin\",\"zcash\",\"maker\"],\"crypto_cluster_k4\":[3,3,3,3,3,3,3,3,3,3,3,3,3],\"price_change_percentage_14d\":{\"__ndarray__\":\"zAaZZORMGkB5knTN5DsTQIuJzce1gS1AmS8vwD46G0ALgPEMGpoiQA6EZAETOBZAgJ9x4UAoHUAbo3VUNWkyQFSM8zehkAJAQgkzbf8KFkBgWWlSCjoaQAkzbf/KKhdA/pqsUQ/R978=\",\"dtype\":\"float64\",\"order\":\"little\",\"shape\":[13]},\"price_change_percentage_1y\":{\"__ndarray__\":\"kQpjC0HCQkDXqIdodH1ZQMzpspjY/CxA5x2n6EhsUUBpOjsZHFJ0QLssJjYfg2NA+dozSwJUKcDpvMYuUaFhQOj2ksZogGFAxLZFmQ2cVECHG/D5YcRCQF/SGK2juFRAyk+qfTpOJUA=\",\"dtype\":\"float64\",\"order\":\"little\",\"shape\":[13]}},\"selected\":{\"id\":\"14662\"},\"selection_policy\":{\"id\":\"14681\"}},\"id\":\"14661\",\"type\":\"ColumnDataSource\"},{\"attributes\":{},\"id\":\"14588\",\"type\":\"WheelZoomTool\"},{\"attributes\":{},\"id\":\"14658\",\"type\":\"UnionRenderers\"},{\"attributes\":{\"active_drag\":\"auto\",\"active_inspect\":\"auto\",\"active_multi\":null,\"active_scroll\":\"auto\",\"active_tap\":\"auto\",\"tools\":[{\"id\":\"14565\"},{\"id\":\"14586\"},{\"id\":\"14587\"},{\"id\":\"14588\"},{\"id\":\"14589\"},{\"id\":\"14590\"}]},\"id\":\"14592\",\"type\":\"Toolbar\"},{\"attributes\":{\"end\":26.056251,\"reset_end\":26.056251,\"reset_start\":-19.975960999999998,\"start\":-19.975960999999998,\"tags\":[[[\"price_change_percentage_14d\",\"price_change_percentage_14d\",null]]]},\"id\":\"14563\",\"type\":\"Range1d\"},{\"attributes\":{\"fill_color\":{\"value\":\"#fc4f30\"},\"line_color\":{\"value\":\"#fc4f30\"},\"marker\":{\"value\":\"square\"},\"size\":{\"units\":\"screen\",\"value\":5.477225575051661},\"x\":{\"field\":\"price_change_percentage_14d\"},\"y\":{\"field\":\"price_change_percentage_1y\"}},\"id\":\"14624\",\"type\":\"Scatter\"},{\"attributes\":{\"data\":{\"coin_id\":[\"celsius-degree-token\"],\"crypto_cluster_k4\":[2],\"price_change_percentage_14d\":{\"__ndarray__\":\"vodLjjs9OEA=\",\"dtype\":\"float64\",\"order\":\"little\",\"shape\":[1]},\"price_change_percentage_1y\":{\"__ndarray__\":\"nFCIgONmn0A=\",\"dtype\":\"float64\",\"order\":\"little\",\"shape\":[1]}},\"selected\":{\"id\":\"14641\"},\"selection_policy\":{\"id\":\"14658\"}},\"id\":\"14640\",\"type\":\"ColumnDataSource\"},{\"attributes\":{\"overlay\":{\"id\":\"14591\"}},\"id\":\"14589\",\"type\":\"BoxZoomTool\"},{\"attributes\":{},\"id\":\"14579\",\"type\":\"BasicTicker\"},{\"attributes\":{\"source\":{\"id\":\"14621\"}},\"id\":\"14628\",\"type\":\"CDSView\"},{\"attributes\":{\"source\":{\"id\":\"14603\"}},\"id\":\"14610\",\"type\":\"CDSView\"},{\"attributes\":{\"axis\":{\"id\":\"14582\"},\"dimension\":1,\"grid_line_color\":null,\"ticker\":null},\"id\":\"14585\",\"type\":\"Grid\"},{\"attributes\":{},\"id\":\"14602\",\"type\":\"BasicTickFormatter\"},{\"attributes\":{\"below\":[{\"id\":\"14578\"}],\"center\":[{\"id\":\"14581\"},{\"id\":\"14585\"}],\"left\":[{\"id\":\"14582\"}],\"margin\":[5,5,5,5],\"min_border_bottom\":10,\"min_border_left\":10,\"min_border_right\":10,\"min_border_top\":10,\"plot_height\":300,\"plot_width\":700,\"renderers\":[{\"id\":\"14609\"},{\"id\":\"14627\"},{\"id\":\"14646\"},{\"id\":\"14667\"}],\"right\":[{\"id\":\"14619\"}],\"sizing_mode\":\"fixed\",\"title\":{\"id\":\"14570\"},\"toolbar\":{\"id\":\"14592\"},\"x_range\":{\"id\":\"14563\"},\"x_scale\":{\"id\":\"14574\"},\"y_range\":{\"id\":\"14564\"},\"y_scale\":{\"id\":\"14576\"}},\"id\":\"14569\",\"subtype\":\"Figure\",\"type\":\"Plot\"},{\"attributes\":{\"source\":{\"id\":\"14661\"}},\"id\":\"14668\",\"type\":\"CDSView\"},{\"attributes\":{},\"id\":\"14590\",\"type\":\"ResetTool\"},{\"attributes\":{},\"id\":\"14681\",\"type\":\"UnionRenderers\"},{\"attributes\":{},\"id\":\"14576\",\"type\":\"LinearScale\"},{\"attributes\":{\"fill_alpha\":{\"value\":0.1},\"fill_color\":{\"value\":\"#fc4f30\"},\"line_alpha\":{\"value\":0.1},\"line_color\":{\"value\":\"#fc4f30\"},\"marker\":{\"value\":\"square\"},\"size\":{\"units\":\"screen\",\"value\":5.477225575051661},\"x\":{\"field\":\"price_change_percentage_14d\"},\"y\":{\"field\":\"price_change_percentage_1y\"}},\"id\":\"14625\",\"type\":\"Scatter\"},{\"attributes\":{\"fill_color\":{\"value\":\"#6d904f\"},\"line_color\":{\"value\":\"#6d904f\"},\"marker\":{\"value\":\"triangle\"},\"size\":{\"units\":\"screen\",\"value\":5.477225575051661},\"x\":{\"field\":\"price_change_percentage_14d\"},\"y\":{\"field\":\"price_change_percentage_1y\"}},\"id\":\"14664\",\"type\":\"Scatter\"},{\"attributes\":{\"axis_label\":\"price_change_percentage_14d\",\"bounds\":\"auto\",\"formatter\":{\"id\":\"14600\"},\"major_label_orientation\":\"horizontal\",\"ticker\":{\"id\":\"14579\"}},\"id\":\"14578\",\"type\":\"LinearAxis\"},{\"attributes\":{\"label\":{\"value\":\"1\"},\"renderers\":[{\"id\":\"14627\"}]},\"id\":\"14639\",\"type\":\"LegendItem\"},{\"attributes\":{\"children\":[{\"id\":\"14562\"},{\"id\":\"14569\"},{\"id\":\"14810\"}],\"margin\":[0,0,0,0],\"name\":\"Row32262\",\"tags\":[\"embedded\"]},\"id\":\"14561\",\"type\":\"Row\"},{\"attributes\":{\"data_source\":{\"id\":\"14603\"},\"glyph\":{\"id\":\"14606\"},\"hover_glyph\":null,\"muted_glyph\":{\"id\":\"14608\"},\"nonselection_glyph\":{\"id\":\"14607\"},\"selection_glyph\":null,\"view\":{\"id\":\"14610\"}},\"id\":\"14609\",\"type\":\"GlyphRenderer\"},{\"attributes\":{},\"id\":\"14637\",\"type\":\"UnionRenderers\"},{\"attributes\":{\"fill_alpha\":{\"value\":0.1},\"fill_color\":{\"value\":\"#6d904f\"},\"line_alpha\":{\"value\":0.1},\"line_color\":{\"value\":\"#6d904f\"},\"marker\":{\"value\":\"triangle\"},\"size\":{\"units\":\"screen\",\"value\":5.477225575051661},\"x\":{\"field\":\"price_change_percentage_14d\"},\"y\":{\"field\":\"price_change_percentage_1y\"}},\"id\":\"14665\",\"type\":\"Scatter\"},{\"attributes\":{\"text\":\"Price Change Percentage 14 day vs 1 year by Principal Component (k=4)\",\"text_color\":{\"value\":\"black\"},\"text_font_size\":{\"value\":\"12pt\"}},\"id\":\"14570\",\"type\":\"Title\"},{\"attributes\":{\"end\":8639.055423,\"reset_end\":8639.055423,\"reset_start\":-804.5332530000002,\"start\":-804.5332530000002,\"tags\":[[[\"price_change_percentage_1y\",\"price_change_percentage_1y\",null]]]},\"id\":\"14564\",\"type\":\"Range1d\"},{\"attributes\":{\"label\":{\"value\":\"3\"},\"renderers\":[{\"id\":\"14667\"}]},\"id\":\"14683\",\"type\":\"LegendItem\"},{\"attributes\":{\"fill_alpha\":{\"value\":0.1},\"fill_color\":{\"value\":\"#30a2da\"},\"line_alpha\":{\"value\":0.1},\"line_color\":{\"value\":\"#30a2da\"},\"marker\":{\"value\":\"hex\"},\"size\":{\"units\":\"screen\",\"value\":5.477225575051661},\"x\":{\"field\":\"price_change_percentage_14d\"},\"y\":{\"field\":\"price_change_percentage_1y\"}},\"id\":\"14607\",\"type\":\"Scatter\"},{\"attributes\":{\"data_source\":{\"id\":\"14661\"},\"glyph\":{\"id\":\"14664\"},\"hover_glyph\":null,\"muted_glyph\":{\"id\":\"14666\"},\"nonselection_glyph\":{\"id\":\"14665\"},\"selection_glyph\":null,\"view\":{\"id\":\"14668\"}},\"id\":\"14667\",\"type\":\"GlyphRenderer\"},{\"attributes\":{\"fill_alpha\":{\"value\":0.2},\"fill_color\":{\"value\":\"#30a2da\"},\"line_alpha\":{\"value\":0.2},\"line_color\":{\"value\":\"#30a2da\"},\"marker\":{\"value\":\"hex\"},\"size\":{\"units\":\"screen\",\"value\":5.477225575051661},\"x\":{\"field\":\"price_change_percentage_14d\"},\"y\":{\"field\":\"price_change_percentage_1y\"}},\"id\":\"14608\",\"type\":\"Scatter\"},{\"attributes\":{\"data\":{\"coin_id\":[\"ethlend\"],\"crypto_cluster_k4\":[1],\"price_change_percentage_14d\":{\"__ndarray__\":\"RIts5/uZI8A=\",\"dtype\":\"float64\",\"order\":\"little\",\"shape\":[1]},\"price_change_percentage_1y\":{\"__ndarray__\":\"dEaU9hasvkA=\",\"dtype\":\"float64\",\"order\":\"little\",\"shape\":[1]}},\"selected\":{\"id\":\"14622\"},\"selection_policy\":{\"id\":\"14637\"}},\"id\":\"14621\",\"type\":\"ColumnDataSource\"},{\"attributes\":{\"click_policy\":\"mute\",\"items\":[{\"id\":\"14620\"},{\"id\":\"14639\"},{\"id\":\"14660\"},{\"id\":\"14683\"}],\"location\":[0,0],\"title\":\"crypto_cluster_k4\"},\"id\":\"14619\",\"type\":\"Legend\"},{\"attributes\":{\"data\":{\"coin_id\":[\"tether\",\"ripple\",\"bitcoin-cash-sv\",\"crypto-com-chain\",\"usd-coin\",\"eos\",\"tron\",\"okb\",\"stellar\",\"cdai\",\"neo\",\"leo-token\",\"huobi-token\",\"nem\",\"binance-usd\",\"iota\",\"vechain\",\"theta-token\",\"dash\",\"ethereum-classic\",\"havven\",\"omisego\",\"ontology\",\"ftx-token\",\"true-usd\",\"digibyte\"],\"crypto_cluster_k4\":[0,0,0,0,0,0,0,0,0,0,0,0,0,0,0,0,0,0,0,0,0,0,0,0,0,0],\"price_change_percentage_14d\":{\"__ndarray__\":\"LUMc6+I2ej9z3CkdrP8BQCBZwARu3f2/MrH5uDYUIcBqSNxj6UN3v6X3ja89M/I/FQDjGTR09j+WrfVFQhsUwKpla32RUPG/z4O7s3bbxT/DDfj8MLIjwHb4a7JGHRzAza/mAMEc3T+PWItPATAFQNatnpPeN64/uk4jLZU3DsCbVZ+rrSgywJbK2xFOSxrAQE0tW+uL4D9NucK7XET0vy9pjNZRlSrAO1PovMZuKsByUMJM2x8lwJ30vvG1Z8q/ZCMQr+sXvD+7D0BqE0cdwA==\",\"dtype\":\"float64\",\"order\":\"little\",\"shape\":[26]},\"price_change_percentage_1y\":{\"__ndarray__\":\"4PjaM0sClD81e6AVGJowwNDQP8HFbldAkL3e/fEQc0C+MJkqGJXIv7Z/ZaVJkTHAQspPqn2eTUBdUN8yp75hQMzuycNCnStACLEzhc5r0r8f9GxWfWlgQA39E1ysADVA3xXB/1aSOEBLsDic+RZpQBVSflLt08E/NiTusfThD8AiwyreyFtpQPyMCwcC64VAzsKedvirA8Dwoq8gzTgmQN+JWS9GNoVAR8mrcwwLdECsVib8Uk8pwNttF5rrC2VAyXGndLD+2T/YfFwbKgxnQA==\",\"dtype\":\"float64\",\"order\":\"little\",\"shape\":[26]}},\"selected\":{\"id\":\"14604\"},\"selection_policy\":{\"id\":\"14617\"}},\"id\":\"14603\",\"type\":\"ColumnDataSource\"},{\"attributes\":{\"fill_alpha\":{\"value\":0.2},\"fill_color\":{\"value\":\"#6d904f\"},\"line_alpha\":{\"value\":0.2},\"line_color\":{\"value\":\"#6d904f\"},\"marker\":{\"value\":\"triangle\"},\"size\":{\"units\":\"screen\",\"value\":5.477225575051661},\"x\":{\"field\":\"price_change_percentage_14d\"},\"y\":{\"field\":\"price_change_percentage_1y\"}},\"id\":\"14666\",\"type\":\"Scatter\"},{\"attributes\":{\"axis\":{\"id\":\"14578\"},\"grid_line_color\":null,\"ticker\":null},\"id\":\"14581\",\"type\":\"Grid\"},{\"attributes\":{},\"id\":\"14622\",\"type\":\"Selection\"},{\"attributes\":{\"callback\":null,\"renderers\":[{\"id\":\"14609\"},{\"id\":\"14627\"},{\"id\":\"14646\"},{\"id\":\"14667\"}],\"tags\":[\"hv_created\"],\"tooltips\":[[\"crypto_cluster_k4\",\"@{crypto_cluster_k4}\"],[\"price_change_percentage_14d\",\"@{price_change_percentage_14d}\"],[\"price_change_percentage_1y\",\"@{price_change_percentage_1y}\"],[\"coin_id\",\"@{coin_id}\"]]},\"id\":\"14565\",\"type\":\"HoverTool\"},{\"attributes\":{},\"id\":\"14662\",\"type\":\"Selection\"},{\"attributes\":{},\"id\":\"14583\",\"type\":\"BasicTicker\"},{\"attributes\":{\"fill_color\":{\"value\":\"#30a2da\"},\"line_color\":{\"value\":\"#30a2da\"},\"marker\":{\"value\":\"hex\"},\"size\":{\"units\":\"screen\",\"value\":5.477225575051661},\"x\":{\"field\":\"price_change_percentage_14d\"},\"y\":{\"field\":\"price_change_percentage_1y\"}},\"id\":\"14606\",\"type\":\"Scatter\"},{\"attributes\":{\"axis_label\":\"price_change_percentage_1y\",\"bounds\":\"auto\",\"formatter\":{\"id\":\"14602\"},\"major_label_orientation\":\"horizontal\",\"ticker\":{\"id\":\"14583\"}},\"id\":\"14582\",\"type\":\"LinearAxis\"},{\"attributes\":{},\"id\":\"14600\",\"type\":\"BasicTickFormatter\"}],\"root_ids\":[\"14561\"]},\"title\":\"Bokeh Application\",\"version\":\"2.2.3\"}};\n",
       "    var render_items = [{\"docid\":\"004d3422-bed4-4bb3-beb4-ce236582471b\",\"root_ids\":[\"14561\"],\"roots\":{\"14561\":\"ce4d2b8d-5e3d-406d-b36e-b50fe80dccd2\"}}];\n",
       "    root.Bokeh.embed.embed_items_notebook(docs_json, render_items);\n",
       "  }\n",
       "  if (root.Bokeh !== undefined && root.Bokeh.Panel !== undefined) {\n",
       "    embed_document(root);\n",
       "  } else {\n",
       "    var attempts = 0;\n",
       "    var timer = setInterval(function(root) {\n",
       "      if (root.Bokeh !== undefined && root.Bokeh.Panel !== undefined) {\n",
       "        clearInterval(timer);\n",
       "        embed_document(root);\n",
       "      } else if (document.readyState == \"complete\") {\n",
       "        attempts++;\n",
       "        if (attempts > 100) {\n",
       "          clearInterval(timer);\n",
       "          console.log(\"Bokeh: ERROR: Unable to run BokehJS code because BokehJS library is missing\");\n",
       "        }\n",
       "      }\n",
       "    }, 10, root)\n",
       "  }\n",
       "})(window);</script>"
      ],
      "text/plain": [
       ":NdOverlay   [crypto_cluster_k4]\n",
       "   :Scatter   [price_change_percentage_14d]   (price_change_percentage_1y,coin_id)"
      ]
     },
     "execution_count": 130,
     "metadata": {
      "application/vnd.holoviews_exec.v0+json": {
       "id": "14561"
      }
     },
     "output_type": "execute_result"
    }
   ],
   "source": [
    "# Create a scatter plot for the Crypto Clusters using k=4 data.\n",
    "# Use the PCA data to create a scatter plot with hvPlot by setting \n",
    "# x=\"price_change_percentage_14d\" and y=\"price_change_percentage_1y\".\n",
    "# Group by the clusters using `by=\"crypto_cluster_k4\".\n",
    "# Set the hover colors to the coin id with `hover_cols=[\"coin_id\"]\n",
    "# Create a descriptive title for the plot using the title parameter.\n",
    "scatter_plot_k4 = df_market_data_pca.hvplot.scatter(\n",
    "    x = \"price_change_percentage_14d\",\n",
    "    y = \"price_change_percentage_1y\",\n",
    "    by = \"crypto_cluster_k4\",\n",
    "    hover_cols = [\"coin_id\"],\n",
    "    marker = [\"hex\", \"square\", \"inverted_triangle\", \"triangle\"],\n",
    "    title = \"Price Change Percentage 14 day vs 1 year by Principal Component (k=4)\")\n",
    "\n",
    "scatter_plot_k4"
   ]
  },
  {
   "cell_type": "code",
   "execution_count": 131,
   "metadata": {},
   "outputs": [
    {
     "data": {},
     "metadata": {},
     "output_type": "display_data"
    },
    {
     "data": {
      "application/vnd.holoviews_exec.v0+json": "",
      "text/html": [
       "<div id='14882'>\n",
       "\n",
       "\n",
       "\n",
       "\n",
       "\n",
       "  <div class=\"bk-root\" id=\"fc0d252c-8369-4bab-bcd7-fc10d24c36d0\" data-root-id=\"14882\"></div>\n",
       "</div>\n",
       "<script type=\"application/javascript\">(function(root) {\n",
       "  function embed_document(root) {\n",
       "    var docs_json = {\"7dbe1821-df20-433a-b3c0-f751e6e3ef70\":{\"roots\":{\"references\":[{\"attributes\":{\"fill_alpha\":{\"value\":0.2},\"fill_color\":{\"value\":\"#6d904f\"},\"line_alpha\":{\"value\":0.2},\"line_color\":{\"value\":\"#6d904f\"},\"marker\":{\"value\":\"cross\"},\"size\":{\"units\":\"screen\",\"value\":5.477225575051661},\"x\":{\"field\":\"price_change_percentage_14d\"},\"y\":{\"field\":\"price_change_percentage_1y\"}},\"id\":\"14988\",\"type\":\"Scatter\"},{\"attributes\":{},\"id\":\"14909\",\"type\":\"PanTool\"},{\"attributes\":{\"data_source\":{\"id\":\"14983\"},\"glyph\":{\"id\":\"14986\"},\"hover_glyph\":null,\"muted_glyph\":{\"id\":\"14988\"},\"nonselection_glyph\":{\"id\":\"14987\"},\"selection_glyph\":null,\"view\":{\"id\":\"14990\"}},\"id\":\"14989\",\"type\":\"GlyphRenderer\"},{\"attributes\":{\"data\":{\"coin_id\":[\"ethlend\"],\"crypto_cluster_k5\":[3],\"price_change_percentage_14d\":{\"__ndarray__\":\"RIts5/uZI8A=\",\"dtype\":\"float64\",\"order\":\"little\",\"shape\":[1]},\"price_change_percentage_1y\":{\"__ndarray__\":\"dEaU9hasvkA=\",\"dtype\":\"float64\",\"order\":\"little\",\"shape\":[1]}},\"selected\":{\"id\":\"14984\"},\"selection_policy\":{\"id\":\"15003\"}},\"id\":\"14983\",\"type\":\"ColumnDataSource\"},{\"attributes\":{\"end\":8639.055423,\"reset_end\":8639.055423,\"reset_start\":-804.5332530000002,\"start\":-804.5332530000002,\"tags\":[[[\"price_change_percentage_1y\",\"price_change_percentage_1y\",null]]]},\"id\":\"14885\",\"type\":\"Range1d\"},{\"attributes\":{\"label\":{\"value\":\"4\"},\"renderers\":[{\"id\":\"15012\"}]},\"id\":\"15030\",\"type\":\"LegendItem\"},{\"attributes\":{},\"id\":\"14924\",\"type\":\"BasicTickFormatter\"},{\"attributes\":{},\"id\":\"14910\",\"type\":\"WheelZoomTool\"},{\"attributes\":{\"source\":{\"id\":\"14983\"}},\"id\":\"14990\",\"type\":\"CDSView\"},{\"attributes\":{\"bottom_units\":\"screen\",\"fill_alpha\":0.5,\"fill_color\":\"lightgrey\",\"left_units\":\"screen\",\"level\":\"overlay\",\"line_alpha\":1.0,\"line_color\":\"black\",\"line_dash\":[4,4],\"line_width\":2,\"right_units\":\"screen\",\"top_units\":\"screen\"},\"id\":\"14913\",\"type\":\"BoxAnnotation\"},{\"attributes\":{\"label\":{\"value\":\"3\"},\"renderers\":[{\"id\":\"14989\"}]},\"id\":\"15005\",\"type\":\"LegendItem\"},{\"attributes\":{\"data\":{\"coin_id\":[\"bitcoin\",\"ethereum\",\"bitcoin-cash\",\"binancecoin\",\"chainlink\",\"cardano\",\"litecoin\",\"monero\",\"tezos\",\"cosmos\",\"wrapped-bitcoin\",\"zcash\",\"maker\"],\"crypto_cluster_k5\":[1,1,1,1,1,1,1,1,1,1,1,1,1],\"price_change_percentage_14d\":{\"__ndarray__\":\"zAaZZORMGkB5knTN5DsTQIuJzce1gS1AmS8vwD46G0ALgPEMGpoiQA6EZAETOBZAgJ9x4UAoHUAbo3VUNWkyQFSM8zehkAJAQgkzbf8KFkBgWWlSCjoaQAkzbf/KKhdA/pqsUQ/R978=\",\"dtype\":\"float64\",\"order\":\"little\",\"shape\":[13]},\"price_change_percentage_1y\":{\"__ndarray__\":\"kQpjC0HCQkDXqIdodH1ZQMzpspjY/CxA5x2n6EhsUUBpOjsZHFJ0QLssJjYfg2NA+dozSwJUKcDpvMYuUaFhQOj2ksZogGFAxLZFmQ2cVECHG/D5YcRCQF/SGK2juFRAyk+qfTpOJUA=\",\"dtype\":\"float64\",\"order\":\"little\",\"shape\":[13]}},\"selected\":{\"id\":\"14944\"},\"selection_policy\":{\"id\":\"14959\"}},\"id\":\"14943\",\"type\":\"ColumnDataSource\"},{\"attributes\":{\"overlay\":{\"id\":\"14913\"}},\"id\":\"14911\",\"type\":\"BoxZoomTool\"},{\"attributes\":{\"fill_color\":{\"value\":\"#e5ae38\"},\"line_color\":{\"value\":\"#e5ae38\"},\"marker\":{\"value\":\"inverted_triangle\"},\"size\":{\"units\":\"screen\",\"value\":5.477225575051661},\"x\":{\"field\":\"price_change_percentage_14d\"},\"y\":{\"field\":\"price_change_percentage_1y\"}},\"id\":\"14965\",\"type\":\"Scatter\"},{\"attributes\":{\"data\":{\"coin_id\":[\"tether\",\"ripple\",\"bitcoin-cash-sv\",\"crypto-com-chain\",\"usd-coin\",\"eos\",\"tron\",\"okb\",\"stellar\",\"cdai\",\"neo\",\"leo-token\",\"huobi-token\",\"nem\",\"binance-usd\",\"iota\",\"vechain\",\"dash\",\"ethereum-classic\",\"havven\",\"omisego\",\"ontology\",\"ftx-token\",\"true-usd\",\"digibyte\"],\"crypto_cluster_k5\":[0,0,0,0,0,0,0,0,0,0,0,0,0,0,0,0,0,0,0,0,0,0,0,0,0],\"price_change_percentage_14d\":{\"__ndarray__\":\"LUMc6+I2ej9z3CkdrP8BQCBZwARu3f2/MrH5uDYUIcBqSNxj6UN3v6X3ja89M/I/FQDjGTR09j+WrfVFQhsUwKpla32RUPG/z4O7s3bbxT/DDfj8MLIjwHb4a7JGHRzAza/mAMEc3T+PWItPATAFQNatnpPeN64/uk4jLZU3DsCbVZ+rrSgywEBNLVvri+A/TbnCu1xE9L8vaYzWUZUqwDtT6LzGbirAclDCTNsfJcCd9L7xtWfKv2QjEK/rF7w/uw9AahNHHcA=\",\"dtype\":\"float64\",\"order\":\"little\",\"shape\":[25]},\"price_change_percentage_1y\":{\"__ndarray__\":\"4PjaM0sClD81e6AVGJowwNDQP8HFbldAkL3e/fEQc0C+MJkqGJXIv7Z/ZaVJkTHAQspPqn2eTUBdUN8yp75hQMzuycNCnStACLEzhc5r0r8f9GxWfWlgQA39E1ysADVA3xXB/1aSOEBLsDic+RZpQBVSflLt08E/NiTusfThD8AiwyreyFtpQM7Cnnb4qwPA8KKvIM04JkDfiVkvRjaFQEfJq3MMC3RArFYm/FJPKcDbbRea6wtlQMlxp3Sw/tk/2HxcGyoMZ0A=\",\"dtype\":\"float64\",\"order\":\"little\",\"shape\":[25]}},\"selected\":{\"id\":\"14926\"},\"selection_policy\":{\"id\":\"14939\"}},\"id\":\"14925\",\"type\":\"ColumnDataSource\"},{\"attributes\":{},\"id\":\"15003\",\"type\":\"UnionRenderers\"},{\"attributes\":{\"source\":{\"id\":\"14925\"}},\"id\":\"14932\",\"type\":\"CDSView\"},{\"attributes\":{},\"id\":\"14912\",\"type\":\"ResetTool\"},{\"attributes\":{},\"id\":\"14984\",\"type\":\"Selection\"},{\"attributes\":{},\"id\":\"15007\",\"type\":\"Selection\"},{\"attributes\":{\"click_policy\":\"mute\",\"items\":[{\"id\":\"14942\"},{\"id\":\"14961\"},{\"id\":\"14982\"},{\"id\":\"15005\"},{\"id\":\"15030\"}],\"location\":[0,0],\"title\":\"crypto_cluster_k5\"},\"id\":\"14941\",\"type\":\"Legend\"},{\"attributes\":{},\"id\":\"14922\",\"type\":\"BasicTickFormatter\"},{\"attributes\":{\"data_source\":{\"id\":\"15006\"},\"glyph\":{\"id\":\"15009\"},\"hover_glyph\":null,\"muted_glyph\":{\"id\":\"15011\"},\"nonselection_glyph\":{\"id\":\"15010\"},\"selection_glyph\":null,\"view\":{\"id\":\"15013\"}},\"id\":\"15012\",\"type\":\"GlyphRenderer\"},{\"attributes\":{\"margin\":[5,5,5,5],\"name\":\"HSpacer33080\",\"sizing_mode\":\"stretch_width\"},\"id\":\"15175\",\"type\":\"Spacer\"},{\"attributes\":{},\"id\":\"14901\",\"type\":\"BasicTicker\"},{\"attributes\":{\"fill_alpha\":{\"value\":0.2},\"fill_color\":{\"value\":\"#8b8b8b\"},\"line_alpha\":{\"value\":0.2},\"line_color\":{\"value\":\"#8b8b8b\"},\"marker\":{\"value\":\"triangle\"},\"size\":{\"units\":\"screen\",\"value\":5.477225575051661},\"x\":{\"field\":\"price_change_percentage_14d\"},\"y\":{\"field\":\"price_change_percentage_1y\"}},\"id\":\"15011\",\"type\":\"Scatter\"},{\"attributes\":{\"fill_alpha\":{\"value\":0.1},\"fill_color\":{\"value\":\"#30a2da\"},\"line_alpha\":{\"value\":0.1},\"line_color\":{\"value\":\"#30a2da\"},\"marker\":{\"value\":\"hex\"},\"size\":{\"units\":\"screen\",\"value\":5.477225575051661},\"x\":{\"field\":\"price_change_percentage_14d\"},\"y\":{\"field\":\"price_change_percentage_1y\"}},\"id\":\"14929\",\"type\":\"Scatter\"},{\"attributes\":{\"source\":{\"id\":\"15006\"}},\"id\":\"15013\",\"type\":\"CDSView\"},{\"attributes\":{},\"id\":\"14959\",\"type\":\"UnionRenderers\"},{\"attributes\":{\"fill_color\":{\"value\":\"#30a2da\"},\"line_color\":{\"value\":\"#30a2da\"},\"marker\":{\"value\":\"hex\"},\"size\":{\"units\":\"screen\",\"value\":5.477225575051661},\"x\":{\"field\":\"price_change_percentage_14d\"},\"y\":{\"field\":\"price_change_percentage_1y\"}},\"id\":\"14928\",\"type\":\"Scatter\"},{\"attributes\":{\"fill_alpha\":{\"value\":0.1},\"fill_color\":{\"value\":\"#8b8b8b\"},\"line_alpha\":{\"value\":0.1},\"line_color\":{\"value\":\"#8b8b8b\"},\"marker\":{\"value\":\"triangle\"},\"size\":{\"units\":\"screen\",\"value\":5.477225575051661},\"x\":{\"field\":\"price_change_percentage_14d\"},\"y\":{\"field\":\"price_change_percentage_1y\"}},\"id\":\"15010\",\"type\":\"Scatter\"},{\"attributes\":{\"fill_color\":{\"value\":\"#8b8b8b\"},\"line_color\":{\"value\":\"#8b8b8b\"},\"marker\":{\"value\":\"triangle\"},\"size\":{\"units\":\"screen\",\"value\":5.477225575051661},\"x\":{\"field\":\"price_change_percentage_14d\"},\"y\":{\"field\":\"price_change_percentage_1y\"}},\"id\":\"15009\",\"type\":\"Scatter\"},{\"attributes\":{\"children\":[{\"id\":\"14883\"},{\"id\":\"14891\"},{\"id\":\"15175\"}],\"margin\":[0,0,0,0],\"name\":\"Row33075\",\"tags\":[\"embedded\"]},\"id\":\"14882\",\"type\":\"Row\"},{\"attributes\":{\"axis\":{\"id\":\"14900\"},\"grid_line_color\":null,\"ticker\":null},\"id\":\"14903\",\"type\":\"Grid\"},{\"attributes\":{\"text\":\"Price Change Percentage 14 day vs 1 year by Principal Component (k=5)\",\"text_color\":{\"value\":\"black\"},\"text_font_size\":{\"value\":\"12pt\"}},\"id\":\"14892\",\"type\":\"Title\"},{\"attributes\":{\"fill_alpha\":{\"value\":0.2},\"fill_color\":{\"value\":\"#30a2da\"},\"line_alpha\":{\"value\":0.2},\"line_color\":{\"value\":\"#30a2da\"},\"marker\":{\"value\":\"hex\"},\"size\":{\"units\":\"screen\",\"value\":5.477225575051661},\"x\":{\"field\":\"price_change_percentage_14d\"},\"y\":{\"field\":\"price_change_percentage_1y\"}},\"id\":\"14930\",\"type\":\"Scatter\"},{\"attributes\":{\"fill_alpha\":{\"value\":0.1},\"fill_color\":{\"value\":\"#fc4f30\"},\"line_alpha\":{\"value\":0.1},\"line_color\":{\"value\":\"#fc4f30\"},\"marker\":{\"value\":\"square\"},\"size\":{\"units\":\"screen\",\"value\":5.477225575051661},\"x\":{\"field\":\"price_change_percentage_14d\"},\"y\":{\"field\":\"price_change_percentage_1y\"}},\"id\":\"14947\",\"type\":\"Scatter\"},{\"attributes\":{},\"id\":\"15028\",\"type\":\"UnionRenderers\"},{\"attributes\":{\"fill_alpha\":{\"value\":0.1},\"fill_color\":{\"value\":\"#e5ae38\"},\"line_alpha\":{\"value\":0.1},\"line_color\":{\"value\":\"#e5ae38\"},\"marker\":{\"value\":\"inverted_triangle\"},\"size\":{\"units\":\"screen\",\"value\":5.477225575051661},\"x\":{\"field\":\"price_change_percentage_14d\"},\"y\":{\"field\":\"price_change_percentage_1y\"}},\"id\":\"14966\",\"type\":\"Scatter\"},{\"attributes\":{\"margin\":[5,5,5,5],\"name\":\"HSpacer33079\",\"sizing_mode\":\"stretch_width\"},\"id\":\"14883\",\"type\":\"Spacer\"},{\"attributes\":{\"label\":{\"value\":\"1\"},\"renderers\":[{\"id\":\"14949\"}]},\"id\":\"14961\",\"type\":\"LegendItem\"},{\"attributes\":{\"data_source\":{\"id\":\"14925\"},\"glyph\":{\"id\":\"14928\"},\"hover_glyph\":null,\"muted_glyph\":{\"id\":\"14930\"},\"nonselection_glyph\":{\"id\":\"14929\"},\"selection_glyph\":null,\"view\":{\"id\":\"14932\"}},\"id\":\"14931\",\"type\":\"GlyphRenderer\"},{\"attributes\":{\"fill_color\":{\"value\":\"#fc4f30\"},\"line_color\":{\"value\":\"#fc4f30\"},\"marker\":{\"value\":\"square\"},\"size\":{\"units\":\"screen\",\"value\":5.477225575051661},\"x\":{\"field\":\"price_change_percentage_14d\"},\"y\":{\"field\":\"price_change_percentage_1y\"}},\"id\":\"14946\",\"type\":\"Scatter\"},{\"attributes\":{\"end\":26.056251,\"reset_end\":26.056251,\"reset_start\":-19.975960999999998,\"start\":-19.975960999999998,\"tags\":[[[\"price_change_percentage_14d\",\"price_change_percentage_14d\",null]]]},\"id\":\"14884\",\"type\":\"Range1d\"},{\"attributes\":{\"axis_label\":\"price_change_percentage_14d\",\"bounds\":\"auto\",\"formatter\":{\"id\":\"14922\"},\"major_label_orientation\":\"horizontal\",\"ticker\":{\"id\":\"14901\"}},\"id\":\"14900\",\"type\":\"LinearAxis\"},{\"attributes\":{},\"id\":\"14963\",\"type\":\"Selection\"},{\"attributes\":{\"below\":[{\"id\":\"14900\"}],\"center\":[{\"id\":\"14903\"},{\"id\":\"14907\"}],\"left\":[{\"id\":\"14904\"}],\"margin\":[5,5,5,5],\"min_border_bottom\":10,\"min_border_left\":10,\"min_border_right\":10,\"min_border_top\":10,\"plot_height\":300,\"plot_width\":700,\"renderers\":[{\"id\":\"14931\"},{\"id\":\"14949\"},{\"id\":\"14968\"},{\"id\":\"14989\"},{\"id\":\"15012\"}],\"right\":[{\"id\":\"14941\"}],\"sizing_mode\":\"fixed\",\"title\":{\"id\":\"14892\"},\"toolbar\":{\"id\":\"14914\"},\"x_range\":{\"id\":\"14884\"},\"x_scale\":{\"id\":\"14896\"},\"y_range\":{\"id\":\"14885\"},\"y_scale\":{\"id\":\"14898\"}},\"id\":\"14891\",\"subtype\":\"Figure\",\"type\":\"Plot\"},{\"attributes\":{\"source\":{\"id\":\"14962\"}},\"id\":\"14969\",\"type\":\"CDSView\"},{\"attributes\":{},\"id\":\"14898\",\"type\":\"LinearScale\"},{\"attributes\":{\"data_source\":{\"id\":\"14943\"},\"glyph\":{\"id\":\"14946\"},\"hover_glyph\":null,\"muted_glyph\":{\"id\":\"14948\"},\"nonselection_glyph\":{\"id\":\"14947\"},\"selection_glyph\":null,\"view\":{\"id\":\"14950\"}},\"id\":\"14949\",\"type\":\"GlyphRenderer\"},{\"attributes\":{\"source\":{\"id\":\"14943\"}},\"id\":\"14950\",\"type\":\"CDSView\"},{\"attributes\":{\"data_source\":{\"id\":\"14962\"},\"glyph\":{\"id\":\"14965\"},\"hover_glyph\":null,\"muted_glyph\":{\"id\":\"14967\"},\"nonselection_glyph\":{\"id\":\"14966\"},\"selection_glyph\":null,\"view\":{\"id\":\"14969\"}},\"id\":\"14968\",\"type\":\"GlyphRenderer\"},{\"attributes\":{\"fill_alpha\":{\"value\":0.2},\"fill_color\":{\"value\":\"#fc4f30\"},\"line_alpha\":{\"value\":0.2},\"line_color\":{\"value\":\"#fc4f30\"},\"marker\":{\"value\":\"square\"},\"size\":{\"units\":\"screen\",\"value\":5.477225575051661},\"x\":{\"field\":\"price_change_percentage_14d\"},\"y\":{\"field\":\"price_change_percentage_1y\"}},\"id\":\"14948\",\"type\":\"Scatter\"},{\"attributes\":{},\"id\":\"14896\",\"type\":\"LinearScale\"},{\"attributes\":{\"axis\":{\"id\":\"14904\"},\"dimension\":1,\"grid_line_color\":null,\"ticker\":null},\"id\":\"14907\",\"type\":\"Grid\"},{\"attributes\":{\"fill_alpha\":{\"value\":0.2},\"fill_color\":{\"value\":\"#e5ae38\"},\"line_alpha\":{\"value\":0.2},\"line_color\":{\"value\":\"#e5ae38\"},\"marker\":{\"value\":\"inverted_triangle\"},\"size\":{\"units\":\"screen\",\"value\":5.477225575051661},\"x\":{\"field\":\"price_change_percentage_14d\"},\"y\":{\"field\":\"price_change_percentage_1y\"}},\"id\":\"14967\",\"type\":\"Scatter\"},{\"attributes\":{\"label\":{\"value\":\"2\"},\"renderers\":[{\"id\":\"14968\"}]},\"id\":\"14982\",\"type\":\"LegendItem\"},{\"attributes\":{},\"id\":\"14980\",\"type\":\"UnionRenderers\"},{\"attributes\":{},\"id\":\"14905\",\"type\":\"BasicTicker\"},{\"attributes\":{\"data\":{\"coin_id\":[\"celsius-degree-token\"],\"crypto_cluster_k5\":[2],\"price_change_percentage_14d\":{\"__ndarray__\":\"vodLjjs9OEA=\",\"dtype\":\"float64\",\"order\":\"little\",\"shape\":[1]},\"price_change_percentage_1y\":{\"__ndarray__\":\"nFCIgONmn0A=\",\"dtype\":\"float64\",\"order\":\"little\",\"shape\":[1]}},\"selected\":{\"id\":\"14963\"},\"selection_policy\":{\"id\":\"14980\"}},\"id\":\"14962\",\"type\":\"ColumnDataSource\"},{\"attributes\":{\"axis_label\":\"price_change_percentage_1y\",\"bounds\":\"auto\",\"formatter\":{\"id\":\"14924\"},\"major_label_orientation\":\"horizontal\",\"ticker\":{\"id\":\"14905\"}},\"id\":\"14904\",\"type\":\"LinearAxis\"},{\"attributes\":{\"data\":{\"coin_id\":[\"theta-token\"],\"crypto_cluster_k5\":[4],\"price_change_percentage_14d\":{\"__ndarray__\":\"lsrbEU5LGsA=\",\"dtype\":\"float64\",\"order\":\"little\",\"shape\":[1]},\"price_change_percentage_1y\":{\"__ndarray__\":\"/IwLBwLrhUA=\",\"dtype\":\"float64\",\"order\":\"little\",\"shape\":[1]}},\"selected\":{\"id\":\"15007\"},\"selection_policy\":{\"id\":\"15028\"}},\"id\":\"15006\",\"type\":\"ColumnDataSource\"},{\"attributes\":{\"fill_color\":{\"value\":\"#6d904f\"},\"line_color\":{\"value\":\"#6d904f\"},\"marker\":{\"value\":\"cross\"},\"size\":{\"units\":\"screen\",\"value\":5.477225575051661},\"x\":{\"field\":\"price_change_percentage_14d\"},\"y\":{\"field\":\"price_change_percentage_1y\"}},\"id\":\"14986\",\"type\":\"Scatter\"},{\"attributes\":{\"callback\":null,\"renderers\":[{\"id\":\"14931\"},{\"id\":\"14949\"},{\"id\":\"14968\"},{\"id\":\"14989\"},{\"id\":\"15012\"}],\"tags\":[\"hv_created\"],\"tooltips\":[[\"crypto_cluster_k5\",\"@{crypto_cluster_k5}\"],[\"price_change_percentage_14d\",\"@{price_change_percentage_14d}\"],[\"price_change_percentage_1y\",\"@{price_change_percentage_1y}\"],[\"coin_id\",\"@{coin_id}\"]]},\"id\":\"14886\",\"type\":\"HoverTool\"},{\"attributes\":{},\"id\":\"14944\",\"type\":\"Selection\"},{\"attributes\":{},\"id\":\"14926\",\"type\":\"Selection\"},{\"attributes\":{\"fill_alpha\":{\"value\":0.1},\"fill_color\":{\"value\":\"#6d904f\"},\"line_alpha\":{\"value\":0.1},\"line_color\":{\"value\":\"#6d904f\"},\"marker\":{\"value\":\"cross\"},\"size\":{\"units\":\"screen\",\"value\":5.477225575051661},\"x\":{\"field\":\"price_change_percentage_14d\"},\"y\":{\"field\":\"price_change_percentage_1y\"}},\"id\":\"14987\",\"type\":\"Scatter\"},{\"attributes\":{\"label\":{\"value\":\"0\"},\"renderers\":[{\"id\":\"14931\"}]},\"id\":\"14942\",\"type\":\"LegendItem\"},{\"attributes\":{},\"id\":\"14939\",\"type\":\"UnionRenderers\"},{\"attributes\":{\"active_drag\":\"auto\",\"active_inspect\":\"auto\",\"active_multi\":null,\"active_scroll\":\"auto\",\"active_tap\":\"auto\",\"tools\":[{\"id\":\"14886\"},{\"id\":\"14908\"},{\"id\":\"14909\"},{\"id\":\"14910\"},{\"id\":\"14911\"},{\"id\":\"14912\"}]},\"id\":\"14914\",\"type\":\"Toolbar\"},{\"attributes\":{},\"id\":\"14908\",\"type\":\"SaveTool\"}],\"root_ids\":[\"14882\"]},\"title\":\"Bokeh Application\",\"version\":\"2.2.3\"}};\n",
       "    var render_items = [{\"docid\":\"7dbe1821-df20-433a-b3c0-f751e6e3ef70\",\"root_ids\":[\"14882\"],\"roots\":{\"14882\":\"fc0d252c-8369-4bab-bcd7-fc10d24c36d0\"}}];\n",
       "    root.Bokeh.embed.embed_items_notebook(docs_json, render_items);\n",
       "  }\n",
       "  if (root.Bokeh !== undefined && root.Bokeh.Panel !== undefined) {\n",
       "    embed_document(root);\n",
       "  } else {\n",
       "    var attempts = 0;\n",
       "    var timer = setInterval(function(root) {\n",
       "      if (root.Bokeh !== undefined && root.Bokeh.Panel !== undefined) {\n",
       "        clearInterval(timer);\n",
       "        embed_document(root);\n",
       "      } else if (document.readyState == \"complete\") {\n",
       "        attempts++;\n",
       "        if (attempts > 100) {\n",
       "          clearInterval(timer);\n",
       "          console.log(\"Bokeh: ERROR: Unable to run BokehJS code because BokehJS library is missing\");\n",
       "        }\n",
       "      }\n",
       "    }, 10, root)\n",
       "  }\n",
       "})(window);</script>"
      ],
      "text/plain": [
       ":NdOverlay   [crypto_cluster_k5]\n",
       "   :Scatter   [price_change_percentage_14d]   (price_change_percentage_1y,coin_id)"
      ]
     },
     "execution_count": 131,
     "metadata": {
      "application/vnd.holoviews_exec.v0+json": {
       "id": "14882"
      }
     },
     "output_type": "execute_result"
    }
   ],
   "source": [
    "# Create a scatter plot for the Crypto Clusters using k=5 data.\n",
    "# Use the PCA data to create a scatter plot with hvPlot by setting \n",
    "# x=\"price_change_percentage_14d\" and y=\"price_change_percentage_1y\".\n",
    "# Group by the clusters using `by=\"crypto_cluster_k5\".\n",
    "# Set the hover colors to the coin id with `hover_cols=[\"coin_id\"]\n",
    "# Create a descriptive title for the plot using the title parameter.\n",
    "scatter_plot_k5 = df_market_data_pca.hvplot.scatter(\n",
    "    x = \"price_change_percentage_14d\",\n",
    "    y = \"price_change_percentage_1y\",\n",
    "    by = \"crypto_cluster_k5\",\n",
    "    hover_cols = [\"coin_id\"],\n",
    "    marker = [\"hex\", \"square\", \"inverted_triangle\", \"cross\", \"triangle\"],\n",
    "    title = \"Price Change Percentage 14 day vs 1 year by Principal Component (k=5)\")\n",
    "\n",
    "scatter_plot_k5"
   ]
  },
  {
   "cell_type": "code",
   "execution_count": 133,
   "metadata": {},
   "outputs": [
    {
     "data": {},
     "metadata": {},
     "output_type": "display_data"
    },
    {
     "data": {
      "application/vnd.holoviews_exec.v0+json": "",
      "text/html": [
       "<div id='16193'>\n",
       "\n",
       "\n",
       "\n",
       "\n",
       "\n",
       "  <div class=\"bk-root\" id=\"8df17161-aab0-46d2-ad5d-7475e96b698d\" data-root-id=\"16193\"></div>\n",
       "</div>\n",
       "<script type=\"application/javascript\">(function(root) {\n",
       "  function embed_document(root) {\n",
       "    var docs_json = {\"8ae85859-287f-4c41-b4e3-bef79d5fc64f\":{\"roots\":{\"references\":[{\"attributes\":{\"fill_alpha\":{\"value\":0.2},\"fill_color\":{\"value\":\"#e5ae38\"},\"line_alpha\":{\"value\":0.2},\"line_color\":{\"value\":\"#e5ae38\"},\"marker\":{\"value\":\"inverted_triangle\"},\"size\":{\"units\":\"screen\",\"value\":5.477225575051661},\"x\":{\"field\":\"price_change_percentage_14d\"},\"y\":{\"field\":\"price_change_percentage_1y\"}},\"id\":\"16277\",\"type\":\"Scatter\"},{\"attributes\":{},\"id\":\"16438\",\"type\":\"WheelZoomTool\"},{\"attributes\":{\"axis\":{\"id\":\"16214\"},\"dimension\":1,\"grid_line_color\":null,\"ticker\":null},\"id\":\"16217\",\"type\":\"Grid\"},{\"attributes\":{\"fill_alpha\":{\"value\":0.1},\"fill_color\":{\"value\":\"#e5ae38\"},\"line_alpha\":{\"value\":0.1},\"line_color\":{\"value\":\"#e5ae38\"},\"marker\":{\"value\":\"inverted_triangle\"},\"size\":{\"units\":\"screen\",\"value\":5.477225575051661},\"x\":{\"field\":\"price_change_percentage_14d\"},\"y\":{\"field\":\"price_change_percentage_1y\"}},\"id\":\"16276\",\"type\":\"Scatter\"},{\"attributes\":{},\"id\":\"16454\",\"type\":\"Selection\"},{\"attributes\":{\"data_source\":{\"id\":\"16272\"},\"glyph\":{\"id\":\"16275\"},\"hover_glyph\":null,\"muted_glyph\":{\"id\":\"16277\"},\"nonselection_glyph\":{\"id\":\"16276\"},\"selection_glyph\":null,\"view\":{\"id\":\"16279\"}},\"id\":\"16278\",\"type\":\"GlyphRenderer\"},{\"attributes\":{},\"id\":\"16215\",\"type\":\"BasicTicker\"},{\"attributes\":{\"axis_label\":\"price_change_percentage_1y\",\"bounds\":\"auto\",\"formatter\":{\"id\":\"16234\"},\"major_label_orientation\":\"horizontal\",\"ticker\":{\"id\":\"16215\"}},\"id\":\"16214\",\"type\":\"LinearAxis\"},{\"attributes\":{\"data_source\":{\"id\":\"16293\"},\"glyph\":{\"id\":\"16296\"},\"hover_glyph\":null,\"muted_glyph\":{\"id\":\"16298\"},\"nonselection_glyph\":{\"id\":\"16297\"},\"selection_glyph\":null,\"view\":{\"id\":\"16300\"}},\"id\":\"16299\",\"type\":\"GlyphRenderer\"},{\"attributes\":{\"data\":{\"coin_id\":[\"theta-token\"],\"crypto_cluster_k5\":[4],\"price_change_percentage_14d\":{\"__ndarray__\":\"lsrbEU5LGsA=\",\"dtype\":\"float64\",\"order\":\"little\",\"shape\":[1]},\"price_change_percentage_1y\":{\"__ndarray__\":\"/IwLBwLrhUA=\",\"dtype\":\"float64\",\"order\":\"little\",\"shape\":[1]}},\"selected\":{\"id\":\"16535\"},\"selection_policy\":{\"id\":\"16556\"}},\"id\":\"16534\",\"type\":\"ColumnDataSource\"},{\"attributes\":{\"source\":{\"id\":\"16272\"}},\"id\":\"16279\",\"type\":\"CDSView\"},{\"attributes\":{\"label\":{\"value\":\"2\"},\"renderers\":[{\"id\":\"16278\"}]},\"id\":\"16292\",\"type\":\"LegendItem\"},{\"attributes\":{\"fill_alpha\":{\"value\":0.2},\"fill_color\":{\"value\":\"#30a2da\"},\"line_alpha\":{\"value\":0.2},\"line_color\":{\"value\":\"#30a2da\"},\"marker\":{\"value\":\"hex\"},\"size\":{\"units\":\"screen\",\"value\":5.477225575051661},\"x\":{\"field\":\"price_change_percentage_14d\"},\"y\":{\"field\":\"price_change_percentage_1y\"}},\"id\":\"16240\",\"type\":\"Scatter\"},{\"attributes\":{\"click_policy\":\"mute\",\"items\":[{\"id\":\"16252\"},{\"id\":\"16271\"},{\"id\":\"16292\"},{\"id\":\"16315\"}],\"location\":[0,0],\"title\":\"crypto_cluster_k4\"},\"id\":\"16251\",\"type\":\"Legend\"},{\"attributes\":{\"active_drag\":\"auto\",\"active_inspect\":\"auto\",\"active_multi\":null,\"active_scroll\":\"auto\",\"active_tap\":\"auto\",\"tools\":[{\"id\":\"16197\"},{\"id\":\"16218\"},{\"id\":\"16219\"},{\"id\":\"16220\"},{\"id\":\"16221\"},{\"id\":\"16222\"}]},\"id\":\"16224\",\"type\":\"Toolbar\"},{\"attributes\":{\"data\":{\"coin_id\":[\"celsius-degree-token\"],\"crypto_cluster_k4\":[2],\"price_change_percentage_14d\":{\"__ndarray__\":\"vodLjjs9OEA=\",\"dtype\":\"float64\",\"order\":\"little\",\"shape\":[1]},\"price_change_percentage_1y\":{\"__ndarray__\":\"nFCIgONmn0A=\",\"dtype\":\"float64\",\"order\":\"little\",\"shape\":[1]}},\"selected\":{\"id\":\"16273\"},\"selection_policy\":{\"id\":\"16290\"}},\"id\":\"16272\",\"type\":\"ColumnDataSource\"},{\"attributes\":{\"callback\":null,\"renderers\":[{\"id\":\"16459\"},{\"id\":\"16477\"},{\"id\":\"16496\"},{\"id\":\"16517\"},{\"id\":\"16540\"}],\"tags\":[\"hv_created\"],\"tooltips\":[[\"crypto_cluster_k5\",\"@{crypto_cluster_k5}\"],[\"price_change_percentage_14d\",\"@{price_change_percentage_14d}\"],[\"price_change_percentage_1y\",\"@{price_change_percentage_1y}\"],[\"coin_id\",\"@{coin_id}\"]]},\"id\":\"16414\",\"type\":\"HoverTool\"},{\"attributes\":{\"fill_color\":{\"value\":\"#30a2da\"},\"line_color\":{\"value\":\"#30a2da\"},\"marker\":{\"value\":\"hex\"},\"size\":{\"units\":\"screen\",\"value\":5.477225575051661},\"x\":{\"field\":\"price_change_percentage_14d\"},\"y\":{\"field\":\"price_change_percentage_1y\"}},\"id\":\"16238\",\"type\":\"Scatter\"},{\"attributes\":{},\"id\":\"16290\",\"type\":\"UnionRenderers\"},{\"attributes\":{},\"id\":\"16218\",\"type\":\"SaveTool\"},{\"attributes\":{\"fill_alpha\":{\"value\":0.1},\"fill_color\":{\"value\":\"#6d904f\"},\"line_alpha\":{\"value\":0.1},\"line_color\":{\"value\":\"#6d904f\"},\"marker\":{\"value\":\"triangle\"},\"size\":{\"units\":\"screen\",\"value\":5.477225575051661},\"x\":{\"field\":\"price_change_percentage_14d\"},\"y\":{\"field\":\"price_change_percentage_1y\"}},\"id\":\"16297\",\"type\":\"Scatter\"},{\"attributes\":{\"children\":[[{\"id\":\"16201\"},0,0],[{\"id\":\"16419\"},0,1]]},\"id\":\"16703\",\"type\":\"GridBox\"},{\"attributes\":{},\"id\":\"16219\",\"type\":\"PanTool\"},{\"attributes\":{},\"id\":\"16313\",\"type\":\"UnionRenderers\"},{\"attributes\":{},\"id\":\"16220\",\"type\":\"WheelZoomTool\"},{\"attributes\":{\"overlay\":{\"id\":\"16223\"}},\"id\":\"16221\",\"type\":\"BoxZoomTool\"},{\"attributes\":{\"axis\":{\"id\":\"16210\"},\"grid_line_color\":null,\"ticker\":null},\"id\":\"16213\",\"type\":\"Grid\"},{\"attributes\":{\"fill_alpha\":{\"value\":0.1},\"fill_color\":{\"value\":\"#30a2da\"},\"line_alpha\":{\"value\":0.1},\"line_color\":{\"value\":\"#30a2da\"},\"marker\":{\"value\":\"hex\"},\"size\":{\"units\":\"screen\",\"value\":5.477225575051661},\"x\":{\"field\":\"price_change_percentage_14d\"},\"y\":{\"field\":\"price_change_percentage_1y\"}},\"id\":\"16239\",\"type\":\"Scatter\"},{\"attributes\":{\"fill_alpha\":{\"value\":0.2},\"fill_color\":{\"value\":\"#6d904f\"},\"line_alpha\":{\"value\":0.2},\"line_color\":{\"value\":\"#6d904f\"},\"marker\":{\"value\":\"triangle\"},\"size\":{\"units\":\"screen\",\"value\":5.477225575051661},\"x\":{\"field\":\"price_change_percentage_14d\"},\"y\":{\"field\":\"price_change_percentage_1y\"}},\"id\":\"16298\",\"type\":\"Scatter\"},{\"attributes\":{\"data\":{\"coin_id\":[\"bitcoin\",\"ethereum\",\"bitcoin-cash\",\"binancecoin\",\"chainlink\",\"cardano\",\"litecoin\",\"monero\",\"tezos\",\"cosmos\",\"wrapped-bitcoin\",\"zcash\",\"maker\"],\"crypto_cluster_k5\":[1,1,1,1,1,1,1,1,1,1,1,1,1],\"price_change_percentage_14d\":{\"__ndarray__\":\"zAaZZORMGkB5knTN5DsTQIuJzce1gS1AmS8vwD46G0ALgPEMGpoiQA6EZAETOBZAgJ9x4UAoHUAbo3VUNWkyQFSM8zehkAJAQgkzbf8KFkBgWWlSCjoaQAkzbf/KKhdA/pqsUQ/R978=\",\"dtype\":\"float64\",\"order\":\"little\",\"shape\":[13]},\"price_change_percentage_1y\":{\"__ndarray__\":\"kQpjC0HCQkDXqIdodH1ZQMzpspjY/CxA5x2n6EhsUUBpOjsZHFJ0QLssJjYfg2NA+dozSwJUKcDpvMYuUaFhQOj2ksZogGFAxLZFmQ2cVECHG/D5YcRCQF/SGK2juFRAyk+qfTpOJUA=\",\"dtype\":\"float64\",\"order\":\"little\",\"shape\":[13]}},\"selected\":{\"id\":\"16472\"},\"selection_policy\":{\"id\":\"16487\"}},\"id\":\"16471\",\"type\":\"ColumnDataSource\"},{\"attributes\":{},\"id\":\"16222\",\"type\":\"ResetTool\"},{\"attributes\":{\"fill_color\":{\"value\":\"#6d904f\"},\"line_color\":{\"value\":\"#6d904f\"},\"marker\":{\"value\":\"triangle\"},\"size\":{\"units\":\"screen\",\"value\":5.477225575051661},\"x\":{\"field\":\"price_change_percentage_14d\"},\"y\":{\"field\":\"price_change_percentage_1y\"}},\"id\":\"16296\",\"type\":\"Scatter\"},{\"attributes\":{\"overlay\":{\"id\":\"16441\"}},\"id\":\"16439\",\"type\":\"BoxZoomTool\"},{\"attributes\":{\"label\":{\"value\":\"3\"},\"renderers\":[{\"id\":\"16299\"}]},\"id\":\"16315\",\"type\":\"LegendItem\"},{\"attributes\":{\"data_source\":{\"id\":\"16253\"},\"glyph\":{\"id\":\"16256\"},\"hover_glyph\":null,\"muted_glyph\":{\"id\":\"16258\"},\"nonselection_glyph\":{\"id\":\"16257\"},\"selection_glyph\":null,\"view\":{\"id\":\"16260\"}},\"id\":\"16259\",\"type\":\"GlyphRenderer\"},{\"attributes\":{\"source\":{\"id\":\"16293\"}},\"id\":\"16300\",\"type\":\"CDSView\"},{\"attributes\":{},\"id\":\"16437\",\"type\":\"PanTool\"},{\"attributes\":{\"fill_color\":{\"value\":\"#fc4f30\"},\"line_color\":{\"value\":\"#fc4f30\"},\"marker\":{\"value\":\"square\"},\"size\":{\"units\":\"screen\",\"value\":5.477225575051661},\"x\":{\"field\":\"price_change_percentage_14d\"},\"y\":{\"field\":\"price_change_percentage_1y\"}},\"id\":\"16256\",\"type\":\"Scatter\"},{\"attributes\":{\"source\":{\"id\":\"16253\"}},\"id\":\"16260\",\"type\":\"CDSView\"},{\"attributes\":{\"label\":{\"value\":\"1\"},\"renderers\":[{\"id\":\"16259\"}]},\"id\":\"16271\",\"type\":\"LegendItem\"},{\"attributes\":{},\"id\":\"16294\",\"type\":\"Selection\"},{\"attributes\":{},\"id\":\"16452\",\"type\":\"BasicTickFormatter\"},{\"attributes\":{},\"id\":\"16273\",\"type\":\"Selection\"},{\"attributes\":{\"below\":[{\"id\":\"16428\"}],\"center\":[{\"id\":\"16431\"},{\"id\":\"16435\"}],\"left\":[{\"id\":\"16432\"}],\"margin\":null,\"min_border_bottom\":10,\"min_border_left\":10,\"min_border_right\":10,\"min_border_top\":10,\"plot_height\":300,\"plot_width\":700,\"renderers\":[{\"id\":\"16459\"},{\"id\":\"16477\"},{\"id\":\"16496\"},{\"id\":\"16517\"},{\"id\":\"16540\"}],\"right\":[{\"id\":\"16469\"}],\"sizing_mode\":\"fixed\",\"title\":{\"id\":\"16420\"},\"toolbar\":{\"id\":\"16442\"},\"toolbar_location\":null,\"x_range\":{\"id\":\"16195\"},\"x_scale\":{\"id\":\"16424\"},\"y_range\":{\"id\":\"16196\"},\"y_scale\":{\"id\":\"16426\"}},\"id\":\"16419\",\"subtype\":\"Figure\",\"type\":\"Plot\"},{\"attributes\":{\"fill_alpha\":{\"value\":0.2},\"fill_color\":{\"value\":\"#fc4f30\"},\"line_alpha\":{\"value\":0.2},\"line_color\":{\"value\":\"#fc4f30\"},\"marker\":{\"value\":\"square\"},\"size\":{\"units\":\"screen\",\"value\":5.477225575051661},\"x\":{\"field\":\"price_change_percentage_14d\"},\"y\":{\"field\":\"price_change_percentage_1y\"}},\"id\":\"16258\",\"type\":\"Scatter\"},{\"attributes\":{\"bottom_units\":\"screen\",\"fill_alpha\":0.5,\"fill_color\":\"lightgrey\",\"left_units\":\"screen\",\"level\":\"overlay\",\"line_alpha\":1.0,\"line_color\":\"black\",\"line_dash\":[4,4],\"line_width\":2,\"right_units\":\"screen\",\"top_units\":\"screen\"},\"id\":\"16223\",\"type\":\"BoxAnnotation\"},{\"attributes\":{\"data\":{\"coin_id\":[\"ethlend\"],\"crypto_cluster_k4\":[1],\"price_change_percentage_14d\":{\"__ndarray__\":\"RIts5/uZI8A=\",\"dtype\":\"float64\",\"order\":\"little\",\"shape\":[1]},\"price_change_percentage_1y\":{\"__ndarray__\":\"dEaU9hasvkA=\",\"dtype\":\"float64\",\"order\":\"little\",\"shape\":[1]}},\"selected\":{\"id\":\"16254\"},\"selection_policy\":{\"id\":\"16269\"}},\"id\":\"16253\",\"type\":\"ColumnDataSource\"},{\"attributes\":{},\"id\":\"16254\",\"type\":\"Selection\"},{\"attributes\":{},\"id\":\"16236\",\"type\":\"Selection\"},{\"attributes\":{},\"id\":\"16450\",\"type\":\"BasicTickFormatter\"},{\"attributes\":{},\"id\":\"16211\",\"type\":\"BasicTicker\"},{\"attributes\":{\"data\":{\"coin_id\":[\"celsius-degree-token\"],\"crypto_cluster_k5\":[2],\"price_change_percentage_14d\":{\"__ndarray__\":\"vodLjjs9OEA=\",\"dtype\":\"float64\",\"order\":\"little\",\"shape\":[1]},\"price_change_percentage_1y\":{\"__ndarray__\":\"nFCIgONmn0A=\",\"dtype\":\"float64\",\"order\":\"little\",\"shape\":[1]}},\"selected\":{\"id\":\"16491\"},\"selection_policy\":{\"id\":\"16508\"}},\"id\":\"16490\",\"type\":\"ColumnDataSource\"},{\"attributes\":{},\"id\":\"16234\",\"type\":\"BasicTickFormatter\"},{\"attributes\":{},\"id\":\"16232\",\"type\":\"BasicTickFormatter\"},{\"attributes\":{\"data\":{\"coin_id\":[\"tether\",\"ripple\",\"bitcoin-cash-sv\",\"crypto-com-chain\",\"usd-coin\",\"eos\",\"tron\",\"okb\",\"stellar\",\"cdai\",\"neo\",\"leo-token\",\"huobi-token\",\"nem\",\"binance-usd\",\"iota\",\"vechain\",\"dash\",\"ethereum-classic\",\"havven\",\"omisego\",\"ontology\",\"ftx-token\",\"true-usd\",\"digibyte\"],\"crypto_cluster_k5\":[0,0,0,0,0,0,0,0,0,0,0,0,0,0,0,0,0,0,0,0,0,0,0,0,0],\"price_change_percentage_14d\":{\"__ndarray__\":\"LUMc6+I2ej9z3CkdrP8BQCBZwARu3f2/MrH5uDYUIcBqSNxj6UN3v6X3ja89M/I/FQDjGTR09j+WrfVFQhsUwKpla32RUPG/z4O7s3bbxT/DDfj8MLIjwHb4a7JGHRzAza/mAMEc3T+PWItPATAFQNatnpPeN64/uk4jLZU3DsCbVZ+rrSgywEBNLVvri+A/TbnCu1xE9L8vaYzWUZUqwDtT6LzGbirAclDCTNsfJcCd9L7xtWfKv2QjEK/rF7w/uw9AahNHHcA=\",\"dtype\":\"float64\",\"order\":\"little\",\"shape\":[25]},\"price_change_percentage_1y\":{\"__ndarray__\":\"4PjaM0sClD81e6AVGJowwNDQP8HFbldAkL3e/fEQc0C+MJkqGJXIv7Z/ZaVJkTHAQspPqn2eTUBdUN8yp75hQMzuycNCnStACLEzhc5r0r8f9GxWfWlgQA39E1ysADVA3xXB/1aSOEBLsDic+RZpQBVSflLt08E/NiTusfThD8AiwyreyFtpQM7Cnnb4qwPA8KKvIM04JkDfiVkvRjaFQEfJq3MMC3RArFYm/FJPKcDbbRea6wtlQMlxp3Sw/tk/2HxcGyoMZ0A=\",\"dtype\":\"float64\",\"order\":\"little\",\"shape\":[25]}},\"selected\":{\"id\":\"16454\"},\"selection_policy\":{\"id\":\"16467\"}},\"id\":\"16453\",\"type\":\"ColumnDataSource\"},{\"attributes\":{},\"id\":\"16424\",\"type\":\"LinearScale\"},{\"attributes\":{\"source\":{\"id\":\"16235\"}},\"id\":\"16242\",\"type\":\"CDSView\"},{\"attributes\":{\"data_source\":{\"id\":\"16235\"},\"glyph\":{\"id\":\"16238\"},\"hover_glyph\":null,\"muted_glyph\":{\"id\":\"16240\"},\"nonselection_glyph\":{\"id\":\"16239\"},\"selection_glyph\":null,\"view\":{\"id\":\"16242\"}},\"id\":\"16241\",\"type\":\"GlyphRenderer\"},{\"attributes\":{\"text\":\"Price Change Percentage 14 day vs 1 year by Principal Component (k=4)\",\"text_color\":{\"value\":\"black\"},\"text_font_size\":{\"value\":\"12pt\"}},\"id\":\"16202\",\"type\":\"Title\"},{\"attributes\":{\"data_source\":{\"id\":\"16453\"},\"glyph\":{\"id\":\"16456\"},\"hover_glyph\":null,\"muted_glyph\":{\"id\":\"16458\"},\"nonselection_glyph\":{\"id\":\"16457\"},\"selection_glyph\":null,\"view\":{\"id\":\"16460\"}},\"id\":\"16459\",\"type\":\"GlyphRenderer\"},{\"attributes\":{},\"id\":\"16269\",\"type\":\"UnionRenderers\"},{\"attributes\":{\"children\":[{\"id\":\"16194\"},{\"id\":\"16706\"},{\"id\":\"16977\"}],\"margin\":[0,0,0,0],\"name\":\"Row35598\",\"tags\":[\"embedded\"]},\"id\":\"16193\",\"type\":\"Row\"},{\"attributes\":{},\"id\":\"16206\",\"type\":\"LinearScale\"},{\"attributes\":{},\"id\":\"16249\",\"type\":\"UnionRenderers\"},{\"attributes\":{\"below\":[{\"id\":\"16210\"}],\"center\":[{\"id\":\"16213\"},{\"id\":\"16217\"}],\"left\":[{\"id\":\"16214\"}],\"margin\":null,\"min_border_bottom\":10,\"min_border_left\":10,\"min_border_right\":10,\"min_border_top\":10,\"plot_height\":300,\"plot_width\":700,\"renderers\":[{\"id\":\"16241\"},{\"id\":\"16259\"},{\"id\":\"16278\"},{\"id\":\"16299\"}],\"right\":[{\"id\":\"16251\"}],\"sizing_mode\":\"fixed\",\"title\":{\"id\":\"16202\"},\"toolbar\":{\"id\":\"16224\"},\"toolbar_location\":null,\"x_range\":{\"id\":\"16195\"},\"x_scale\":{\"id\":\"16206\"},\"y_range\":{\"id\":\"16196\"},\"y_scale\":{\"id\":\"16208\"}},\"id\":\"16201\",\"subtype\":\"Figure\",\"type\":\"Plot\"},{\"attributes\":{\"end\":26.056251,\"reset_end\":26.056251,\"reset_start\":-19.975960999999998,\"start\":-19.975960999999998,\"tags\":[[[\"price_change_percentage_14d\",\"price_change_percentage_14d\",null]]]},\"id\":\"16195\",\"type\":\"Range1d\"},{\"attributes\":{\"fill_alpha\":{\"value\":0.1},\"fill_color\":{\"value\":\"#30a2da\"},\"line_alpha\":{\"value\":0.1},\"line_color\":{\"value\":\"#30a2da\"},\"marker\":{\"value\":\"hex\"},\"size\":{\"units\":\"screen\",\"value\":5.477225575051661},\"x\":{\"field\":\"price_change_percentage_14d\"},\"y\":{\"field\":\"price_change_percentage_1y\"}},\"id\":\"16457\",\"type\":\"Scatter\"},{\"attributes\":{\"end\":8639.055423,\"reset_end\":8639.055423,\"reset_start\":-804.5332530000002,\"start\":-804.5332530000002,\"tags\":[[[\"price_change_percentage_1y\",\"price_change_percentage_1y\",null]]]},\"id\":\"16196\",\"type\":\"Range1d\"},{\"attributes\":{\"label\":{\"value\":\"0\"},\"renderers\":[{\"id\":\"16241\"}]},\"id\":\"16252\",\"type\":\"LegendItem\"},{\"attributes\":{\"source\":{\"id\":\"16453\"}},\"id\":\"16460\",\"type\":\"CDSView\"},{\"attributes\":{\"fill_alpha\":{\"value\":0.1},\"fill_color\":{\"value\":\"#fc4f30\"},\"line_alpha\":{\"value\":0.1},\"line_color\":{\"value\":\"#fc4f30\"},\"marker\":{\"value\":\"square\"},\"size\":{\"units\":\"screen\",\"value\":5.477225575051661},\"x\":{\"field\":\"price_change_percentage_14d\"},\"y\":{\"field\":\"price_change_percentage_1y\"}},\"id\":\"16257\",\"type\":\"Scatter\"},{\"attributes\":{},\"id\":\"16491\",\"type\":\"Selection\"},{\"attributes\":{},\"id\":\"16208\",\"type\":\"LinearScale\"},{\"attributes\":{\"data\":{\"coin_id\":[\"bitcoin\",\"ethereum\",\"bitcoin-cash\",\"binancecoin\",\"chainlink\",\"cardano\",\"litecoin\",\"monero\",\"tezos\",\"cosmos\",\"wrapped-bitcoin\",\"zcash\",\"maker\"],\"crypto_cluster_k4\":[3,3,3,3,3,3,3,3,3,3,3,3,3],\"price_change_percentage_14d\":{\"__ndarray__\":\"zAaZZORMGkB5knTN5DsTQIuJzce1gS1AmS8vwD46G0ALgPEMGpoiQA6EZAETOBZAgJ9x4UAoHUAbo3VUNWkyQFSM8zehkAJAQgkzbf8KFkBgWWlSCjoaQAkzbf/KKhdA/pqsUQ/R978=\",\"dtype\":\"float64\",\"order\":\"little\",\"shape\":[13]},\"price_change_percentage_1y\":{\"__ndarray__\":\"kQpjC0HCQkDXqIdodH1ZQMzpspjY/CxA5x2n6EhsUUBpOjsZHFJ0QLssJjYfg2NA+dozSwJUKcDpvMYuUaFhQOj2ksZogGFAxLZFmQ2cVECHG/D5YcRCQF/SGK2juFRAyk+qfTpOJUA=\",\"dtype\":\"float64\",\"order\":\"little\",\"shape\":[13]}},\"selected\":{\"id\":\"16294\"},\"selection_policy\":{\"id\":\"16313\"}},\"id\":\"16293\",\"type\":\"ColumnDataSource\"},{\"attributes\":{\"fill_alpha\":{\"value\":0.2},\"fill_color\":{\"value\":\"#30a2da\"},\"line_alpha\":{\"value\":0.2},\"line_color\":{\"value\":\"#30a2da\"},\"marker\":{\"value\":\"hex\"},\"size\":{\"units\":\"screen\",\"value\":5.477225575051661},\"x\":{\"field\":\"price_change_percentage_14d\"},\"y\":{\"field\":\"price_change_percentage_1y\"}},\"id\":\"16458\",\"type\":\"Scatter\"},{\"attributes\":{\"text\":\"Price Change Percentage 14 day vs 1 year by Principal Component (k=5)\",\"text_color\":{\"value\":\"black\"},\"text_font_size\":{\"value\":\"12pt\"}},\"id\":\"16420\",\"type\":\"Title\"},{\"attributes\":{\"data\":{\"coin_id\":[\"tether\",\"ripple\",\"bitcoin-cash-sv\",\"crypto-com-chain\",\"usd-coin\",\"eos\",\"tron\",\"okb\",\"stellar\",\"cdai\",\"neo\",\"leo-token\",\"huobi-token\",\"nem\",\"binance-usd\",\"iota\",\"vechain\",\"theta-token\",\"dash\",\"ethereum-classic\",\"havven\",\"omisego\",\"ontology\",\"ftx-token\",\"true-usd\",\"digibyte\"],\"crypto_cluster_k4\":[0,0,0,0,0,0,0,0,0,0,0,0,0,0,0,0,0,0,0,0,0,0,0,0,0,0],\"price_change_percentage_14d\":{\"__ndarray__\":\"LUMc6+I2ej9z3CkdrP8BQCBZwARu3f2/MrH5uDYUIcBqSNxj6UN3v6X3ja89M/I/FQDjGTR09j+WrfVFQhsUwKpla32RUPG/z4O7s3bbxT/DDfj8MLIjwHb4a7JGHRzAza/mAMEc3T+PWItPATAFQNatnpPeN64/uk4jLZU3DsCbVZ+rrSgywJbK2xFOSxrAQE0tW+uL4D9NucK7XET0vy9pjNZRlSrAO1PovMZuKsByUMJM2x8lwJ30vvG1Z8q/ZCMQr+sXvD+7D0BqE0cdwA==\",\"dtype\":\"float64\",\"order\":\"little\",\"shape\":[26]},\"price_change_percentage_1y\":{\"__ndarray__\":\"4PjaM0sClD81e6AVGJowwNDQP8HFbldAkL3e/fEQc0C+MJkqGJXIv7Z/ZaVJkTHAQspPqn2eTUBdUN8yp75hQMzuycNCnStACLEzhc5r0r8f9GxWfWlgQA39E1ysADVA3xXB/1aSOEBLsDic+RZpQBVSflLt08E/NiTusfThD8AiwyreyFtpQPyMCwcC64VAzsKedvirA8Dwoq8gzTgmQN+JWS9GNoVAR8mrcwwLdECsVib8Uk8pwNttF5rrC2VAyXGndLD+2T/YfFwbKgxnQA==\",\"dtype\":\"float64\",\"order\":\"little\",\"shape\":[26]}},\"selected\":{\"id\":\"16236\"},\"selection_policy\":{\"id\":\"16249\"}},\"id\":\"16235\",\"type\":\"ColumnDataSource\"},{\"attributes\":{\"callback\":null,\"renderers\":[{\"id\":\"16241\"},{\"id\":\"16259\"},{\"id\":\"16278\"},{\"id\":\"16299\"}],\"tags\":[\"hv_created\"],\"tooltips\":[[\"crypto_cluster_k4\",\"@{crypto_cluster_k4}\"],[\"price_change_percentage_14d\",\"@{price_change_percentage_14d}\"],[\"price_change_percentage_1y\",\"@{price_change_percentage_1y}\"],[\"coin_id\",\"@{coin_id}\"]]},\"id\":\"16197\",\"type\":\"HoverTool\"},{\"attributes\":{\"fill_color\":{\"value\":\"#30a2da\"},\"line_color\":{\"value\":\"#30a2da\"},\"marker\":{\"value\":\"hex\"},\"size\":{\"units\":\"screen\",\"value\":5.477225575051661},\"x\":{\"field\":\"price_change_percentage_14d\"},\"y\":{\"field\":\"price_change_percentage_1y\"}},\"id\":\"16456\",\"type\":\"Scatter\"},{\"attributes\":{\"fill_color\":{\"value\":\"#e5ae38\"},\"line_color\":{\"value\":\"#e5ae38\"},\"marker\":{\"value\":\"inverted_triangle\"},\"size\":{\"units\":\"screen\",\"value\":5.477225575051661},\"x\":{\"field\":\"price_change_percentage_14d\"},\"y\":{\"field\":\"price_change_percentage_1y\"}},\"id\":\"16275\",\"type\":\"Scatter\"},{\"attributes\":{\"axis_label\":\"price_change_percentage_14d\",\"bounds\":\"auto\",\"formatter\":{\"id\":\"16232\"},\"major_label_orientation\":\"horizontal\",\"ticker\":{\"id\":\"16211\"}},\"id\":\"16210\",\"type\":\"LinearAxis\"},{\"attributes\":{\"margin\":[5,5,5,5],\"name\":\"HSpacer35602\",\"sizing_mode\":\"stretch_width\"},\"id\":\"16194\",\"type\":\"Spacer\"},{\"attributes\":{},\"id\":\"16487\",\"type\":\"UnionRenderers\"},{\"attributes\":{\"label\":{\"value\":\"1\"},\"renderers\":[{\"id\":\"16477\"}]},\"id\":\"16489\",\"type\":\"LegendItem\"},{\"attributes\":{},\"id\":\"16429\",\"type\":\"BasicTicker\"},{\"attributes\":{\"axis\":{\"id\":\"16428\"},\"grid_line_color\":null,\"ticker\":null},\"id\":\"16431\",\"type\":\"Grid\"},{\"attributes\":{\"fill_alpha\":{\"value\":0.2},\"fill_color\":{\"value\":\"#fc4f30\"},\"line_alpha\":{\"value\":0.2},\"line_color\":{\"value\":\"#fc4f30\"},\"marker\":{\"value\":\"square\"},\"size\":{\"units\":\"screen\",\"value\":5.477225575051661},\"x\":{\"field\":\"price_change_percentage_14d\"},\"y\":{\"field\":\"price_change_percentage_1y\"}},\"id\":\"16476\",\"type\":\"Scatter\"},{\"attributes\":{\"axis\":{\"id\":\"16432\"},\"dimension\":1,\"grid_line_color\":null,\"ticker\":null},\"id\":\"16435\",\"type\":\"Grid\"},{\"attributes\":{\"label\":{\"value\":\"3\"},\"renderers\":[{\"id\":\"16517\"}]},\"id\":\"16533\",\"type\":\"LegendItem\"},{\"attributes\":{\"data_source\":{\"id\":\"16511\"},\"glyph\":{\"id\":\"16514\"},\"hover_glyph\":null,\"muted_glyph\":{\"id\":\"16516\"},\"nonselection_glyph\":{\"id\":\"16515\"},\"selection_glyph\":null,\"view\":{\"id\":\"16518\"}},\"id\":\"16517\",\"type\":\"GlyphRenderer\"},{\"attributes\":{\"axis_label\":\"price_change_percentage_14d\",\"bounds\":\"auto\",\"formatter\":{\"id\":\"16450\"},\"major_label_orientation\":\"horizontal\",\"ticker\":{\"id\":\"16429\"}},\"id\":\"16428\",\"type\":\"LinearAxis\"},{\"attributes\":{},\"id\":\"16426\",\"type\":\"LinearScale\"},{\"attributes\":{},\"id\":\"16531\",\"type\":\"UnionRenderers\"},{\"attributes\":{\"fill_alpha\":{\"value\":0.1},\"fill_color\":{\"value\":\"#6d904f\"},\"line_alpha\":{\"value\":0.1},\"line_color\":{\"value\":\"#6d904f\"},\"marker\":{\"value\":\"cross\"},\"size\":{\"units\":\"screen\",\"value\":5.477225575051661},\"x\":{\"field\":\"price_change_percentage_14d\"},\"y\":{\"field\":\"price_change_percentage_1y\"}},\"id\":\"16515\",\"type\":\"Scatter\"},{\"attributes\":{},\"id\":\"16433\",\"type\":\"BasicTicker\"},{\"attributes\":{\"fill_alpha\":{\"value\":0.2},\"fill_color\":{\"value\":\"#6d904f\"},\"line_alpha\":{\"value\":0.2},\"line_color\":{\"value\":\"#6d904f\"},\"marker\":{\"value\":\"cross\"},\"size\":{\"units\":\"screen\",\"value\":5.477225575051661},\"x\":{\"field\":\"price_change_percentage_14d\"},\"y\":{\"field\":\"price_change_percentage_1y\"}},\"id\":\"16516\",\"type\":\"Scatter\"},{\"attributes\":{\"axis_label\":\"price_change_percentage_1y\",\"bounds\":\"auto\",\"formatter\":{\"id\":\"16452\"},\"major_label_orientation\":\"horizontal\",\"ticker\":{\"id\":\"16433\"}},\"id\":\"16432\",\"type\":\"LinearAxis\"},{\"attributes\":{\"label\":{\"value\":\"0\"},\"renderers\":[{\"id\":\"16459\"}]},\"id\":\"16470\",\"type\":\"LegendItem\"},{\"attributes\":{\"source\":{\"id\":\"16534\"}},\"id\":\"16541\",\"type\":\"CDSView\"},{\"attributes\":{\"data_source\":{\"id\":\"16471\"},\"glyph\":{\"id\":\"16474\"},\"hover_glyph\":null,\"muted_glyph\":{\"id\":\"16476\"},\"nonselection_glyph\":{\"id\":\"16475\"},\"selection_glyph\":null,\"view\":{\"id\":\"16478\"}},\"id\":\"16477\",\"type\":\"GlyphRenderer\"},{\"attributes\":{\"source\":{\"id\":\"16511\"}},\"id\":\"16518\",\"type\":\"CDSView\"},{\"attributes\":{\"active_drag\":\"auto\",\"active_inspect\":\"auto\",\"active_multi\":null,\"active_scroll\":\"auto\",\"active_tap\":\"auto\",\"tools\":[{\"id\":\"16414\"},{\"id\":\"16436\"},{\"id\":\"16437\"},{\"id\":\"16438\"},{\"id\":\"16439\"},{\"id\":\"16440\"}]},\"id\":\"16442\",\"type\":\"Toolbar\"},{\"attributes\":{\"fill_color\":{\"value\":\"#6d904f\"},\"line_color\":{\"value\":\"#6d904f\"},\"marker\":{\"value\":\"cross\"},\"size\":{\"units\":\"screen\",\"value\":5.477225575051661},\"x\":{\"field\":\"price_change_percentage_14d\"},\"y\":{\"field\":\"price_change_percentage_1y\"}},\"id\":\"16514\",\"type\":\"Scatter\"},{\"attributes\":{},\"id\":\"16467\",\"type\":\"UnionRenderers\"},{\"attributes\":{},\"id\":\"16436\",\"type\":\"SaveTool\"},{\"attributes\":{},\"id\":\"16535\",\"type\":\"Selection\"},{\"attributes\":{\"click_policy\":\"mute\",\"items\":[{\"id\":\"16470\"},{\"id\":\"16489\"},{\"id\":\"16510\"},{\"id\":\"16533\"},{\"id\":\"16558\"}],\"location\":[0,0],\"title\":\"crypto_cluster_k5\"},\"id\":\"16469\",\"type\":\"Legend\"},{\"attributes\":{},\"id\":\"16440\",\"type\":\"ResetTool\"},{\"attributes\":{\"data_source\":{\"id\":\"16534\"},\"glyph\":{\"id\":\"16537\"},\"hover_glyph\":null,\"muted_glyph\":{\"id\":\"16539\"},\"nonselection_glyph\":{\"id\":\"16538\"},\"selection_glyph\":null,\"view\":{\"id\":\"16541\"}},\"id\":\"16540\",\"type\":\"GlyphRenderer\"},{\"attributes\":{\"data_source\":{\"id\":\"16490\"},\"glyph\":{\"id\":\"16493\"},\"hover_glyph\":null,\"muted_glyph\":{\"id\":\"16495\"},\"nonselection_glyph\":{\"id\":\"16494\"},\"selection_glyph\":null,\"view\":{\"id\":\"16497\"}},\"id\":\"16496\",\"type\":\"GlyphRenderer\"},{\"attributes\":{\"fill_alpha\":{\"value\":0.2},\"fill_color\":{\"value\":\"#8b8b8b\"},\"line_alpha\":{\"value\":0.2},\"line_color\":{\"value\":\"#8b8b8b\"},\"marker\":{\"value\":\"triangle\"},\"size\":{\"units\":\"screen\",\"value\":5.477225575051661},\"x\":{\"field\":\"price_change_percentage_14d\"},\"y\":{\"field\":\"price_change_percentage_1y\"}},\"id\":\"16539\",\"type\":\"Scatter\"},{\"attributes\":{\"data\":{\"coin_id\":[\"ethlend\"],\"crypto_cluster_k5\":[3],\"price_change_percentage_14d\":{\"__ndarray__\":\"RIts5/uZI8A=\",\"dtype\":\"float64\",\"order\":\"little\",\"shape\":[1]},\"price_change_percentage_1y\":{\"__ndarray__\":\"dEaU9hasvkA=\",\"dtype\":\"float64\",\"order\":\"little\",\"shape\":[1]}},\"selected\":{\"id\":\"16512\"},\"selection_policy\":{\"id\":\"16531\"}},\"id\":\"16511\",\"type\":\"ColumnDataSource\"},{\"attributes\":{\"source\":{\"id\":\"16490\"}},\"id\":\"16497\",\"type\":\"CDSView\"},{\"attributes\":{\"label\":{\"value\":\"2\"},\"renderers\":[{\"id\":\"16496\"}]},\"id\":\"16510\",\"type\":\"LegendItem\"},{\"attributes\":{\"fill_alpha\":{\"value\":0.1},\"fill_color\":{\"value\":\"#8b8b8b\"},\"line_alpha\":{\"value\":0.1},\"line_color\":{\"value\":\"#8b8b8b\"},\"marker\":{\"value\":\"triangle\"},\"size\":{\"units\":\"screen\",\"value\":5.477225575051661},\"x\":{\"field\":\"price_change_percentage_14d\"},\"y\":{\"field\":\"price_change_percentage_1y\"}},\"id\":\"16538\",\"type\":\"Scatter\"},{\"attributes\":{},\"id\":\"16512\",\"type\":\"Selection\"},{\"attributes\":{\"fill_color\":{\"value\":\"#e5ae38\"},\"line_color\":{\"value\":\"#e5ae38\"},\"marker\":{\"value\":\"inverted_triangle\"},\"size\":{\"units\":\"screen\",\"value\":5.477225575051661},\"x\":{\"field\":\"price_change_percentage_14d\"},\"y\":{\"field\":\"price_change_percentage_1y\"}},\"id\":\"16493\",\"type\":\"Scatter\"},{\"attributes\":{\"fill_color\":{\"value\":\"#8b8b8b\"},\"line_color\":{\"value\":\"#8b8b8b\"},\"marker\":{\"value\":\"triangle\"},\"size\":{\"units\":\"screen\",\"value\":5.477225575051661},\"x\":{\"field\":\"price_change_percentage_14d\"},\"y\":{\"field\":\"price_change_percentage_1y\"}},\"id\":\"16537\",\"type\":\"Scatter\"},{\"attributes\":{},\"id\":\"16508\",\"type\":\"UnionRenderers\"},{\"attributes\":{\"fill_alpha\":{\"value\":0.1},\"fill_color\":{\"value\":\"#e5ae38\"},\"line_alpha\":{\"value\":0.1},\"line_color\":{\"value\":\"#e5ae38\"},\"marker\":{\"value\":\"inverted_triangle\"},\"size\":{\"units\":\"screen\",\"value\":5.477225575051661},\"x\":{\"field\":\"price_change_percentage_14d\"},\"y\":{\"field\":\"price_change_percentage_1y\"}},\"id\":\"16494\",\"type\":\"Scatter\"},{\"attributes\":{\"bottom_units\":\"screen\",\"fill_alpha\":0.5,\"fill_color\":\"lightgrey\",\"left_units\":\"screen\",\"level\":\"overlay\",\"line_alpha\":1.0,\"line_color\":\"black\",\"line_dash\":[4,4],\"line_width\":2,\"right_units\":\"screen\",\"top_units\":\"screen\"},\"id\":\"16441\",\"type\":\"BoxAnnotation\"},{\"attributes\":{\"label\":{\"value\":\"4\"},\"renderers\":[{\"id\":\"16540\"}]},\"id\":\"16558\",\"type\":\"LegendItem\"},{\"attributes\":{},\"id\":\"16556\",\"type\":\"UnionRenderers\"},{\"attributes\":{\"fill_alpha\":{\"value\":0.1},\"fill_color\":{\"value\":\"#fc4f30\"},\"line_alpha\":{\"value\":0.1},\"line_color\":{\"value\":\"#fc4f30\"},\"marker\":{\"value\":\"square\"},\"size\":{\"units\":\"screen\",\"value\":5.477225575051661},\"x\":{\"field\":\"price_change_percentage_14d\"},\"y\":{\"field\":\"price_change_percentage_1y\"}},\"id\":\"16475\",\"type\":\"Scatter\"},{\"attributes\":{\"toolbars\":[{\"id\":\"16224\"},{\"id\":\"16442\"}],\"tools\":[{\"id\":\"16197\"},{\"id\":\"16218\"},{\"id\":\"16219\"},{\"id\":\"16220\"},{\"id\":\"16221\"},{\"id\":\"16222\"},{\"id\":\"16414\"},{\"id\":\"16436\"},{\"id\":\"16437\"},{\"id\":\"16438\"},{\"id\":\"16439\"},{\"id\":\"16440\"}]},\"id\":\"16704\",\"type\":\"ProxyToolbar\"},{\"attributes\":{\"source\":{\"id\":\"16471\"}},\"id\":\"16478\",\"type\":\"CDSView\"},{\"attributes\":{\"margin\":[5,5,5,5],\"name\":\"HSpacer35603\",\"sizing_mode\":\"stretch_width\"},\"id\":\"16977\",\"type\":\"Spacer\"},{\"attributes\":{\"toolbar\":{\"id\":\"16704\"},\"toolbar_location\":\"above\"},\"id\":\"16705\",\"type\":\"ToolbarBox\"},{\"attributes\":{},\"id\":\"16472\",\"type\":\"Selection\"},{\"attributes\":{\"fill_alpha\":{\"value\":0.2},\"fill_color\":{\"value\":\"#e5ae38\"},\"line_alpha\":{\"value\":0.2},\"line_color\":{\"value\":\"#e5ae38\"},\"marker\":{\"value\":\"inverted_triangle\"},\"size\":{\"units\":\"screen\",\"value\":5.477225575051661},\"x\":{\"field\":\"price_change_percentage_14d\"},\"y\":{\"field\":\"price_change_percentage_1y\"}},\"id\":\"16495\",\"type\":\"Scatter\"},{\"attributes\":{\"fill_color\":{\"value\":\"#fc4f30\"},\"line_color\":{\"value\":\"#fc4f30\"},\"marker\":{\"value\":\"square\"},\"size\":{\"units\":\"screen\",\"value\":5.477225575051661},\"x\":{\"field\":\"price_change_percentage_14d\"},\"y\":{\"field\":\"price_change_percentage_1y\"}},\"id\":\"16474\",\"type\":\"Scatter\"},{\"attributes\":{\"children\":[{\"id\":\"16705\"},{\"id\":\"16703\"}]},\"id\":\"16706\",\"type\":\"Column\"}],\"root_ids\":[\"16193\"]},\"title\":\"Bokeh Application\",\"version\":\"2.2.3\"}};\n",
       "    var render_items = [{\"docid\":\"8ae85859-287f-4c41-b4e3-bef79d5fc64f\",\"root_ids\":[\"16193\"],\"roots\":{\"16193\":\"8df17161-aab0-46d2-ad5d-7475e96b698d\"}}];\n",
       "    root.Bokeh.embed.embed_items_notebook(docs_json, render_items);\n",
       "  }\n",
       "  if (root.Bokeh !== undefined && root.Bokeh.Panel !== undefined) {\n",
       "    embed_document(root);\n",
       "  } else {\n",
       "    var attempts = 0;\n",
       "    var timer = setInterval(function(root) {\n",
       "      if (root.Bokeh !== undefined && root.Bokeh.Panel !== undefined) {\n",
       "        clearInterval(timer);\n",
       "        embed_document(root);\n",
       "      } else if (document.readyState == \"complete\") {\n",
       "        attempts++;\n",
       "        if (attempts > 100) {\n",
       "          clearInterval(timer);\n",
       "          console.log(\"Bokeh: ERROR: Unable to run BokehJS code because BokehJS library is missing\");\n",
       "        }\n",
       "      }\n",
       "    }, 10, root)\n",
       "  }\n",
       "})(window);</script>"
      ],
      "text/plain": [
       ":Layout\n",
       "   .NdOverlay.I  :NdOverlay   [crypto_cluster_k4]\n",
       "      :Scatter   [price_change_percentage_14d]   (price_change_percentage_1y,coin_id)\n",
       "   .NdOverlay.II :NdOverlay   [crypto_cluster_k5]\n",
       "      :Scatter   [price_change_percentage_14d]   (price_change_percentage_1y,coin_id)"
      ]
     },
     "execution_count": 133,
     "metadata": {
      "application/vnd.holoviews_exec.v0+json": {
       "id": "16193"
      }
     },
     "output_type": "execute_result"
    }
   ],
   "source": [
    "# Compare both scatter plots\n",
    "scatter_plot_k4 + scatter_plot_k5"
   ]
  },
  {
   "cell_type": "markdown",
   "metadata": {},
   "source": [
    "Answer the following question: What value of k creates the most accurate clusters of cryptocurrencies, grouped by profitability?\n",
    "\n",
    "**Question:** What value of `k` seems to create the most accurate clusters to group cryptocurrencies according to their profitability?\n",
    "\n",
    "**Answer:** Based on these scatter plots, the value k=4 seems to create the most accuate clusters to group cryptocurrencies according to profitability. Adding a fifth cluster only takes one datapoint into the new cluster, and that point is very close to others in the same area of the plot."
   ]
  },
  {
   "cell_type": "code",
   "execution_count": null,
   "metadata": {},
   "outputs": [],
   "source": []
  }
 ],
 "metadata": {
  "kernelspec": {
   "display_name": "Python 3",
   "language": "python",
   "name": "python3"
  },
  "language_info": {
   "codemirror_mode": {
    "name": "ipython",
    "version": 3
   },
   "file_extension": ".py",
   "mimetype": "text/x-python",
   "name": "python",
   "nbconvert_exporter": "python",
   "pygments_lexer": "ipython3",
   "version": "3.7.9"
  }
 },
 "nbformat": 4,
 "nbformat_minor": 4
}
